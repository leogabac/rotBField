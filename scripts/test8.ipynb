{
 "cells": [
  {
   "cell_type": "markdown",
   "metadata": {},
   "source": [
    "# Test 8\n",
    "\n",
    "Evolution of GS from SA :  8mT for 60s.\n"
   ]
  },
  {
   "cell_type": "code",
   "execution_count": null,
   "metadata": {},
   "outputs": [],
   "source": [
    "import os\n",
    "import sys\n",
    "\n",
    "import numpy as np\n",
    "import pandas as pd\n",
    "import random\n",
    "from math import isclose\n",
    "\n",
    "import warnings\n",
    "warnings.simplefilter(action='ignore', category=FutureWarning) # Ignore some messages from pandas\n",
    "\n",
    "from tqdm import tqdm\n",
    "import matplotlib.pyplot as plt\n",
    "\n",
    "sys.path.insert(0, '../icenumerics/')\n",
    "import icenumerics as ice\n",
    "from auxiliary import *\n",
    "from montecarlo_tools import *\n",
    "\n",
    "ureg = ice.ureg\n",
    "\n",
    "%reload_ext autoreload\n",
    "%autoreload 2\n",
    "\n",
    "idx = pd.IndexSlice"
   ]
  },
  {
   "cell_type": "code",
   "execution_count": null,
   "metadata": {},
   "outputs": [],
   "source": [
    "plt.rcParams['text.usetex'] = True\n",
    "plt.rcParams['font.family'] = 'serif'"
   ]
  },
  {
   "cell_type": "markdown",
   "metadata": {},
   "source": [
    "# Running the simulations"
   ]
  },
  {
   "cell_type": "code",
   "execution_count": null,
   "metadata": {},
   "outputs": [],
   "source": [
    "def getSimulation():\n",
    "    sp = ice.spins()\n",
    "\n",
    "    # Initialize some parameters\n",
    "    trapSep = 10*ureg.um\n",
    "    particleRadius = 5*ureg.um\n",
    "    totalTime = 60*ureg.s\n",
    "    framespersec = 20*ureg.Hz;\n",
    "    dt = 10*ureg.ms\n",
    "\n",
    "    L = 30*ureg.um\n",
    "    N = 10\n",
    "\n",
    "    # Create simulation objects\n",
    "    sp.create_lattice(\"square\",[N,N],lattice_constant=L, border=\"periodic\")\n",
    "\n",
    "    particle = ice.particle(radius = particleRadius,\n",
    "                susceptibility = 0.0576,\n",
    "                diffusion = 0.125*ureg.um**2/ureg.s,\n",
    "                temperature = 300*ureg.K,\n",
    "                density = 1000*ureg.kg/ureg.m**3)\n",
    "\n",
    "    trap = ice.trap(trap_sep = trapSep,\n",
    "                height = 4*ureg.pN*ureg.nm,\n",
    "                stiffness = 1e-3*ureg.pN/ureg.nm)\n",
    "    \n",
    "\n",
    "    # Load the GS and prepare the colloidal ice object from that\n",
    "    gs_ctrj = pd.read_csv(\"../data/gs90deg.csv\",index_col=0)\n",
    "\n",
    "    col = get_colloids_from_ctrj(gs_ctrj,particle,trap)\n",
    "\n",
    "    col.region = np.array([[0,0,-3*(particleRadius/L/N).magnitude],[1,1,3*(particleRadius/L/N).magnitude]])*N*L\n",
    "\n",
    "    world = ice.world(\n",
    "        field = 8*ureg.mT,\n",
    "        temperature = 300*ureg.K,\n",
    "        dipole_cutoff = 200*ureg.um)\n",
    "\n",
    "\n",
    "    col.simulation(world,\n",
    "                name = \"test\",\n",
    "                include_timestamp = False,\n",
    "                targetdir = r\".\",\n",
    "                framerate = framespersec,\n",
    "                timestep = dt,\n",
    "                run_time = totalTime,\n",
    "                output = [\"x\",\"y\",\"z\",\"mux\",\"muy\",\"muz\"])\n",
    "\n",
    "    # Field\n",
    "    col.sim.field.fieldx = \"v_Bmag\"\n",
    "    col.sim.field.fieldy = \"0\"\n",
    "    col.sim.field.fieldz = \"0\"\n",
    "\n",
    "    col.run_simulation();\n",
    "\n",
    "    col.load_simulation()\n",
    "\n",
    "    return col"
   ]
  },
  {
   "cell_type": "markdown",
   "metadata": {},
   "source": [
    "## Little sanity check before continuing"
   ]
  },
  {
   "cell_type": "code",
   "execution_count": null,
   "metadata": {},
   "outputs": [],
   "source": [
    "col = getSimulation()\n",
    "col.trj.to_csv('../data/test8/trj/trj.csv')\n",
    "trj = ice.get_ice_trj(col.trj, bounds = col.bnd)\n",
    "trj.to_csv('../data/test8/ctrj/ctrj.csv')"
   ]
  },
  {
   "cell_type": "code",
   "execution_count": null,
   "metadata": {},
   "outputs": [],
   "source": [
    "trj_raw = trj = pd.read_csv(\"../data/test8/trj/trj.csv\", index_col=[0,1])\n",
    "ctrj_raw = pd.read_csv(\"../data/test8/ctrj/ctrj.csv\", index_col=[0,1])\n",
    "\n",
    "fig, ax = plt.subplots(1,3,figsize=(9,2),dpi=150)\n",
    "\n",
    "ax[0].plot(np.array(trj_raw.loc[idx[:,1],\"t\"]),np.array(trj_raw.loc[idx[:,1],\"mux\"]))\n",
    "ax[1].plot(np.array(trj_raw.loc[idx[:,1],\"t\"]),np.array(trj_raw.loc[idx[:,1],\"muy\"]))\n",
    "ax[2].plot(np.array(trj_raw.loc[idx[:,1],\"t\"]),np.array(trj_raw.loc[idx[:,1],\"muz\"]))"
   ]
  },
  {
   "cell_type": "code",
   "execution_count": null,
   "metadata": {},
   "outputs": [],
   "source": [
    "trj = trj_raw.loc[0,:]\n",
    "ctrj = ctrj_raw.loc[0,:]\n",
    "\n",
    "v = ice.vertices()\n",
    "v = v.trj_to_vertices(ctrj)\n",
    "v.vertices"
   ]
  },
  {
   "cell_type": "code",
   "execution_count": null,
   "metadata": {},
   "outputs": [],
   "source": [
    "fig,ax = plotColloid(trj_raw,0)\n",
    "v.display(ax)"
   ]
  },
  {
   "cell_type": "markdown",
   "metadata": {},
   "source": [
    "## Actual simulations"
   ]
  },
  {
   "cell_type": "code",
   "execution_count": null,
   "metadata": {},
   "outputs": [],
   "source": [
    "runs = 10\n",
    "\n",
    "for i in range(1,runs+1):\n",
    "    print(f\"===== Experiment number {i} =====\")\n",
    "    col = getSimulation()\n",
    "\n",
    "    filename = f\"trj{i}.csv\"\n",
    "    print(filename)\n",
    "    col.trj.to_csv('../data/test8/trj/' + filename)\n",
    "    print('Saved trj')\n",
    "    \n",
    "    filename = f\"ctrj{i}.csv\"\n",
    "    print(filename)\n",
    "    trj = ice.get_ice_trj(col.trj, bounds = col.bnd)\n",
    "    trj.to_csv('../data/test8/ctrj/' + filename)\n",
    "    print('Saved centered trj')"
   ]
  },
  {
   "cell_type": "markdown",
   "metadata": {},
   "source": [
    "# Getting vertices"
   ]
  },
  {
   "cell_type": "code",
   "execution_count": null,
   "metadata": {},
   "outputs": [],
   "source": [
    "trjPath = \"../data/test8/trj/\"\n",
    "ctrjPath = \"../data/test8/ctrj/\"\n",
    "verticesPath = \"../data/test8/vertices/\"\n",
    "\n",
    "# Get the number of realizations\n",
    "_, _, files = next(os.walk(trjPath))\n",
    "realizations = len(files)\n",
    "\n",
    "for i in range(1,realizations):\n",
    "    print(\"============================================================\")\n",
    "    print(f\"Working on realization {i}\")\n",
    "\n",
    "    # Importing files\n",
    "    trjFile = trjPath + f\"trj{i}.csv\"\n",
    "    print(f\"Opening \" + trjFile)\n",
    "    ctrjFile = ctrjPath + f\"ctrj{i}.csv\"\n",
    "    print(f\"Opening \" + ctrjFile)\n",
    "    trj_raw = trj = pd.read_csv(trjFile, index_col=[0,1])\n",
    "    ctrj_raw = pd.read_csv(ctrjFile, index_col=[0,1])\n",
    "\n",
    "    v = ice.vertices()\n",
    "    frames = ctrj_raw.index.get_level_values(\"frame\").unique()\n",
    "\n",
    "    verticesFile = verticesPath + f\"vertices{i}.csv\"\n",
    "    v.trj_to_vertices(ctrj_raw.loc[frames[::25]])\n",
    "\n",
    "    print(f\"Saving vertices to \" + verticesFile)\n",
    "    v.vertices.to_csv(verticesFile)"
   ]
  },
  {
   "cell_type": "markdown",
   "metadata": {},
   "source": [
    "# Analysis"
   ]
  },
  {
   "cell_type": "code",
   "execution_count": null,
   "metadata": {},
   "outputs": [],
   "source": [
    "trj_raw = trj = pd.read_csv(\"../data/test8/trj/trj1.csv\", index_col=[0,1])\n",
    "ctrj_raw = pd.read_csv(\"../data/test8/ctrj/ctrj1.csv\", index_col=[0,1])\n",
    "\n",
    "fig, ax = plt.subplots(1,3,figsize=(9,2),dpi=150)\n",
    "\n",
    "ax[0].plot(np.array(trj_raw.loc[idx[:,1],\"t\"]),np.array(trj_raw.loc[idx[:,1],\"mux\"]))\n",
    "ax[1].plot(np.array(trj_raw.loc[idx[:,1],\"t\"]),np.array(trj_raw.loc[idx[:,1],\"muy\"]))\n",
    "ax[2].plot(np.array(trj_raw.loc[idx[:,1],\"t\"]),np.array(trj_raw.loc[idx[:,1],\"muz\"]))"
   ]
  },
  {
   "cell_type": "code",
   "execution_count": null,
   "metadata": {},
   "outputs": [],
   "source": [
    "# Import and classify the vertices\n",
    "verticesFolderPath = \"../data/test8/vertices/\"\n",
    "vertices = getVerticesDict(verticesFolderPath)"
   ]
  },
  {
   "cell_type": "code",
   "execution_count": null,
   "metadata": {},
   "outputs": [],
   "source": [
    "counts = getVerticesCount(vertices)"
   ]
  },
  {
   "cell_type": "code",
   "execution_count": null,
   "metadata": {},
   "outputs": [],
   "source": [
    "timeSeries = getVerticesAverage(counts,20)\n",
    "ax = plt.gca()\n",
    "types = timeSeries.columns.to_list()[1:]\n",
    "for col in types:\n",
    "    timeSeries.plot(kind='line',\n",
    "        x='time',\n",
    "        y=col,\n",
    "        ax=ax\n",
    "        )\n"
   ]
  },
  {
   "cell_type": "code",
   "execution_count": null,
   "metadata": {},
   "outputs": [],
   "source": [
    "# getting the last ctrj\n",
    "\n",
    "lastFrame = trj_raw.index.get_level_values(\"frame\")[-1]\n",
    "\n",
    "trapSep = 10*ureg.um\n",
    "particleRadius = 5*ureg.um\n",
    "totalTime = 180*ureg.s\n",
    "\n",
    "L = 30*ureg.um\n",
    "N = 10\n",
    "\n",
    "particle = ice.particle(radius = particleRadius,\n",
    "            susceptibility = 0.0576,\n",
    "            diffusion = 0.125*ureg.um**2/ureg.s,\n",
    "            temperature = 300*ureg.K,\n",
    "            density = 1000*ureg.kg/ureg.m**3)\n",
    "\n",
    "trap = ice.trap(trap_sep = trapSep,\n",
    "            height = 4*ureg.pN*ureg.nm,\n",
    "            stiffness = 1e-3*ureg.pN/ureg.nm)\n",
    "\n",
    "last_ctrj = ctrj_raw.loc[lastFrame,:].drop(\"type\",axis=\"columns\")\n",
    "col = get_colloids_from_ctrj(last_ctrj,particle,trap)\n",
    "col.region = np.array([[0,0,-3*(particleRadius/L/N).magnitude],[1,1,3*(particleRadius/L/N).magnitude]])*N*L"
   ]
  },
  {
   "cell_type": "code",
   "execution_count": null,
   "metadata": {},
   "outputs": [],
   "source": [
    "fig, ax = plt.subplots(figsize = (5,5))\n",
    "\n",
    "v = ice.vertices()\n",
    "v = v.colloids_to_vertices(col)\n",
    "col.display(ax)\n",
    "v.display(ax)"
   ]
  },
  {
   "cell_type": "code",
   "execution_count": null,
   "metadata": {},
   "outputs": [],
   "source": [
    "getPaintedFrame(trj_raw,ctrj_raw,0,20)"
   ]
  },
  {
   "cell_type": "code",
   "execution_count": null,
   "metadata": {},
   "outputs": [],
   "source": [
    "getPaintedFrame(trj_raw,ctrj_raw,lastFrame,20)"
   ]
  },
  {
   "cell_type": "markdown",
   "metadata": {},
   "source": [
    "# Computing energy as a function of time"
   ]
  },
  {
   "cell_type": "code",
   "execution_count": null,
   "metadata": {},
   "outputs": [],
   "source": [
    "B0 = 8*ureg.mT\n",
    "field = [1,0,0]*B0\n",
    "field"
   ]
  },
  {
   "cell_type": "code",
   "execution_count": null,
   "metadata": {},
   "outputs": [],
   "source": [
    "energies = np.zeros(len(frames))\n",
    "for frame in tqdm(frames.to_list()):\n",
    "    current_ctrj = ctrj_raw.loc[frame,:].drop([\"type\", \"t\"],axis=1)\n",
    "    current_col = get_colloids_from_ctrj(current_ctrj,particle,trap)\n",
    "    current_col.region = np.array([[0,0,-3*(particleRadius/L/N).magnitude],[1,1,3*(particleRadius/L/N).magnitude]])*N*L\n",
    "    current_energy = current_col.calculate_energy(B = field).magnitude\n",
    "    energies[frame] = current_energy\n"
   ]
  },
  {
   "cell_type": "code",
   "execution_count": null,
   "metadata": {},
   "outputs": [],
   "source": [
    "fig , ax = plt.subplots(figsize=(5,5))\n",
    "ax.plot(np.array(frames)/20,energies)\n",
    "ax.set_xlabel(\"Frames\")"
   ]
  },
  {
   "cell_type": "code",
   "execution_count": null,
   "metadata": {},
   "outputs": [],
   "source": [
    "initial_col = get_colloids_from_ctrj(ctrj_raw.loc[0,:].drop([\"type\", \"t\"],axis=1),particle,trap)\n",
    "initial_col.region = np.array([[0,0,-3*(particleRadius/L/N).magnitude],[1,1,3*(particleRadius/L/N).magnitude]])*N*L\n",
    "initial_energy = initial_col.calculate_energy(B = field)\n"
   ]
  },
  {
   "cell_type": "code",
   "execution_count": null,
   "metadata": {},
   "outputs": [],
   "source": [
    "final_col = get_colloids_from_ctrj(ctrj_raw.loc[lastFrame,:].drop([\"type\", \"t\"],axis=1),particle,trap)\n",
    "final_col.region = np.array([[0,0,-3*(particleRadius/L/N).magnitude],[1,1,3*(particleRadius/L/N).magnitude]])*N*L\n",
    "final_energy = final_col.calculate_energy(B = field)"
   ]
  },
  {
   "cell_type": "code",
   "execution_count": null,
   "metadata": {},
   "outputs": [],
   "source": [
    "final_energy - initial_energy"
   ]
  },
  {
   "cell_type": "code",
   "execution_count": null,
   "metadata": {},
   "outputs": [],
   "source": [
    "energies = pd.read_csv(\"../data/test8/energies.csv\",index_col=0)[\"0\"].to_numpy()\n",
    "frames = trj_raw.index.get_level_values(\"frame\").unique().to_numpy()"
   ]
  },
  {
   "cell_type": "code",
   "execution_count": null,
   "metadata": {},
   "outputs": [],
   "source": [
    "fig, ax = plt.subplots(figsize=(5,5))\n",
    "ax.plot(frames/20,energies)\n",
    "ax.set_xlabel(\"$t$ \\, [s]\")\n",
    "ax.set_ylabel(\"Energy \\, [pN$\\cdot$nm]\")\n",
    "\n",
    "plt.ticklabel_format(axis='y', style='sci', scilimits=(0,0), useMathText=True)\n",
    "plt.show()"
   ]
  }
 ],
 "metadata": {
  "kernelspec": {
   "display_name": "Python 3",
   "language": "python",
   "name": "python3"
  },
  "language_info": {
   "codemirror_mode": {
    "name": "ipython",
    "version": 3
   },
   "file_extension": ".py",
   "mimetype": "text/x-python",
   "name": "python",
   "nbconvert_exporter": "python",
   "pygments_lexer": "ipython3",
   "version": "3.10.12"
  }
 },
 "nbformat": 4,
 "nbformat_minor": 2
}
