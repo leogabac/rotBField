{
 "cells": [
  {
   "cell_type": "markdown",
   "metadata": {},
   "source": [
    "# Test 9\n",
    "\n",
    "Get SA GS for many $\\theta$"
   ]
  },
  {
   "cell_type": "code",
   "execution_count": null,
   "metadata": {},
   "outputs": [],
   "source": [
    "import os\n",
    "import sys\n",
    "\n",
    "import numpy as np\n",
    "import pandas as pd\n",
    "import random\n",
    "from math import isclose\n",
    "\n",
    "import warnings\n",
    "warnings.simplefilter(action='ignore', category=FutureWarning) # Ignore some messages from pandas\n",
    "\n",
    "from tqdm import tqdm\n",
    "import matplotlib.pyplot as plt\n",
    "\n",
    "sys.path.insert(0, '../icenumerics/')\n",
    "import icenumerics as ice\n",
    "#from auxiliary import *\n",
    "import auxiliary as aux\n",
    "#from montecarlo_tools import *\n",
    "import montecarlo_tools as mc\n",
    "from IPython.display import clear_output\n",
    "\n",
    "ureg = ice.ureg\n",
    "\n",
    "%reload_ext autoreload\n",
    "%autoreload 2\n",
    "\n",
    "idx = pd.IndexSlice"
   ]
  },
  {
   "cell_type": "code",
   "execution_count": null,
   "metadata": {},
   "outputs": [],
   "source": [
    "plt.rcParams['text.usetex'] = True\n",
    "plt.rcParams['font.family'] = 'serif'\n",
    "plt.rcParams['axes.grid'] = False"
   ]
  },
  {
   "cell_type": "code",
   "execution_count": null,
   "metadata": {},
   "outputs": [],
   "source": [
    "params = {\n",
    "    \"particle_radius\":5*ureg.um,\n",
    "    \"particle_susceptibility\":0.0576,\n",
    "    \"particle_diffusion\":0.125*ureg.um**2/ureg.s,\n",
    "    \"particle_temperature\":300*ureg.K,\n",
    "    \"particle_density\":1000*ureg.kg/ureg.m**3,\n",
    "\n",
    "    \"trap_sep\":10*ureg.um,\n",
    "    \"trap_height\":4*ureg.pN*ureg.nm,\n",
    "    \"trap_stiffness\":1e-3*ureg.pN/ureg.nm,\n",
    "    \"height_spread\":0,\n",
    "    \"susceptibility_spread\":0,\n",
    "    \"isperiodic\":True,\n",
    "    \n",
    "    \"total_time\":120*ureg.s,\n",
    "    \"framespersec\":20*ureg.Hz,\n",
    "    \"dt\":10*ureg.ms,\n",
    "    \"max_field\":7*ureg.mT,\n",
    "    \"sim_temp\":300*ureg.K,\n",
    "    \"sim_dipole_cutoff\":40*ureg.um,\n",
    "    \n",
    "    \"lattice_constant\":30*ureg.um,\n",
    "    \"size\" : 10\n",
    "}"
   ]
  },
  {
   "cell_type": "code",
   "execution_count": null,
   "metadata": {},
   "outputs": [],
   "source": [
    "# Definition of colloids\n",
    "\n",
    "sp = ice.spins()\n",
    "\n",
    "rho = params[\"particle_radius\"]\n",
    "L = params[\"lattice_constant\"]\n",
    "N = params[\"size\"]\n",
    "\n",
    "# Create simulation objects\n",
    "sp.create_lattice(\"square\",[N,N],lattice_constant=L, border=\"periodic\")\n",
    "\n",
    "particle = ice.particle(radius = rho,\n",
    "            susceptibility = params[\"particle_susceptibility\"],\n",
    "            diffusion = params[\"particle_diffusion\"],\n",
    "            temperature = params[\"particle_temperature\"],\n",
    "            density = params[\"particle_density\"])\n",
    "\n",
    "trap = ice.trap(trap_sep = params[\"trap_sep\"],\n",
    "            height = params[\"trap_height\"],\n",
    "            stiffness = params[\"trap_stiffness\"])\n",
    "\n",
    "col = ice.colloidal_ice(sp, particle, trap,\n",
    "            height_spread = params[\"height_spread\"], \n",
    "            susceptibility_spread = params[\"susceptibility_spread\"],\n",
    "            periodic = params[\"isperiodic\"])\n",
    "\n",
    "\n",
    "col.randomize()\n",
    "col.region = np.array([[0,0,-3*(rho/L/N).magnitude],[1,1,3*(rho/L/N).magnitude]])*N*L"
   ]
  },
  {
   "cell_type": "code",
   "execution_count": null,
   "metadata": {},
   "outputs": [],
   "source": [
    "fig,ax = plt.subplots(figsize=(5,5))\n",
    "col.display(ax)"
   ]
  },
  {
   "cell_type": "code",
   "execution_count": null,
   "metadata": {},
   "outputs": [],
   "source": [
    "boltzmann_constant = 1.380649e-23 * ureg.newton*ureg.meter/ureg.kelvin # N m/K"
   ]
  },
  {
   "cell_type": "code",
   "execution_count": null,
   "metadata": {},
   "outputs": [],
   "source": [
    "E = col.calculate_energy(B=[0,0,8]*ureg.mT)\n",
    "T = 300*ureg.kelvin\n",
    "(E/boltzmann_constant/T).to_base_units().magnitude"
   ]
  },
  {
   "cell_type": "code",
   "execution_count": null,
   "metadata": {},
   "outputs": [],
   "source": [
    "save_each = 100\n",
    "for k in range(1000):\n",
    "    if k%save_each == 0:\n",
    "        print(k)"
   ]
  },
  {
   "cell_type": "markdown",
   "metadata": {},
   "source": [
    "# Simulated Annealing"
   ]
  },
  {
   "cell_type": "code",
   "execution_count": null,
   "metadata": {},
   "outputs": [],
   "source": [
    "def simulation(colloid, field, data_path, niter = 100, save_each=100):\n",
    "    \n",
    "    # Initialize stuff\n",
    "    energies = np.zeros(niter)\n",
    "\n",
    "    # Save initial state\n",
    "    colloid.to_ctrj().to_csv(data_path + \"trj0.csv\")\n",
    "\n",
    "    # No sé por qué debo de calcular esto primero xd\n",
    "    Eold = colloid.calculate_energy(B = field)\n",
    "    energies[0] = Eold.magnitude\n",
    "\n",
    "    T = 300\n",
    "\n",
    "    for k in tqdm(range(1,niter)):\n",
    "        \n",
    "        newcolloid = colloid.copy(deep = True)\n",
    "        newcolloid = mc.flip_colloids(newcolloid,amount=3)\n",
    "        newcolloid = mc.flip_loop(newcolloid,a=30,size=10)\n",
    "\n",
    "        Enew = newcolloid.calculate_energy(B=field)\n",
    "        dE = Enew - Eold\n",
    "\n",
    "        # Accept or reject the change\n",
    "        if mc.is_accepted(dE,T,kB=boltzmann_constant):\n",
    "            colloid = newcolloid.copy(deep = True)\n",
    "            Eold = Enew\n",
    "            energies[k] = Eold.magnitude\n",
    "        else:\n",
    "            energies[k] = Eold.magnitude\n",
    "        \n",
    "        \n",
    "        if k%save_each==0:\n",
    "            currentFile = f\"trj{k}.csv\"\n",
    "            colloid.to_ctrj().to_csv(data_path + currentFile)\n",
    "        \n",
    "        T = 0.9*T\n",
    "    \n",
    "    currentFile = f\"trj{niter-1}.csv\"\n",
    "    colloid.to_ctrj().to_csv(data_path + currentFile)\n",
    "    return colloid, energies\n"
   ]
  },
  {
   "cell_type": "code",
   "execution_count": null,
   "metadata": {},
   "outputs": [],
   "source": [
    "angles_to_complete = [0,30,60,90]\n",
    "angles_to_complete "
   ]
  },
  {
   "cell_type": "code",
   "execution_count": null,
   "metadata": {},
   "outputs": [],
   "source": [
    "for theta in angles_to_complete:\n",
    "\n",
    "    clear_output(wait=True)\n",
    "    print(f\"========== {theta} ==========\")\n",
    "    # making folders and shit\n",
    "    angle = theta*ureg(\"deg\")\n",
    "    rangle = angle.to(\"rad\")\n",
    "    main_path = \"../data/test9/\"\n",
    "    angle_path = main_path+f\"mc/{angle.magnitude}/\"\n",
    "\n",
    "    try: \n",
    "        os.mkdir(angle_path)\n",
    "    except:\n",
    "        pass\n",
    "\n",
    "    # making the field\n",
    "    B0 = 10*ureg.mT\n",
    "    field = [np.sin(rangle.magnitude),0,np.cos(rangle.magnitude)]*B0\n",
    "\n",
    "    np.random.seed(0)\n",
    "    final_state, data = simulation(col, field, angle_path, niter=15000, save_each=1000)\n",
    "\n",
    "    pd.DataFrame(data).to_csv(angle_path + \"data.csv\")"
   ]
  },
  {
   "cell_type": "markdown",
   "metadata": {},
   "source": [
    "# Making a nice figure"
   ]
  },
  {
   "cell_type": "code",
   "execution_count": null,
   "metadata": {},
   "outputs": [],
   "source": [
    "def load_saved_state(main_path,folder,last = 14999):\n",
    "    file = f\"/trj{last}.csv\"\n",
    "    return pd.read_csv(main_path+folder+file,index_col=0)\n",
    "\n",
    "def load_saved_energy(main_path,folder):\n",
    "    file = \"/data.csv\"\n",
    "    return pd.read_csv(main_path+folder+file,index_col=0)[\"0\"].to_list()"
   ]
  },
  {
   "cell_type": "code",
   "execution_count": null,
   "metadata": {},
   "outputs": [],
   "source": [
    "main_path = \"../data/test9/mc/\"\n",
    "angles = os.listdir(main_path)\n",
    "\n",
    "final_states = { directory:aux.get_colloids_from_ctrj(load_saved_state(main_path,directory),particle,trap,rho,L,N) for directory in tqdm(angles) }\n",
    "all_energies = { directory:load_saved_energy(main_path,directory) for directory in angles }"
   ]
  },
  {
   "cell_type": "code",
   "execution_count": null,
   "metadata": {},
   "outputs": [],
   "source": [
    "vrt = dict()\n",
    "for key,col in final_states.items():\n",
    "    v = ice.vertices()\n",
    "    v = v.colloids_to_vertices(col)\n",
    "    vrt[key] = v"
   ]
  },
  {
   "cell_type": "code",
   "execution_count": null,
   "metadata": {},
   "outputs": [],
   "source": [
    "fig, axes = plt.subplots(1,4,figsize=(22,5))\n",
    "\n",
    "ax = axes[0]\n",
    "key = '0'\n",
    "col = final_states[key]\n",
    "v = vrt[key]\n",
    "col.display(ax)\n",
    "v.display(ax)\n",
    "ax.set_title(\"$\\\\theta$ = 0$^\\\\circ$\")\n",
    "\n",
    "ax = axes[1]\n",
    "key = '30'\n",
    "col = final_states[key]\n",
    "v = vrt[key]\n",
    "col.display(ax)\n",
    "v.display(ax)\n",
    "ax.set_title(\"$\\\\theta$ = 30$^\\\\circ$\")\n",
    "\n",
    "\n",
    "\n",
    "ax = axes[2]\n",
    "key = '60'\n",
    "col = final_states[key]\n",
    "v = vrt[key]\n",
    "col.display(ax)\n",
    "v.display(ax)\n",
    "ax.set_title(\"$\\\\theta$ = 60$^\\\\circ$\")\n",
    "\n",
    "ax = axes[3]\n",
    "key = '90'\n",
    "col = final_states[key]\n",
    "v = vrt[key]\n",
    "col.display(ax)\n",
    "v.display(ax)\n",
    "ax.set_title(\"$\\\\theta$ = 90$^\\\\circ$\")\n",
    "\n",
    "fig.savefig(\"../data/test9/states.pdf\")\n",
    "fig.savefig(\"../data/test9/states.jpeg\",dpi=300)\n",
    "\n",
    "plt.show()"
   ]
  },
  {
   "cell_type": "markdown",
   "metadata": {},
   "source": [
    "# Plotting all states"
   ]
  },
  {
   "cell_type": "code",
   "execution_count": null,
   "metadata": {},
   "outputs": [],
   "source": [
    "def load_saved_state(main_path,folder):\n",
    "    file = \"/trj99.csv\"\n",
    "    return pd.read_csv(main_path+folder+file,index_col=0)\n",
    "\n",
    "def load_saved_energy(main_path,folder):\n",
    "    file = \"/data.csv\"\n",
    "    return pd.read_csv(main_path+folder+file,index_col=0)[\"0\"].to_list()"
   ]
  },
  {
   "cell_type": "code",
   "execution_count": null,
   "metadata": {},
   "outputs": [],
   "source": [
    "main_path = \"../data/test9/mc/\"\n",
    "angles = os.listdir(main_path)\n",
    "\n",
    "final_states = { directory:aux.get_colloids_from_ctrj(load_saved_state(main_path,directory),particle,trap,rho,L,N) for directory in tqdm(angles) }\n",
    "all_energies = { directory:load_saved_energy(main_path,directory) for directory in angles }"
   ]
  },
  {
   "cell_type": "code",
   "execution_count": null,
   "metadata": {},
   "outputs": [],
   "source": [
    "fig_path = \"../data/test9/figures/\"\n",
    "for cur_angle in angles:\n",
    "    clear_output(wait=True)\n",
    "\n",
    "    print(f\"Doing... {cur_angle} degrees\")\n",
    "\n",
    "    cur_state = final_states[cur_angle]\n",
    "    cur_energy = all_energies[cur_angle]\n",
    "\n",
    "    string = \"$\\\\theta$ = \"+cur_angle+\"$^\\circ$\"\n",
    "\n",
    "    fig, axes = plt.subplots(1,2,figsize=(12,5))\n",
    "    ax = axes[0]\n",
    "    v = ice.vertices()\n",
    "    v = v.colloids_to_vertices(cur_state)\n",
    "    cur_state.display(ax)\n",
    "    v.display(ax)\n",
    "\n",
    "    ax = axes[1]\n",
    "    ax.plot(all_energies[cur_angle])\n",
    "    ax.set_xlabel(\"MC Steps\")\n",
    "    ax.set_ylabel(\"Energy \\, [pN$\\cdot$nm]\")\n",
    "    plt.ticklabel_format(axis='y', style='sci', scilimits=(0,0), useMathText=True)\n",
    "\n",
    "    fig.text(0.5,0.9,string,ha='center',fontsize=20)\n",
    "\n",
    "    file = cur_angle+\".png\"\n",
    "    fig.savefig(fig_path+file)\n",
    "\n",
    "    plt.close(fig)"
   ]
  }
 ],
 "metadata": {
  "kernelspec": {
   "display_name": "Python 3",
   "language": "python",
   "name": "python3"
  },
  "language_info": {
   "codemirror_mode": {
    "name": "ipython",
    "version": 3
   },
   "file_extension": ".py",
   "mimetype": "text/x-python",
   "name": "python",
   "nbconvert_exporter": "python",
   "pygments_lexer": "ipython3",
   "version": "3.8.10"
  }
 },
 "nbformat": 4,
 "nbformat_minor": 2
}
