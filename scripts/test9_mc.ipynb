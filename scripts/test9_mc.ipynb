{
 "cells": [
  {
   "cell_type": "markdown",
   "metadata": {},
   "source": [
    "# Test 9\n",
    "\n",
    "Various GS from Simulated Annealing\n",
    "\n",
    "Field: 8mT along the x axis"
   ]
  },
  {
   "cell_type": "code",
   "execution_count": 72,
   "metadata": {},
   "outputs": [],
   "source": [
    "import os\n",
    "import sys\n",
    "\n",
    "import numpy as np\n",
    "import pandas as pd\n",
    "import random\n",
    "from math import isclose\n",
    "\n",
    "import warnings\n",
    "warnings.simplefilter(action='ignore', category=FutureWarning) # Ignore some messages from pandas\n",
    "\n",
    "from tqdm import tqdm\n",
    "import matplotlib.pyplot as plt\n",
    "\n",
    "sys.path.insert(0, '../icenumerics/')\n",
    "import icenumerics as ice\n",
    "from auxiliary import *\n",
    "from montecarlo_tools import *\n",
    "from IPython.display import clear_output\n",
    "\n",
    "ureg = ice.ureg\n",
    "\n",
    "%reload_ext autoreload\n",
    "%autoreload 2\n",
    "\n",
    "idx = pd.IndexSlice"
   ]
  },
  {
   "cell_type": "code",
   "execution_count": 58,
   "metadata": {},
   "outputs": [],
   "source": [
    "plt.rcParams['text.usetex'] = True\n",
    "plt.rcParams['font.family'] = 'serif'"
   ]
  },
  {
   "cell_type": "code",
   "execution_count": 59,
   "metadata": {},
   "outputs": [],
   "source": [
    "# Definition of colloids\n",
    "\n",
    "sp = ice.spins()\n",
    "\n",
    "trapSep = 10*ureg.um\n",
    "particleRadius = 5*ureg.um\n",
    "L = 30*ureg.um\n",
    "N = 10\n",
    "\n",
    "# Create simulation objects\n",
    "sp.create_lattice(\"square\",[N,N],lattice_constant=L, border=\"periodic\")\n",
    "\n",
    "particle = ice.particle(radius = particleRadius,\n",
    "            susceptibility = 0.0576,\n",
    "            diffusion = 0.125*ureg.um**2/ureg.s,\n",
    "            temperature = 300*ureg.K,\n",
    "            density = 1000*ureg.kg/ureg.m**3)\n",
    "\n",
    "trap = ice.trap(trap_sep = trapSep,\n",
    "            height = 4*ureg.pN*ureg.nm,\n",
    "            stiffness = 1e-3*ureg.pN/ureg.nm)\n",
    "\n",
    "col = ice.colloidal_ice(sp, particle, trap,\n",
    "            height_spread = 0, \n",
    "            susceptibility_spread = 0.1,\n",
    "            periodic = True)\n",
    "\n",
    "\n",
    "col.randomize()\n",
    "col.region = np.array([[0,0,-3*(particleRadius/L/N).magnitude],[1,1,3*(particleRadius/L/N).magnitude]])*N*L"
   ]
  },
  {
   "cell_type": "markdown",
   "metadata": {},
   "source": [
    "# Simulated Annealing"
   ]
  },
  {
   "cell_type": "code",
   "execution_count": 60,
   "metadata": {},
   "outputs": [],
   "source": [
    "def simulation(colloid, field, dataPath, niter = 100):\n",
    "\n",
    "    # Initialize stuff\n",
    "    energies = np.zeros(niter)\n",
    "\n",
    "    # Save initial state\n",
    "    colloid.to_ctrj().to_csv(dataPath + \"trj0.csv\")\n",
    "\n",
    "    # No sé por qué debo de calcular esto primero xd\n",
    "    Eold = colloid.calculate_energy(B = field).magnitude\n",
    "    energies[0] = Eold\n",
    "\n",
    "    T = 300\n",
    "\n",
    "    for k in tqdm(range(1,niter)):\n",
    "        \n",
    "        newcolloid = colloid.copy(deep = True)\n",
    "        newcolloid = flip_colloids(newcolloid,amount=3)\n",
    "        newcolloid = flip_loop(newcolloid,a=30,size=10)\n",
    "\n",
    "        Enew = newcolloid.calculate_energy(B=field).magnitude\n",
    "        dE = Enew - Eold\n",
    "\n",
    "        # Accept or reject the change\n",
    "        if is_accepted(dE,T):\n",
    "            colloid = newcolloid.copy(deep = True)\n",
    "            #colloid = newcolloid\n",
    "            Eold = Enew\n",
    "            energies[k] = Eold\n",
    "        else:\n",
    "            energies[k] = Eold\n",
    "        \n",
    "        \n",
    "        currentFile = f\"trj{k}.csv\"\n",
    "        colloid.to_ctrj().to_csv(dataPath + currentFile)\n",
    "        \n",
    "        T = 0.9*T\n",
    "    \n",
    "    return colloid, energies\n"
   ]
  },
  {
   "cell_type": "code",
   "execution_count": null,
   "metadata": {},
   "outputs": [],
   "source": [
    "angle = (57) * (np.pi/180)\n",
    "B0 = 8*ureg.mT\n",
    "field = [np.sin(angle),0,np.cos(angle)]*B0\n",
    "dataPath = \"../data/test9/57/\"\n",
    "\n",
    "np.random.seed(0)\n",
    "final_state, data = simulation(col, field, dataPath, niter=10000)\n",
    "\n",
    "pd.DataFrame(data).to_csv(dataPath + \"data.csv\")"
   ]
  },
  {
   "cell_type": "markdown",
   "metadata": {},
   "source": [
    "## Plotting energy"
   ]
  },
  {
   "cell_type": "code",
   "execution_count": null,
   "metadata": {},
   "outputs": [],
   "source": [
    "fig, ax = plt.subplots(figsize=(5,5))\n",
    "ax.plot(data)\n",
    "ax.set_ylabel(\"Energy\")\n",
    "ax.set_xlabel(\"MC Steps\")"
   ]
  },
  {
   "cell_type": "code",
   "execution_count": null,
   "metadata": {},
   "outputs": [],
   "source": [
    "data[-1] - final_state.calculate_energy(B=field).magnitude"
   ]
  },
  {
   "cell_type": "markdown",
   "metadata": {},
   "source": [
    "## Plotting states"
   ]
  },
  {
   "cell_type": "code",
   "execution_count": null,
   "metadata": {},
   "outputs": [],
   "source": [
    "fig, ax = plt.subplots(figsize=(5,5))\n",
    "v = ice.vertices()\n",
    "v = v.colloids_to_vertices(col)\n",
    "col.display(ax)\n",
    "v.display()\n",
    "fig.savefig(\"initial.png\")"
   ]
  },
  {
   "cell_type": "code",
   "execution_count": null,
   "metadata": {},
   "outputs": [],
   "source": [
    "fig, ax = plt.subplots(figsize=(5,5))\n",
    "v = ice.vertices()\n",
    "v = v.colloids_to_vertices(final_state)\n",
    "final_state.display(ax)\n",
    "v.display()\n",
    "fig.savefig(\"final.png\")"
   ]
  },
  {
   "cell_type": "markdown",
   "metadata": {},
   "source": [
    "# Plotting all states"
   ]
  },
  {
   "cell_type": "code",
   "execution_count": 73,
   "metadata": {},
   "outputs": [],
   "source": [
    "def load_saved_state(main_path,folder):\n",
    "    file = \"/trj9999.csv\"\n",
    "    return pd.read_csv(main_path+folder+file,index_col=0)\n",
    "\n",
    "def load_saved_energy(main_path,folder):\n",
    "    file = \"/data.csv\"\n",
    "    return pd.read_csv(main_path+folder+file,index_col=0)[\"0\"].to_list()"
   ]
  },
  {
   "cell_type": "code",
   "execution_count": 74,
   "metadata": {},
   "outputs": [
    {
     "name": "stderr",
     "output_type": "stream",
     "text": [
      "100%|██████████| 25/25 [00:06<00:00,  3.94it/s]\n"
     ]
    }
   ],
   "source": [
    "main_path = \"../data/test9/mc/\"\n",
    "angles = os.listdir(main_path)\n",
    "\n",
    "final_states = { directory:get_colloids_from_ctrj(load_saved_state(main_path,directory),particle,trap) for directory in tqdm(angles) }\n",
    "all_energies = { directory:load_saved_energy(main_path,directory) for directory in angles }\n"
   ]
  },
  {
   "cell_type": "code",
   "execution_count": 75,
   "metadata": {},
   "outputs": [
    {
     "name": "stdout",
     "output_type": "stream",
     "text": [
      "Doing... 75 degrees\n"
     ]
    },
    {
     "name": "stderr",
     "output_type": "stream",
     "text": [
      "100%|██████████| 99/99 [00:00<00:00, 141044.87it/s]\n",
      "100%|██████████| 200/200 [00:01<00:00, 138.67it/s]\n"
     ]
    }
   ],
   "source": [
    "fig_path = \"../data/test9/figures/\"\n",
    "for cur_angle in angles:\n",
    "    clear_output(wait=True)\n",
    "\n",
    "    print(f\"Doing... {cur_angle} degrees\")\n",
    "\n",
    "    cur_state = final_states[cur_angle]\n",
    "    cur_energy = all_energies[cur_angle]\n",
    "\n",
    "    string = \"$\\\\theta$ = \"+cur_angle+\"$^\\circ$\"\n",
    "\n",
    "    fig, axes = plt.subplots(1,2,figsize=(12,5))\n",
    "    ax = axes[0]\n",
    "    v = ice.vertices()\n",
    "    v = v.colloids_to_vertices(cur_state)\n",
    "    cur_state.display(ax)\n",
    "    v.display(ax)\n",
    "\n",
    "    ax = axes[1]\n",
    "    ax.plot(all_energies[cur_angle])\n",
    "    ax.set_xlabel(\"MC Steps\")\n",
    "    ax.set_ylabel(\"Energy \\, [pN$\\cdot$nm]\")\n",
    "    plt.ticklabel_format(axis='y', style='sci', scilimits=(0,0), useMathText=True)\n",
    "\n",
    "    fig.text(0.5,0.9,string,ha='center',fontsize=20)\n",
    "\n",
    "    file = cur_angle+\".png\"\n",
    "    fig.savefig(fig_path+file)\n",
    "\n",
    "    plt.close()"
   ]
  }
 ],
 "metadata": {
  "kernelspec": {
   "display_name": "Python 3",
   "language": "python",
   "name": "python3"
  },
  "language_info": {
   "codemirror_mode": {
    "name": "ipython",
    "version": 3
   },
   "file_extension": ".py",
   "mimetype": "text/x-python",
   "name": "python",
   "nbconvert_exporter": "python",
   "pygments_lexer": "ipython3",
   "version": "3.10.12"
  }
 },
 "nbformat": 4,
 "nbformat_minor": 2
}
