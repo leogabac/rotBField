{
 "cells": [
  {
   "cell_type": "markdown",
   "metadata": {},
   "source": [
    "# Test 12\n",
    "\n",
    "_Same as test11 but with different parameters_\n",
    "\n",
    "The goal of this file is to compute the GS for several angles using MD.\n",
    "\n",
    "**Simulation with LAMMPS**\n",
    "\n",
    "Simulations are done by a Ramp (8mT/60s) + Evolution (60s) scheme\n",
    "\n",
    "\n",
    "**Chirality**\n",
    "\n",
    "Compute the chirality of the final states for all angles.\n",
    "\n",
    "$$\n",
    "    \\Phi = \\sum_{i,j} (-1)^{i+j}\\chi_{ij}\n",
    "$$\n",
    "\n",
    "**Charge ordering**\n",
    "\n",
    "Compute a complementary order parameter with topological charqes\n",
    "\n",
    "$$\n",
    "    \\kappa = \\sum_{i,j} (-1)^{i+j}q_{ij}\n",
    "$$\n",
    "\n",
    "**Averaging**\n",
    "From all the datasets, compute $\\langle |\\Phi|\\rangle$ and $\\langle |\\kappa|\\rangle$, as well as $\\sigma_\\Phi$ and $\\sigma_\\kappa$."
   ]
  },
  {
   "cell_type": "code",
   "execution_count": 1,
   "metadata": {},
   "outputs": [
    {
     "name": "stderr",
     "output_type": "stream",
     "text": [
      "/home/leogabac/.local/lib/python3.8/site-packages/tqdm/auto.py:21: TqdmWarning: IProgress not found. Please update jupyter and ipywidgets. See https://ipywidgets.readthedocs.io/en/stable/user_install.html\n",
      "  from .autonotebook import tqdm as notebook_tqdm\n"
     ]
    }
   ],
   "source": [
    "import os\n",
    "import sys\n",
    "\n",
    "import numpy as np\n",
    "import pandas as pd\n",
    "\n",
    "from tqdm import tqdm\n",
    "from IPython.display import clear_output\n",
    "\n",
    "import matplotlib.pyplot as plt\n",
    "\n",
    "sys.path.insert(0, '../icenumerics/')\n",
    "import icenumerics as ice\n",
    "\n",
    "from auxiliary import *\n",
    "from montecarlo_tools import *\n",
    "from chirality_tools import *\n",
    "\n",
    "ureg = ice.ureg\n",
    "\n",
    "%reload_ext autoreload\n",
    "%autoreload 2\n",
    "\n",
    "idx = pd.IndexSlice"
   ]
  },
  {
   "cell_type": "code",
   "execution_count": 2,
   "metadata": {},
   "outputs": [],
   "source": [
    "plt.rcParams['text.usetex'] = True\n",
    "plt.rcParams['font.family'] = 'serif'\n",
    "plt.rcParams['axes.grid'] = True\n"
   ]
  },
  {
   "cell_type": "markdown",
   "metadata": {},
   "source": [
    "# MD Simulations\n",
    "\n",
    "This part only generates the datasets to work with for all angles."
   ]
  },
  {
   "cell_type": "code",
   "execution_count": 51,
   "metadata": {},
   "outputs": [],
   "source": [
    "params = {\n",
    "    \"particle_radius\":1.4*ureg.um,\n",
    "    \"particle_susceptibility\":0.4,\n",
    "    \"particle_diffusion\":0.14*ureg.um**2/ureg.s,\n",
    "    \"particle_temperature\":300*ureg.K,\n",
    "    \"particle_density\":1000*ureg.kg/ureg.m**3,\n",
    "\n",
    "    \"trap_sep\":3*ureg.um,\n",
    "    \"trap_height\":8*ureg.pN*ureg.nm,\n",
    "    \"trap_stiffness\":100e-6*ureg.pN/ureg.nm,\n",
    "    \"height_spread\":0,\n",
    "    \"susceptibility_spread\":0,\n",
    "    \"isperiodic\":True,\n",
    "    \"size\" : 10,\n",
    "\n",
    "    \"total_time\":120*ureg.s,\n",
    "    \"framespersec\":20*ureg.Hz,\n",
    "    #\"dt\":1*ureg.ms,\n",
    "    \"dt\":20*ureg.ms,\n",
    "    \"max_field\":0.4*ureg.mT,\n",
    "    \"sim_temp\":300*ureg.K,\n",
    "    \"sim_dipole_cutoff\":40*ureg.um,\n",
    "}\n",
    "\n",
    "params[\"lattice_constant\"] = params[\"trap_sep\"]+(2*params[\"particle_radius\"]+1*ureg.um)*np.sqrt(2)\n",
    "\n",
    "#locals().update(params)"
   ]
  },
  {
   "cell_type": "code",
   "execution_count": 55,
   "metadata": {},
   "outputs": [],
   "source": [
    "def get_md_colloid(params,angle,realization):\n",
    "    sp = ice.spins()\n",
    "    \n",
    "    N = params[\"size\"]\n",
    "    a = params[\"lattice_constant\"]\n",
    "    \n",
    "    # Create simulation objects\n",
    "    sp.create_lattice(\"square\",[N,N],lattice_constant=a, border=\"periodic\")\n",
    "\n",
    "    particle = ice.particle(radius = params[\"particle_radius\"],\n",
    "                susceptibility = params[\"particle_susceptibility\"],\n",
    "                diffusion = params[\"particle_diffusion\"],\n",
    "                temperature = params[\"particle_temperature\"],\n",
    "                density = params[\"particle_density\"])\n",
    "\n",
    "    trap = ice.trap(trap_sep = params[\"trap_sep\"],\n",
    "                height = params[\"trap_height\"],\n",
    "                stiffness = params[\"trap_stiffness\"])\n",
    "\n",
    "    col = ice.colloidal_ice(sp, particle, trap,\n",
    "                            height_spread = params[\"height_spread\"], \n",
    "                            susceptibility_spread = params[\"susceptibility_spread\"],\n",
    "                            periodic = params[\"isperiodic\"])\n",
    "\n",
    "        \n",
    "    col.randomize()\n",
    "    col.region = np.array([[0,0,-3*(params[\"particle_radius\"]/a/N).magnitude],[1,1,3*(params[\"particle_radius\"]/a/N).magnitude]])*N*a\n",
    "\n",
    "\n",
    "    world = ice.world(\n",
    "            field = params[\"max_field\"],\n",
    "            temperature = params[\"sim_temp\"],\n",
    "            dipole_cutoff = params[\"sim_dipole_cutoff\"],\n",
    "            boundaries=['p', 'p', 'p'])\n",
    "\n",
    "\n",
    "    col.simulation(world,\n",
    "                name = f\"./lammps_files/test{realization}\",\n",
    "                include_timestamp = False,\n",
    "                targetdir = r\".\",\n",
    "                framerate = params[\"framespersec\"],\n",
    "                timestep = params[\"dt\"],\n",
    "                run_time = params[\"total_time\"],\n",
    "                output = [\"x\",\"y\",\"z\",\"mux\",\"muy\",\"muz\"],\n",
    "                processors=1)\n",
    "\n",
    "    # Field\n",
    "    \n",
    "    angle = angle*ureg(\"deg\")\n",
    "    angle = angle.to(\"rad\").magnitude\n",
    "    \n",
    "    #scaling = (1/np.sqrt(2) - 1)*2/np.pi * angle + 1\n",
    "    scaling = 1\n",
    "    \n",
    "    col.sim.field.fieldx = f\"{scaling}*v_Bmag*sin({angle})*time/60e6*(time<60e6)+{scaling}*v_Bmag*sin({angle})*(time>=60e6)\"\n",
    "    col.sim.field.fieldy = \"0\"\n",
    "    col.sim.field.fieldz = f\"{scaling}*v_Bmag*cos({angle})*time/60e6*(time<60e6)+{scaling}*v_Bmag*cos({angle})*(time>=60e6)\"\n",
    "        \n",
    "    col.run_simulation()\n",
    "\n",
    "    col.load_simulation()\n",
    "\n",
    "    return col"
   ]
  },
  {
   "cell_type": "code",
   "execution_count": 56,
   "metadata": {},
   "outputs": [],
   "source": [
    "def jesus_take_the_wheels(params,data_path,angle,realization):\n",
    "    main_angle_path = data_path + str(angle)\n",
    "    trj_path = main_angle_path + \"/trj/\"\n",
    "    ctrj_path = main_angle_path + \"/ctrj/\"\n",
    "\n",
    "    try:\n",
    "        os.mkdir(main_angle_path)\n",
    "        os.mkdir(trj_path)\n",
    "        os.mkdir(ctrj_path)\n",
    "    except:\n",
    "        pass\n",
    "    \n",
    "    col = get_md_colloid(params,angle,realization)\n",
    "\n",
    "    filename = f\"trj{realization}.csv\"\n",
    "    col.trj.to_csv(trj_path + filename)\n",
    "\n",
    "    filename = f\"ctrj{realization}.csv\"\n",
    "    trj = ice.get_ice_trj(col.trj, bounds = col.bnd)\n",
    "    trj.to_csv(ctrj_path + filename)\n",
    "    \n",
    "    return None"
   ]
  },
  {
   "cell_type": "markdown",
   "metadata": {},
   "source": [
    "# MD Sims"
   ]
  },
  {
   "cell_type": "markdown",
   "metadata": {},
   "source": [
    "This block checks which angles are going to be ran. Helps for running by batches."
   ]
  },
  {
   "cell_type": "code",
   "execution_count": null,
   "metadata": {},
   "outputs": [],
   "source": [
    "angle_completed = os.listdir(\"../data/test12/angles/\")\n",
    "angles = [angle for angle in range(0,90+1,5) if str(angle) not in angle_completed]\n",
    "angle_select = angles[:]\n",
    "angle_select"
   ]
  },
  {
   "cell_type": "code",
   "execution_count": null,
   "metadata": {},
   "outputs": [],
   "source": [
    "runs = 6\n",
    "data_path = \"../data/test12/angles/\"\n",
    "for angle in tqdm(angle_select):\n",
    "    print(f\"===== Angle {angle} =====\")\n",
    "\n",
    "    for i in range(1,runs+1):\n",
    "        jesus_take_the_wheels(params,data_path,angle,i)\n",
    "        \n",
    "    clear_output(wait=True)"
   ]
  },
  {
   "cell_type": "code",
   "execution_count": 64,
   "metadata": {},
   "outputs": [],
   "source": [
    "import concurrent.futures"
   ]
  },
  {
   "cell_type": "code",
   "execution_count": null,
   "metadata": {},
   "outputs": [],
   "source": [
    "runs = 10\n",
    "data_path = \"../data/test12/angles/\"\n",
    "realizations = list(range(1,runs+1))\n",
    "for angle in tqdm(angle_select):\n",
    "    print(f\"===== Angle {angle} =====\")\n",
    "\n",
    "    with concurrent.futures.ThreadPoolExecutor(max_workers=5) as executor:\n",
    "        # map the function to the realizations\n",
    "        results = list(\n",
    "            executor.map(\n",
    "                jesus_take_the_wheels,\n",
    "                [params] * len(realizations),\n",
    "                [data_path] * len(realizations),\n",
    "                [angle] * len(realizations),  # Assuming 'angle' is constant\n",
    "                realizations,\n",
    "            )\n",
    "        )\n",
    "        \n",
    "    clear_output(wait=True)"
   ]
  },
  {
   "cell_type": "code",
   "execution_count": null,
   "metadata": {},
   "outputs": [],
   "source": [
    "angle = 0\n",
    "realizations = list(range(1,6+1))\n",
    "data_path = \"../data/test12/angles/\"\n",
    "with concurrent.futures.ThreadPoolExecutor(max_workers=5) as executor:\n",
    "    # map the function to the realizations\n",
    "    results = list(\n",
    "        executor.map(\n",
    "            jesus_take_the_wheels,\n",
    "            [params] * len(realizations),\n",
    "            [data_path] * len(realizations),\n",
    "            [angle] * len(realizations),  # Assuming 'angle' is constant\n",
    "            realizations,\n",
    "        )\n",
    "    )"
   ]
  },
  {
   "cell_type": "markdown",
   "metadata": {},
   "source": [
    "This section graphs the fields just to check that everything is OK."
   ]
  },
  {
   "cell_type": "code",
   "execution_count": null,
   "metadata": {},
   "outputs": [],
   "source": [
    "trj_raw = trj = pd.read_csv(\"../data/test12/angles/90/trj/trj3.csv\", index_col=[0,1])\n",
    "ctrj_raw = pd.read_csv(\"../data/test12/angles/90/ctrj/ctrj3.csv\", index_col=[0,1])\n",
    "\n",
    "fig, axes = plt.subplots(1,3,figsize=(9,2),dpi=150)\n",
    "\n",
    "ax = axes[0]\n",
    "ax.plot(np.array(trj_raw.loc[idx[:,1],\"t\"]),np.array(trj_raw.loc[idx[:,1],\"mux\"]))\n",
    "ax.set_title(\"$\\\\sim B_x$\")\n",
    "ax.ticklabel_format(style='sci',scilimits=(0,0))\n",
    "\n",
    "ax = axes[1]\n",
    "ax.plot(np.array(trj_raw.loc[idx[:,1],\"t\"]),np.array(trj_raw.loc[idx[:,1],\"muy\"]))\n",
    "ax.set_title(\"$\\\\sim B_y$\")\n",
    "ax.ticklabel_format(style='sci',scilimits=(0,0))\n",
    "\n",
    "ax = axes[2]\n",
    "ax.plot(np.array(trj_raw.loc[idx[:,1],\"t\"]),np.array(trj_raw.loc[idx[:,1],\"muz\"]))\n",
    "ax.set_title(\"$\\\\sim B_z$\")\n",
    "ax.ticklabel_format(style='sci',scilimits=(0,0))\n",
    "\n",
    "plt.show()"
   ]
  },
  {
   "cell_type": "markdown",
   "metadata": {},
   "source": [
    "# Chirality\n",
    "\n",
    "This section deals with chirality computations for all angles. \\\n",
    "Check the _chirality_tools.py_ for more information."
   ]
  },
  {
   "cell_type": "code",
   "execution_count": 10,
   "metadata": {},
   "outputs": [],
   "source": [
    "# General information\n",
    "\n",
    "particle = ice.particle(radius = params[\"particle_radius\"],\n",
    "            susceptibility = params[\"particle_susceptibility\"],\n",
    "            diffusion = params[\"particle_diffusion\"],\n",
    "            temperature = params[\"particle_temperature\"],\n",
    "            density = params[\"particle_density\"])\n",
    "\n",
    "trap = ice.trap(trap_sep = params[\"trap_sep\"],\n",
    "            height = params[\"trap_height\"],\n",
    "            stiffness = params[\"trap_stiffness\"])\n",
    "\n",
    "\n",
    "params[\"particle\"] = particle\n",
    "params[\"trap\"] = trap\n"
   ]
  },
  {
   "cell_type": "code",
   "execution_count": null,
   "metadata": {},
   "outputs": [],
   "source": [
    "angles_completed = np.sort([int(a) for a in os.listdir(\"../data/test12/angles\")])\n",
    "angles_completed"
   ]
  },
  {
   "cell_type": "code",
   "execution_count": 12,
   "metadata": {},
   "outputs": [],
   "source": [
    "last_frame = trj_raw.index.get_level_values(\"frame\").unique()[-1]\n",
    "state_ctrj = ctrj_raw.loc[idx[last_frame,:]].drop([\"t\", \"type\"],axis=1)\n",
    "col = get_colloids_from_ctrj(state_ctrj,particle,trap,params[\"particle_radius\"],params[\"lattice_constant\"],params[\"size\"])"
   ]
  },
  {
   "cell_type": "code",
   "execution_count": null,
   "metadata": {},
   "outputs": [],
   "source": [
    "fig, ax = plt.subplots(figsize = (5,5))\n",
    "col.display(ax)"
   ]
  },
  {
   "cell_type": "code",
   "execution_count": null,
   "metadata": {},
   "outputs": [],
   "source": [
    "phi = []\n",
    "runs = 10\n",
    "\n",
    "for angle in tqdm(angles_completed):\n",
    "    clear_output(wait=True)\n",
    "\n",
    "    angle_chirs = [get_chirality_on_realization(params,'test12',angle,i,last_frame=None) for i in range(1,runs+1)]\n",
    "\n",
    "    phi.append(angle_chirs)\n",
    "\n",
    "phi"
   ]
  },
  {
   "cell_type": "code",
   "execution_count": null,
   "metadata": {},
   "outputs": [],
   "source": [
    "phi_df = pd.DataFrame(phi)\n",
    "phi_df.to_csv(\"../data/test12/chirality.csv\")\n",
    "phi_df"
   ]
  },
  {
   "cell_type": "code",
   "execution_count": null,
   "metadata": {},
   "outputs": [],
   "source": [
    "phi_df.applymap(np.abs).mean(axis=1)"
   ]
  },
  {
   "cell_type": "markdown",
   "metadata": {},
   "source": [
    "# Complementary order parameter\n",
    "\n",
    "$$\n",
    "    Q = \\sum_{i,j} (-1)^{i+j}q_{ij}\n",
    "$$"
   ]
  },
  {
   "cell_type": "code",
   "execution_count": null,
   "metadata": {},
   "outputs": [],
   "source": [
    "for angle in tqdm(angles_completed):\n",
    "    for realization in range(1,10+1):\n",
    "        angle_path = f\"../data/test12/angles/{angle}/ctrj/ctrj{realization}.csv\"\n",
    "\n",
    "        try:\n",
    "            os.mkdir(f\"../data/test12/vertices/{angle}\")\n",
    "        except:\n",
    "            pass\n",
    "\n",
    "        vertex_path = f\"../data/test12/vertices/{angle}/vertices{realization}.csv\"\n",
    "        ctrj = pd.read_csv(angle_path,index_col=[0,1])\n",
    "        last_frame = ctrj.index.get_level_values(\"frame\").unique().max()\n",
    "        try:\n",
    "            vertices = get_vertices_at_frame(ctrj,last_frame)\n",
    "        except:\n",
    "            vertices = get_vertices_at_frame(ctrj,last_frame-1)\n",
    "\n",
    "\n",
    "        vertices.to_csv(vertex_path)\n",
    "\n",
    "    clear_output(wait=True)"
   ]
  },
  {
   "cell_type": "code",
   "execution_count": null,
   "metadata": {},
   "outputs": [],
   "source": [
    "angle = 90\n",
    "realization = 3\n",
    "get_charge_order_on_realization(params,'test12',angle,realization,tol=1.6)"
   ]
  },
  {
   "cell_type": "code",
   "execution_count": null,
   "metadata": {},
   "outputs": [],
   "source": [
    "psi= []\n",
    "for angle in tqdm(angles_completed):\n",
    "    results = [get_charge_order_on_realization(params,'test12',angle,realization,tol=1.6) for realization in range(1,10+1) ]\n",
    "    psi.append(results)"
   ]
  },
  {
   "cell_type": "code",
   "execution_count": null,
   "metadata": {},
   "outputs": [],
   "source": [
    "psi_df = pd.DataFrame(psi)\n",
    "psi_df.to_csv(\"../data/test12/charges.csv\")\n",
    "psi_df"
   ]
  },
  {
   "cell_type": "markdown",
   "metadata": {},
   "source": [
    "#  Importing data and plotting"
   ]
  },
  {
   "cell_type": "code",
   "execution_count": 53,
   "metadata": {},
   "outputs": [],
   "source": [
    "angles_completed = np.sort([int(a) for a in os.listdir(\"../data/test12/angles\")])\n",
    "phi_df = pd.read_csv(\"../data/test12/chirality.csv\",index_col=0).applymap(np.abs)\n",
    "psi_df = pd.read_csv(\"../data/test12/charges.csv\",index_col=0).applymap(np.abs)"
   ]
  },
  {
   "cell_type": "code",
   "execution_count": 54,
   "metadata": {},
   "outputs": [],
   "source": [
    "phi_means = phi_df.mean(axis=1).to_list()\n",
    "phi_sigmas = phi_df.var(axis=1).to_list()\n",
    "\n",
    "psi_means = psi_df.mean(axis=1).to_list()\n",
    "psi_sigmas = psi_df.var(axis=1).to_list()\n"
   ]
  },
  {
   "cell_type": "code",
   "execution_count": null,
   "metadata": {},
   "outputs": [],
   "source": [
    "fig, axes = plt.subplots(2,1,figsize=(12,7))\n",
    "\n",
    "ax = axes[0]\n",
    "ax.plot(angles_completed,phi_means, label = \"$\\\\langle |\\\\Phi|\\\\rangle$\")\n",
    "ax.plot(angles_completed,psi_means, label = \"$\\\\langle |\\\\kappa|\\\\rangle$\")\n",
    "ax.set_ylabel(\"Order parameter\")\n",
    "ax.set_xlim(0,90)\n",
    "ax.legend()\n",
    "\n",
    "ax = axes[1]\n",
    "\n",
    "ax.plot(angles_completed,phi_sigmas, label=\"$\\\\sigma_\\\\Phi$\")\n",
    "ax.plot(angles_completed,psi_sigmas, label=\"$\\\\sigma_\\\\kappa$\")\n",
    "\n",
    "ax.set_xlabel(\"$\\\\theta$ \\, [degrees]\")\n",
    "ax.set_ylabel(\"Variance\")\n",
    "\n",
    "ax.legend()\n",
    "\n",
    "ax.set_xlim(0,90)\n",
    "\n",
    "plt.show()\n",
    "\n",
    "fig.savefig(\"../data/test12/order_parameters.png\",dpi=300)"
   ]
  }
 ],
 "metadata": {
  "kernelspec": {
   "display_name": "Python 3",
   "language": "python",
   "name": "python3"
  },
  "language_info": {
   "codemirror_mode": {
    "name": "ipython",
    "version": 3
   },
   "file_extension": ".py",
   "mimetype": "text/x-python",
   "name": "python",
   "nbconvert_exporter": "python",
   "pygments_lexer": "ipython3",
   "version": "3.8.10"
  }
 },
 "nbformat": 4,
 "nbformat_minor": 2
}
