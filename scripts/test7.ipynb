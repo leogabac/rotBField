{
 "cells": [
  {
   "cell_type": "markdown",
   "metadata": {},
   "source": [
    "# Test 7 (Simulated Annealing, with loops)\n",
    "\n",
    "Field: 8mT along the x axis"
   ]
  },
  {
   "cell_type": "code",
   "execution_count": null,
   "metadata": {},
   "outputs": [],
   "source": [
    "import os\n",
    "import sys\n",
    "\n",
    "import numpy as np\n",
    "import pandas as pd\n",
    "import random\n",
    "from math import isclose\n",
    "\n",
    "import warnings\n",
    "warnings.simplefilter(action='ignore', category=FutureWarning) # Ignore some messages from pandas\n",
    "\n",
    "from tqdm import tqdm\n",
    "import matplotlib.pyplot as plt\n",
    "\n",
    "sys.path.insert(0, '../icenumerics/')\n",
    "import icenumerics as ice\n",
    "from auxiliary import *\n",
    "from montecarlo_tools import *\n",
    "\n",
    "ureg = ice.ureg\n",
    "\n",
    "%reload_ext autoreload\n",
    "%autoreload 2\n",
    "\n",
    "idx = pd.IndexSlice"
   ]
  },
  {
   "cell_type": "code",
   "execution_count": null,
   "metadata": {},
   "outputs": [],
   "source": [
    "plt.rcParams['text.usetex'] = True\n",
    "plt.rcParams['font.family'] = 'serif'"
   ]
  },
  {
   "cell_type": "code",
   "execution_count": null,
   "metadata": {},
   "outputs": [],
   "source": [
    "# Definition of colloids\n",
    "\n",
    "sp = ice.spins()\n",
    "\n",
    "trapSep = 10*ureg.um\n",
    "particleRadius = 5*ureg.um\n",
    "L = 30*ureg.um\n",
    "N = 10\n",
    "\n",
    "# Create simulation objects\n",
    "sp.create_lattice(\"square\",[N,N],lattice_constant=L, border=\"periodic\")\n",
    "\n",
    "particle = ice.particle(radius = particleRadius,\n",
    "            susceptibility = 0.0576,\n",
    "            diffusion = 0.125*ureg.um**2/ureg.s,\n",
    "            temperature = 300*ureg.K,\n",
    "            density = 1000*ureg.kg/ureg.m**3)\n",
    "\n",
    "trap = ice.trap(trap_sep = trapSep,\n",
    "            height = 4*ureg.pN*ureg.nm,\n",
    "            stiffness = 1e-3*ureg.pN/ureg.nm)\n",
    "\n",
    "col = ice.colloidal_ice(sp, particle, trap,\n",
    "            height_spread = 0, \n",
    "            susceptibility_spread = 0.1,\n",
    "            periodic = True)\n",
    "\n",
    "\n",
    "col.randomize()\n",
    "col.region = np.array([[0,0,-3*(particleRadius/L/N).magnitude],[1,1,3*(particleRadius/L/N).magnitude]])*N*L"
   ]
  },
  {
   "cell_type": "markdown",
   "metadata": {},
   "source": [
    "# Simulated Annealing"
   ]
  },
  {
   "cell_type": "markdown",
   "metadata": {},
   "source": [
    "Try to optimize this algorithm\n",
    "\n",
    "* See which functions are slow\n",
    "* See which deep copies can be omitted."
   ]
  },
  {
   "cell_type": "code",
   "execution_count": null,
   "metadata": {},
   "outputs": [],
   "source": [
    "def simulation(colloid, niter = 100):\n",
    "\n",
    "    B0 = 8*ureg.mT\n",
    "    field = [1,0,0]*B0\n",
    "\n",
    "    dataPath = \"../data/test7/\"\n",
    "\n",
    "    # Initialize stuff\n",
    "    energies = np.zeros(niter)\n",
    "\n",
    "    # Save initial state\n",
    "    colloid.to_ctrj().to_csv(dataPath + \"trj0.csv\")\n",
    "\n",
    "    # No sé por qué debo de calcular esto primero xd\n",
    "    Eold = colloid.calculate_energy(B = field).magnitude\n",
    "    energies[0] = Eold\n",
    "\n",
    "    T = 300\n",
    "\n",
    "    for k in tqdm(range(1,niter)):\n",
    "        \n",
    "        newcolloid = colloid.copy(deep = True)\n",
    "        newcolloid = flip_colloids(newcolloid,amount=3)\n",
    "        newcolloid = flipLoop(newcolloid,a=30,size=10)\n",
    "\n",
    "        Enew = newcolloid.calculate_energy(B=field).magnitude\n",
    "        dE = Enew - Eold\n",
    "\n",
    "        # Accept or reject the change\n",
    "        if isaccepted(dE,T):\n",
    "            colloid = newcolloid.copy(deep = True)\n",
    "            #colloid = newcolloid\n",
    "            Eold = Enew\n",
    "            energies[k] = Eold\n",
    "        else:\n",
    "            energies[k] = Eold\n",
    "        \n",
    "        \n",
    "        currentFile = f\"trj{k}.csv\"\n",
    "        colloid.to_ctrj().to_csv(dataPath + currentFile)\n",
    "        \n",
    "        T = 0.9*T\n",
    "    \n",
    "    return colloid, energies\n"
   ]
  },
  {
   "cell_type": "code",
   "execution_count": null,
   "metadata": {},
   "outputs": [],
   "source": [
    "np.random.seed(0)\n",
    "final_state, data = simulation(col,niter=10)"
   ]
  },
  {
   "cell_type": "markdown",
   "metadata": {},
   "source": [
    "## Saving data"
   ]
  },
  {
   "cell_type": "code",
   "execution_count": null,
   "metadata": {},
   "outputs": [],
   "source": [
    "dataPath = \"../data/test7/\"\n",
    "pd.DataFrame(data).to_csv(dataPath + \"data.csv\")"
   ]
  },
  {
   "cell_type": "markdown",
   "metadata": {},
   "source": [
    "## Plotting energy"
   ]
  },
  {
   "cell_type": "code",
   "execution_count": null,
   "metadata": {},
   "outputs": [],
   "source": [
    "fig, ax = plt.subplots(figsize=(5,5))\n",
    "ax.plot(data)\n",
    "ax.set_ylabel(\"Energy\")\n",
    "ax.set_xlabel(\"MC Steps\")"
   ]
  },
  {
   "cell_type": "code",
   "execution_count": null,
   "metadata": {},
   "outputs": [],
   "source": [
    "data[-1]"
   ]
  },
  {
   "cell_type": "code",
   "execution_count": null,
   "metadata": {},
   "outputs": [],
   "source": [
    "B0 = 8*ureg.mT\n",
    "field = [1,0,0]*B0\n",
    "final_state.calculate_energy(B=field)"
   ]
  },
  {
   "cell_type": "markdown",
   "metadata": {},
   "source": [
    "## Plotting states"
   ]
  },
  {
   "cell_type": "code",
   "execution_count": null,
   "metadata": {},
   "outputs": [],
   "source": [
    "fig, ax = plt.subplots(figsize=(5,5))\n",
    "v = ice.vertices()\n",
    "v = v.colloids_to_vertices(col)\n",
    "col.display(ax)\n",
    "v.display()\n",
    "fig.savefig(\"initial.png\")"
   ]
  },
  {
   "cell_type": "code",
   "execution_count": null,
   "metadata": {},
   "outputs": [],
   "source": [
    "fig, ax = plt.subplots(figsize=(5,5))\n",
    "v = ice.vertices()\n",
    "v = v.colloids_to_vertices(final_state)\n",
    "final_state.display(ax)\n",
    "v.display()\n",
    "fig.savefig(\"final.png\")"
   ]
  },
  {
   "cell_type": "markdown",
   "metadata": {},
   "source": [
    "# Loading experiments and performing some analysis"
   ]
  },
  {
   "cell_type": "code",
   "execution_count": null,
   "metadata": {},
   "outputs": [],
   "source": [
    "final_trj = pd.read_csv(\"../data/test6/r2/trj9999.csv\", index_col=0)\n",
    "energies = pd.read_csv(\"../data/test6/r2/energies.csv\", index_col=0)\n",
    "final_trj.head()"
   ]
  },
  {
   "cell_type": "code",
   "execution_count": null,
   "metadata": {},
   "outputs": [],
   "source": [
    "col = get_colloids_from_ctrj(final_trj,particle,trap)\n",
    "col.region = np.array([[0,0,-3*(particleRadius/L/N).magnitude],[1,1,3*(particleRadius/L/N).magnitude]])*N*L\n",
    "\n",
    "v = ice.vertices()\n",
    "v = v.colloids_to_vertices(col)\n",
    "v.vertices.head()"
   ]
  },
  {
   "cell_type": "code",
   "execution_count": null,
   "metadata": {},
   "outputs": [],
   "source": [
    "fig, ax = plt.subplots(figsize=(4,4))\n",
    "col.display(ax)\n",
    "v.display(ax)"
   ]
  },
  {
   "cell_type": "code",
   "execution_count": null,
   "metadata": {},
   "outputs": [],
   "source": [
    "energy = getEnergy(col)\n",
    "print(energy)\n",
    "energies.tail()"
   ]
  },
  {
   "cell_type": "code",
   "execution_count": null,
   "metadata": {},
   "outputs": [],
   "source": [
    "vertices = classifyVertices(v.vertices)\n",
    "count_vertices_single(vertices)"
   ]
  },
  {
   "cell_type": "markdown",
   "metadata": {},
   "source": [
    "# Suffering flippling colloids"
   ]
  },
  {
   "cell_type": "code",
   "execution_count": null,
   "metadata": {},
   "outputs": [],
   "source": [
    "col2 = col.copy(deep=True) "
   ]
  },
  {
   "cell_type": "code",
   "execution_count": null,
   "metadata": {},
   "outputs": [],
   "source": [
    "indices = [90,99,191,193,195,197,199,186,162,61,62,151,152,153,159,50,51,52,57,58,59,141,142,147,148,149,\n",
    "           40,41,42,46,47,48,49,131,132,133,136,137,138,139,\n",
    "           30,31,32,33,35,36,37,38,39,121,122,123,126,127,128,129,\n",
    "           20,21,22,23,24,25,26,27,28,29,111,112,113,114,115,116,117,118,119,\n",
    "           10,11,12,13,14,15,16,17,18,19,101,102,103,104,105,106,107,108,109,\n",
    "           180,150,130,120,110,100,\n",
    "           0,1,2,3,4,5,6,7,8,9\n",
    "           ]\n",
    "\n",
    "\n",
    "\n",
    "col2 = flipColloids_norandom(col2,indices)\n"
   ]
  },
  {
   "cell_type": "code",
   "execution_count": null,
   "metadata": {},
   "outputs": [],
   "source": [
    "v = ice.vertices()\n",
    "v = v.colloids_to_vertices(col2)"
   ]
  },
  {
   "cell_type": "code",
   "execution_count": null,
   "metadata": {},
   "outputs": [],
   "source": [
    "fig, ax = plt.subplots(figsize=(4,4))\n",
    "col2.display(ax)\n",
    "v.display(ax)"
   ]
  },
  {
   "cell_type": "code",
   "execution_count": null,
   "metadata": {},
   "outputs": [],
   "source": [
    "gs = col2.to_ctrj()"
   ]
  },
  {
   "cell_type": "code",
   "execution_count": null,
   "metadata": {},
   "outputs": [],
   "source": [
    "gs.to_csv(\"../data/gs90deg.csv\")"
   ]
  },
  {
   "cell_type": "code",
   "execution_count": null,
   "metadata": {},
   "outputs": [],
   "source": [
    "E0 = getEnergy(col)\n",
    "E1 = getEnergy(col2)\n",
    "E1 - E0"
   ]
  },
  {
   "cell_type": "markdown",
   "metadata": {},
   "source": [
    "# Test stuff\n",
    "\n",
    "Random experimental stuff that is not relevant for this test xd.\n",
    "\n",
    "* Put all mcsteps in a multi index frame"
   ]
  },
  {
   "cell_type": "markdown",
   "metadata": {},
   "source": [
    "Here I was trying the idea above but failed haha"
   ]
  },
  {
   "cell_type": "code",
   "execution_count": null,
   "metadata": {},
   "outputs": [],
   "source": [
    "state1 = col.to_ctrj()\n",
    "state2 = flipColloids(col,10).to_ctrj()\n",
    "\n",
    "mcsteps = [k for k in range(2)]\n",
    "particles = state1.index.get_level_values(\"id\").values\n",
    "\n",
    "index = pd.MultiIndex.from_product([mcsteps,particles], names=[\"mcstep\",\"id\"])\n",
    "trj = pd.DataFrame(columns=state1.columns.to_list(), index=index)\n",
    "trj"
   ]
  }
 ],
 "metadata": {
  "kernelspec": {
   "display_name": "Python 3",
   "language": "python",
   "name": "python3"
  },
  "language_info": {
   "codemirror_mode": {
    "name": "ipython",
    "version": 3
   },
   "file_extension": ".py",
   "mimetype": "text/x-python",
   "name": "python",
   "nbconvert_exporter": "python",
   "pygments_lexer": "ipython3",
   "version": "3.10.12"
  }
 },
 "nbformat": 4,
 "nbformat_minor": 2
}
