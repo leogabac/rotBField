{
 "cells": [
  {
   "cell_type": "markdown",
   "metadata": {},
   "source": [
    "# Test 12\n",
    "\n",
    "_Contar vértices pero barriendo todos los ángulos_\n",
    "\n",
    "Es lo mismo que hice al inicio, solo que no quería arreglar los scripts viejos.\n",
    "\n",
    "**Simulation with LAMMPS**\n",
    "\n",
    "Simulations are done by a rotation in 60s + Evolution (60s)\n",
    "\n",
    "**Analysis**\n",
    "\n",
    "Vertices counts."
   ]
  },
  {
   "cell_type": "code",
   "execution_count": null,
   "metadata": {},
   "outputs": [],
   "source": [
    "import os\n",
    "import sys\n",
    "\n",
    "import numpy as np\n",
    "import pandas as pd\n",
    "\n",
    "from tqdm import tqdm\n",
    "from IPython.display import clear_output\n",
    "\n",
    "import matplotlib.pyplot as plt\n",
    "\n",
    "sys.path.insert(0, '../icenumerics/')\n",
    "import icenumerics as ice\n",
    "\n",
    "import auxiliary as aux\n",
    "import montecarlo_tools as mc\n",
    "import chirality_tools as chir\n",
    "\n",
    "ureg = ice.ureg\n",
    "\n",
    "%reload_ext autoreload\n",
    "%autoreload 2\n",
    "\n",
    "idx = pd.IndexSlice"
   ]
  },
  {
   "cell_type": "code",
   "execution_count": null,
   "metadata": {},
   "outputs": [],
   "source": [
    "plt.rcParams['text.usetex'] = True\n",
    "plt.rcParams['font.family'] = 'serif'\n",
    "plt.rcParams['axes.grid'] = True\n"
   ]
  },
  {
   "cell_type": "markdown",
   "metadata": {},
   "source": [
    "# MD Simulations\n",
    "\n",
    "This part only generates the datasets to work with for all angles."
   ]
  },
  {
   "cell_type": "code",
   "execution_count": null,
   "metadata": {},
   "outputs": [],
   "source": [
    "params = {\n",
    "    \"particle_radius\":5*ureg.um,\n",
    "    \"particle_susceptibility\":0.0576,\n",
    "    \"particle_diffusion\":0.125*ureg.um**2/ureg.s,\n",
    "    \"particle_temperature\":300*ureg.K,\n",
    "    \"particle_density\":1000*ureg.kg/ureg.m**3,\n",
    "\n",
    "    \"trap_sep\":10*ureg.um,\n",
    "    \"trap_height\":4*ureg.pN*ureg.nm,\n",
    "    \"trap_stiffness\":1e-3*ureg.pN/ureg.nm,\n",
    "    \"height_spread\":0,\n",
    "    \"susceptibility_spread\":0,\n",
    "    \"isperiodic\":True,\n",
    "    \n",
    "    \"total_time\":120*ureg.s,\n",
    "    \"framespersec\":20*ureg.Hz,\n",
    "    \"dt\":10*ureg.ms,\n",
    "    \"max_field\":7*ureg.mT,\n",
    "    \"sim_temp\":300*ureg.K,\n",
    "    \"sim_dipole_cutoff\":40*ureg.um,\n",
    "    \n",
    "    \"lattice_constant\":30*ureg.um,\n",
    "    \"size\" : 10\n",
    "}"
   ]
  },
  {
   "cell_type": "code",
   "execution_count": null,
   "metadata": {},
   "outputs": [],
   "source": [
    "def get_md_colloid(params,realization):\n",
    "    sp = ice.spins()\n",
    "    \n",
    "    N = params[\"size\"]\n",
    "    a = params[\"lattice_constant\"]\n",
    "    \n",
    "    # Create simulation objects\n",
    "    sp.create_lattice(\"square\",[N,N],lattice_constant=a, border=\"periodic\")\n",
    "\n",
    "    particle = ice.particle(radius = params[\"particle_radius\"],\n",
    "                susceptibility = params[\"particle_susceptibility\"],\n",
    "                diffusion = params[\"particle_diffusion\"],\n",
    "                temperature = params[\"particle_temperature\"],\n",
    "                density = params[\"particle_density\"])\n",
    "\n",
    "    trap = ice.trap(trap_sep = params[\"trap_sep\"],\n",
    "                height = params[\"trap_height\"],\n",
    "                stiffness = params[\"trap_stiffness\"])\n",
    "\n",
    "    col = ice.colloidal_ice(sp, particle, trap,\n",
    "                            height_spread = params[\"height_spread\"], \n",
    "                            susceptibility_spread = params[\"susceptibility_spread\"],\n",
    "                            periodic = params[\"isperiodic\"])\n",
    "\n",
    "        \n",
    "    col.randomize()\n",
    "    col.region = np.array([[0,0,-3*(params[\"particle_radius\"]/a/N).magnitude],[1,1,3*(params[\"particle_radius\"]/a/N).magnitude]])*N*a\n",
    "\n",
    "\n",
    "    world = ice.world(\n",
    "            field = params[\"max_field\"],\n",
    "            temperature = params[\"sim_temp\"],\n",
    "            dipole_cutoff = params[\"sim_dipole_cutoff\"],\n",
    "            boundaries=['p', 'p', 'p'])\n",
    "\n",
    "\n",
    "    col.simulation(world,\n",
    "                name = f\"lammps_files/test{realization}\",\n",
    "                include_timestamp = False,\n",
    "                targetdir = r\".\",\n",
    "                framerate = params[\"framespersec\"],\n",
    "                timestep = params[\"dt\"],\n",
    "                run_time = params[\"total_time\"],\n",
    "                output = [\"x\",\"y\",\"z\",\"mux\",\"muy\",\"muz\"],\n",
    "                processors=1)\n",
    "\n",
    "    # Field\n",
    "        \n",
    "    #col.sim.field.fieldx = \"v_Bmag*sin(PI/2/60*time/1e6)*(time<60e6)+v_Bmag*(time>=60e6) \"\n",
    "    #col.sim.field.fieldy = \"0\"\n",
    "    #col.sim.field.fieldz = \"v_Bmag*cos(PI/2/60*time/1e6)*(time<60e6)+0*(time>=60e6)\"\n",
    "    \n",
    "    col.sim.field.fieldx = \"v_Bmag*sin(PI/2/60*(time-60e6)/1e6)*(time>=60e6)\"\n",
    "    col.sim.field.fieldy = \"0\"\n",
    "    col.sim.field.fieldz = \"v_Bmag/60e6*time*(time<60e6)+v_Bmag*cos(PI/2/60*(time-60e6)/1e6)*(time>=60e6)\"        \n",
    "\n",
    "\n",
    "    col.run_simulation()\n",
    "\n",
    "    col.load_simulation()\n",
    "\n",
    "    return col"
   ]
  },
  {
   "cell_type": "code",
   "execution_count": null,
   "metadata": {},
   "outputs": [],
   "source": [
    "def jesus_take_the_wheels(params,data_path,realization):\n",
    "    trj_path = data_path + \"/trj/\"\n",
    "    ctrj_path = data_path + \"/ctrj/\"\n",
    "\n",
    "    try:\n",
    "        os.mkdir(trj_path)\n",
    "        os.mkdir(ctrj_path)\n",
    "    except:\n",
    "        pass\n",
    "    \n",
    "    col = get_md_colloid(params,realization)\n",
    "\n",
    "    filename = f\"trj{realization}.csv\"\n",
    "    col.trj.to_csv(trj_path + filename)\n",
    "\n",
    "    filename = f\"ctrj{realization}.csv\"\n",
    "    trj = ice.get_ice_trj(col.trj, bounds = col.bnd)\n",
    "    trj.to_csv(ctrj_path + filename)\n",
    "    \n",
    "    return None"
   ]
  },
  {
   "cell_type": "markdown",
   "metadata": {},
   "source": [
    "# MD Sims"
   ]
  },
  {
   "cell_type": "markdown",
   "metadata": {},
   "source": [
    "This block checks which angles are going to be ran. Helps for running by batches."
   ]
  },
  {
   "cell_type": "code",
   "execution_count": null,
   "metadata": {},
   "outputs": [],
   "source": [
    "import concurrent.futures"
   ]
  },
  {
   "cell_type": "code",
   "execution_count": null,
   "metadata": {},
   "outputs": [],
   "source": [
    "runs = 10\n",
    "data_path = \"../data/test13\"\n",
    "realizations = list(range(1,runs+1))\n",
    "with concurrent.futures.ThreadPoolExecutor(max_workers=2) as executor:\n",
    "    # map the function to the realizations\n",
    "    results = list(\n",
    "        executor.map(\n",
    "            jesus_take_the_wheels,\n",
    "            [params] * len(realizations),\n",
    "            [data_path] * len(realizations),\n",
    "            realizations,\n",
    "        )\n",
    "    )"
   ]
  },
  {
   "cell_type": "markdown",
   "metadata": {},
   "source": [
    "This section graphs the fields just to check that everything is OK."
   ]
  },
  {
   "cell_type": "code",
   "execution_count": null,
   "metadata": {},
   "outputs": [],
   "source": [
    "trj_raw = trj = pd.read_csv(\"../data/test13/trj/trj10.csv\", index_col=[0,1])\n",
    "ctrj_raw = pd.read_csv(\"../data/test13/ctrj/ctrj10.csv\", index_col=[0,1])\n",
    "\n",
    "fig, axes = plt.subplots(1,3,figsize=(9,2),dpi=150)\n",
    "\n",
    "ax = axes[0]\n",
    "ax.plot(np.array(trj_raw.loc[idx[:,1],\"t\"]),np.array(trj_raw.loc[idx[:,1],\"mux\"]))\n",
    "ax.set_title(\"$\\\\sim B_x$\")\n",
    "ax.ticklabel_format(style='sci',scilimits=(0,0))\n",
    "\n",
    "ax = axes[1]\n",
    "ax.plot(np.array(trj_raw.loc[idx[:,1],\"t\"]),np.array(trj_raw.loc[idx[:,1],\"muy\"]))\n",
    "ax.set_title(\"$\\\\sim B_y$\")\n",
    "ax.ticklabel_format(style='sci',scilimits=(0,0))\n",
    "\n",
    "ax = axes[2]\n",
    "ax.plot(np.array(trj_raw.loc[idx[:,1],\"t\"]),np.array(trj_raw.loc[idx[:,1],\"muz\"]))\n",
    "ax.set_title(\"$\\\\sim B_z$\")\n",
    "ax.ticklabel_format(style='sci',scilimits=(0,0))\n",
    "\n",
    "plt.show()"
   ]
  },
  {
   "cell_type": "code",
   "execution_count": null,
   "metadata": {},
   "outputs": [],
   "source": [
    "trjPath = \"../data/test13/trj/\"\n",
    "ctrjPath = \"../data/test13/ctrj/\"\n",
    "verticesPath = \"../data/test13/vertices/\"\n",
    "\n",
    "# Get the number of realizations\n",
    "_, _, files = next(os.walk(trjPath))\n",
    "realizations = len(files)\n",
    "\n",
    "for i in range(1,realizations+1):\n",
    "    print(\"========================================\")\n",
    "    print(f\"Working on realization {i}\")\n",
    "\n",
    "    # Importing files\n",
    "    trjFile = trjPath + f\"trj{i}.csv\"\n",
    "    print(f\"Opening \" + trjFile)\n",
    "    ctrjFile = ctrjPath + f\"ctrj{i}.csv\"\n",
    "    print(f\"Opening \" + ctrjFile)\n",
    "    trj_raw = trj = pd.read_csv(trjFile, index_col=[0,1])\n",
    "    ctrj_raw = pd.read_csv(ctrjFile, index_col=[0,1])\n",
    "\n",
    "    v = ice.vertices()\n",
    "    frames = ctrj_raw.index.get_level_values(\"frame\").unique()\n",
    "\n",
    "    verticesFile = verticesPath + f\"vertices{i}.csv\"\n",
    "    v.trj_to_vertices(ctrj_raw.loc[frames[::5]])\n",
    "\n",
    "    print(f\"Saving vertices to \" + verticesFile)\n",
    "    v.vertices.to_csv(verticesFile)\n",
    "    \n",
    "    clear_output(wait=True)"
   ]
  },
  {
   "cell_type": "markdown",
   "metadata": {},
   "source": [
    "# Analysis"
   ]
  },
  {
   "cell_type": "code",
   "execution_count": null,
   "metadata": {},
   "outputs": [],
   "source": [
    "# Import and classify the vertices\n",
    "vrt_path = \"../data/test13/vertices/\"\n",
    "vertices = aux.getVerticesDict(vrt_path)\n",
    "vertices[\"10\"]"
   ]
  },
  {
   "cell_type": "code",
   "execution_count": null,
   "metadata": {},
   "outputs": [],
   "source": [
    "counts = aux.getVerticesCount(vertices)\n",
    "counts[\"2\"]"
   ]
  },
  {
   "cell_type": "code",
   "execution_count": null,
   "metadata": {},
   "outputs": [],
   "source": [
    "vrt_ts = aux.getVerticesAverage(counts,params[\"framespersec\"])\n",
    "types = vrt_ts.columns.to_list()[1:]\n",
    "t = vrt_ts[\"time\"].to_numpy()\n",
    "vrt_counts = vrt_ts[types].to_numpy()"
   ]
  },
  {
   "cell_type": "code",
   "execution_count": null,
   "metadata": {},
   "outputs": [],
   "source": [
    "fig, ax = plt.subplots(figsize=(10,4))\n",
    "\n",
    "ax.plot(t,vrt_counts[:,0])\n",
    "ax.plot(t,vrt_counts[:,1])\n",
    "ax.plot(t,vrt_counts[:,2])\n",
    "ax.plot(t,vrt_counts[:,3])\n",
    "ax.plot(t,vrt_counts[:,4])\n",
    "ax.plot(t,vrt_counts[:,5])\n",
    "\n",
    "ax.legend(types, fontsize=12,title='Type', title_fontsize=15, edgecolor='black')\n",
    "ax.set_xlabel(\"$t$  [ s ] \", fontsize=15)\n",
    "ax.set_ylabel(\"Vertices counts\", fontsize=15)\n",
    "ax.set_xlim(0,120)\n",
    "ax.set_ylim(0,0.8)\n",
    "plt.show()\n",
    "\n",
    "fig.savefig('../data/vertices_full.pdf', bbox_inches='tight')\n",
    "fig.savefig('../data/vertices_full.jpeg', dpi=300)"
   ]
  },
  {
   "cell_type": "code",
   "execution_count": null,
   "metadata": {},
   "outputs": [],
   "source": [
    "b = t>=60\n",
    "t_rot = t[b]\n",
    "counts_rot = vrt_counts[b,:]\n",
    "rot_angle = 90/60*(t_rot-60) # degrees\n"
   ]
  },
  {
   "cell_type": "code",
   "execution_count": null,
   "metadata": {},
   "outputs": [],
   "source": [
    "fig, ax = plt.subplots(figsize=(10,4))\n",
    "\n",
    "ax.plot(rot_angle,counts_rot[:,0], lw=2.0)\n",
    "ax.plot(rot_angle,counts_rot[:,1], lw=2.0)\n",
    "ax.plot(rot_angle,counts_rot[:,2], lw=2.0)\n",
    "ax.plot(rot_angle,counts_rot[:,3], lw=2.0)\n",
    "ax.plot(rot_angle,counts_rot[:,4], lw=2.0)\n",
    "ax.plot(rot_angle,counts_rot[:,5], lw=2.0)\n",
    "\n",
    "ax.legend(types, fontsize=12,title='Type', title_fontsize=15, edgecolor='black', loc='upper right')\n",
    "ax.set_xlabel(\"$\\\\theta$  [ $^\\\\circ$ ] \", fontsize=15)\n",
    "ax.set_ylabel(\"Vertices counts\", fontsize=15)\n",
    "ax.set_xlim(0,90)\n",
    "ax.set_ylim(0,0.8)\n",
    "plt.show()\n",
    "\n",
    "fig.savefig('../data/vertices.pdf', bbox_inches='tight')\n",
    "fig.savefig('../data/vertices.jpeg', dpi=300)"
   ]
  },
  {
   "cell_type": "code",
   "execution_count": null,
   "metadata": {},
   "outputs": [],
   "source": []
  }
 ],
 "metadata": {
  "kernelspec": {
   "display_name": "Python 3",
   "language": "python",
   "name": "python3"
  },
  "language_info": {
   "codemirror_mode": {
    "name": "ipython",
    "version": 3
   },
   "file_extension": ".py",
   "mimetype": "text/x-python",
   "name": "python",
   "nbconvert_exporter": "python",
   "pygments_lexer": "ipython3",
   "version": "3.8.10"
  }
 },
 "nbformat": 4,
 "nbformat_minor": 2
}
