{
 "cells": [
  {
   "cell_type": "markdown",
   "metadata": {},
   "source": [
    "# Test 15\n",
    "\n",
    "_Quench + Rotation_\n"
   ]
  },
  {
   "cell_type": "code",
   "execution_count": null,
   "metadata": {},
   "outputs": [],
   "source": [
    "import os\n",
    "import sys\n",
    "\n",
    "import numpy as np\n",
    "import pandas as pd\n",
    "\n",
    "from tqdm import tqdm\n",
    "from IPython.display import clear_output\n",
    "\n",
    "import matplotlib as mpl \n",
    "#mpl.use('pgf')\n",
    "import matplotlib.pyplot as plt\n",
    "\n",
    "sys.path.insert(0, '../icenumerics/')\n",
    "import icenumerics as ice\n",
    "\n",
    "import auxiliary as aux\n",
    "import montecarlo_tools as mc\n",
    "import chirality_tools as chir\n",
    "ureg = ice.ureg\n",
    "\n",
    "%reload_ext autoreload\n",
    "%autoreload 2\n",
    "\n",
    "idx = pd.IndexSlice"
   ]
  },
  {
   "cell_type": "code",
   "execution_count": null,
   "metadata": {},
   "outputs": [],
   "source": [
    "plt.rcParams.update({\n",
    "    \"pgf.texsystem\": \"pdflatex\",\n",
    "    'font.family': 'serif',\n",
    "    'text.usetex': True,\n",
    "    'pgf.rcfonts': False,\n",
    "})"
   ]
  },
  {
   "cell_type": "markdown",
   "metadata": {},
   "source": [
    "# MD Simulations\n",
    "\n",
    "This part only generates the datasets to work with for all angles."
   ]
  },
  {
   "cell_type": "code",
   "execution_count": null,
   "metadata": {},
   "outputs": [],
   "source": [
    "quench_time = 120*ureg.s\n",
    "rotation_time = 300*ureg.s\n",
    "total_time = quench_time + rotation_time\n",
    "data_path = \"../data/test15/\"\n",
    "runs = 10\n",
    "\n",
    "params = {\n",
    "    \"particle_radius\":1.4*ureg.um,\n",
    "    \"particle_susceptibility\":0.4,\n",
    "    \"particle_diffusion\":0.14*ureg.um**2/ureg.s,\n",
    "    \"particle_temperature\":300*ureg.K,\n",
    "    \"particle_density\":1000*ureg.kg/ureg.m**3,\n",
    "\n",
    "    \"trap_sep\":3*ureg.um,\n",
    "    \"trap_height\":8*ureg.pN*ureg.nm,\n",
    "    \"trap_stiffness\":10e-3*ureg.pN/ureg.nm,\n",
    "    \"height_spread\":0,\n",
    "    \"susceptibility_spread\":0,\n",
    "    \"isperiodic\":True,\n",
    "\n",
    "    \"total_time\":total_time,\n",
    "    \"framespersec\":20*ureg.Hz,\n",
    "    \"dt\":1*ureg.ms,\n",
    "    \"max_field\":5*ureg.mT,\n",
    "    \"sim_temp\":300*ureg.K,\n",
    "    \"sim_dipole_cutoff\":40*ureg.um,\n",
    "}\n",
    "\n",
    "params[\"lattice_constant\"] = params[\"trap_sep\"]+(2*params[\"particle_radius\"]+1*ureg.um)*np.sqrt(2)\n",
    "params[\"size\"] = 10\n",
    "\n",
    "#locals().update(params)"
   ]
  },
  {
   "cell_type": "code",
   "execution_count": null,
   "metadata": {},
   "outputs": [],
   "source": [
    "def get_md_colloid(params,realization):\n",
    "    sp = ice.spins()\n",
    "    \n",
    "    N = params[\"size\"]\n",
    "    a = params[\"lattice_constant\"]\n",
    "    \n",
    "    # Create simulation objects\n",
    "    sp.create_lattice(\"square\",[N,N],lattice_constant=a, border=\"periodic\")\n",
    "\n",
    "    particle = ice.particle(radius = params[\"particle_radius\"],\n",
    "                susceptibility = params[\"particle_susceptibility\"],\n",
    "                diffusion = params[\"particle_diffusion\"],\n",
    "                temperature = params[\"particle_temperature\"],\n",
    "                density = params[\"particle_density\"])\n",
    "\n",
    "    trap = ice.trap(trap_sep = params[\"trap_sep\"],\n",
    "                height = params[\"trap_height\"],\n",
    "                stiffness = params[\"trap_stiffness\"])\n",
    "\n",
    "    col = ice.colloidal_ice(sp, particle, trap,\n",
    "                            height_spread = params[\"height_spread\"], \n",
    "                            susceptibility_spread = params[\"susceptibility_spread\"],\n",
    "                            periodic = params[\"isperiodic\"])\n",
    "\n",
    "        \n",
    "    col.randomize()\n",
    "    col.region = np.array([[0,0,-3*(params[\"particle_radius\"]/a/N).magnitude],[1,1,3*(params[\"particle_radius\"]/a/N).magnitude]])*N*a\n",
    "\n",
    "\n",
    "    world = ice.world(\n",
    "            field = params[\"max_field\"],\n",
    "            temperature = params[\"sim_temp\"],\n",
    "            dipole_cutoff = params[\"sim_dipole_cutoff\"],\n",
    "            boundaries=['p', 'p', 'p'])\n",
    "\n",
    "\n",
    "    col.simulation(world,\n",
    "                name = f\"./lammps_files/test{realization}\",\n",
    "                include_timestamp = False,\n",
    "                targetdir = r\".\",\n",
    "                framerate = params[\"framespersec\"],\n",
    "                timestep = params[\"dt\"],\n",
    "                run_time = params[\"total_time\"],\n",
    "                output = [\"x\",\"y\",\"z\",\"mux\",\"muy\",\"muz\"],\n",
    "                processors=1)\n",
    "\n",
    "    # Field\n",
    "    \n",
    "\n",
    "    col.sim.field.fieldx = \"v_Bmag*sin(PI/2/300*(time-120e6)/1e6)*(time>=120e6)\"\n",
    "    col.sim.field.fieldy = \"0\"\n",
    "    col.sim.field.fieldz = \"v_Bmag/120e6*time*(time<120e6)+v_Bmag*cos(PI/2/300*(time-120e6)/1e6)*(time>=120e6)\"        \n",
    "        \n",
    "    col.run_simulation()\n",
    "\n",
    "    col.load_simulation()\n",
    "\n",
    "    return col"
   ]
  },
  {
   "cell_type": "code",
   "execution_count": null,
   "metadata": {},
   "outputs": [],
   "source": [
    "def jesus_take_the_wheels(params,data_path,realization):\n",
    "    trj_path = data_path + \"/trj/\"\n",
    "    ctrj_path = data_path + \"/ctrj/\"\n",
    "\n",
    "    try:\n",
    "        os.mkdir(trj_path)\n",
    "        os.mkdir(ctrj_path)\n",
    "    except:\n",
    "        pass\n",
    "    \n",
    "    col = get_md_colloid(params,realization)\n",
    "\n",
    "    filename = f\"trj{realization}.csv\"\n",
    "    col.trj.to_csv(trj_path + filename)\n",
    "\n",
    "    filename = f\"ctrj{realization}.csv\"\n",
    "    trj = ice.get_ice_trj(col.trj, bounds = col.bnd)\n",
    "    trj.to_csv(ctrj_path + filename)\n",
    "    \n",
    "    return None"
   ]
  },
  {
   "cell_type": "markdown",
   "metadata": {},
   "source": [
    "# MD Sims"
   ]
  },
  {
   "cell_type": "markdown",
   "metadata": {},
   "source": [
    "This block checks which angles are going to be ran. Helps for running by batches."
   ]
  },
  {
   "cell_type": "code",
   "execution_count": null,
   "metadata": {},
   "outputs": [],
   "source": [
    "import concurrent.futures"
   ]
  },
  {
   "cell_type": "code",
   "execution_count": null,
   "metadata": {},
   "outputs": [],
   "source": [
    "runs = 10\n",
    "data_path = \"../data/test15\"\n",
    "realizations = list(range(1,runs+1))\n",
    "with concurrent.futures.ThreadPoolExecutor(max_workers=5) as executor:\n",
    "    # map the function to the realizations\n",
    "    results = list(\n",
    "        executor.map(\n",
    "            jesus_take_the_wheels,\n",
    "            [params] * len(realizations),\n",
    "            [data_path] * len(realizations),\n",
    "            realizations,\n",
    "        )\n",
    "    )"
   ]
  },
  {
   "cell_type": "markdown",
   "metadata": {},
   "source": [
    "This section graphs the fields just to check that everything is OK."
   ]
  },
  {
   "cell_type": "code",
   "execution_count": null,
   "metadata": {},
   "outputs": [],
   "source": [
    "trj_raw = trj = pd.read_csv(\"../data/test15/trj/trj1.csv\", index_col=[0,1])\n",
    "ctrj_raw = pd.read_csv(\"../data/test15/ctrj/ctrj1.csv\", index_col=[0,1])\n",
    "\n",
    "fig, axes = plt.subplots(1,3,figsize=(9,2),dpi=150)\n",
    "\n",
    "ax = axes[0]\n",
    "ax.plot(np.array(trj_raw.loc[idx[:,1],\"t\"]),np.array(trj_raw.loc[idx[:,1],\"mux\"]))\n",
    "ax.set_title(\"$\\\\sim B_x$\")\n",
    "ax.ticklabel_format(style='sci',scilimits=(0,0))\n",
    "\n",
    "ax = axes[1]\n",
    "ax.plot(np.array(trj_raw.loc[idx[:,1],\"t\"]),np.array(trj_raw.loc[idx[:,1],\"muy\"]))\n",
    "ax.set_title(\"$\\\\sim B_y$\")\n",
    "ax.ticklabel_format(style='sci',scilimits=(0,0))\n",
    "\n",
    "ax = axes[2]\n",
    "ax.plot(np.array(trj_raw.loc[idx[:,1],\"t\"]),np.array(trj_raw.loc[idx[:,1],\"muz\"]))\n",
    "ax.set_title(\"$\\\\sim B_z$\")\n",
    "ax.ticklabel_format(style='sci',scilimits=(0,0))\n",
    "\n",
    "plt.show()"
   ]
  },
  {
   "cell_type": "markdown",
   "metadata": {},
   "source": [
    "# Chirality\n",
    "\n",
    "This section deals with chirality computations for all angles. \\\n",
    "Check the _chirality_tools.py_ for more information."
   ]
  },
  {
   "cell_type": "code",
   "execution_count": null,
   "metadata": {},
   "outputs": [],
   "source": [
    "# General information\n",
    "\n",
    "particle = ice.particle(radius = params[\"particle_radius\"],\n",
    "            susceptibility = params[\"particle_susceptibility\"],\n",
    "            diffusion = params[\"particle_diffusion\"],\n",
    "            temperature = params[\"particle_temperature\"],\n",
    "            density = params[\"particle_density\"])\n",
    "\n",
    "trap = ice.trap(trap_sep = params[\"trap_sep\"],\n",
    "            height = params[\"trap_height\"],\n",
    "            stiffness = params[\"trap_stiffness\"])\n",
    "\n",
    "\n",
    "params[\"particle\"] = particle\n",
    "params[\"trap\"] = trap\n"
   ]
  },
  {
   "cell_type": "markdown",
   "metadata": {},
   "source": [
    "Getting the analysis frames"
   ]
  },
  {
   "cell_type": "code",
   "execution_count": null,
   "metadata": {},
   "outputs": [],
   "source": [
    "quench_time = 120*ureg.s \n",
    "initial_frame = (params['framespersec'] * quench_time).magnitude\n",
    "last_frame = trj_raw.index.get_level_values(\"frame\").unique()[-1]\n",
    "analysis_frames = list(range(initial_frame,last_frame+1,1))\n",
    "framestodo = analysis_frames[::200]\n",
    "len(framestodo)\n"
   ]
  },
  {
   "cell_type": "code",
   "execution_count": null,
   "metadata": {},
   "outputs": [],
   "source": [
    "phi = []\n",
    "runs = 10\n",
    "\n",
    "data_path = '../data/test15/'\n",
    "\n",
    "for frame in tqdm(framestodo):\n",
    "\n",
    "    angle_chirs = [chir.get_chirality_on_realization2(params,data_path,i,sel_frame=frame) for i in range(1,runs+1)]\n",
    "\n",
    "    phi.append(angle_chirs)\n",
    "\n",
    "phi"
   ]
  },
  {
   "cell_type": "code",
   "execution_count": null,
   "metadata": {},
   "outputs": [],
   "source": [
    "cols = ['frame'] + [str(i) for i in range(runs)]\n",
    "npframe = np.array(framestodo).reshape(-1,1)"
   ]
  },
  {
   "cell_type": "code",
   "execution_count": null,
   "metadata": {},
   "outputs": [],
   "source": [
    "phi_df = pd.DataFrame(phi,columns = [str(i) for i in range(runs)])\n",
    "phi_df['frame'] = npframe\n",
    "phi_df.to_csv(f\"{data_path}/chirality.csv\")\n",
    "phi_df"
   ]
  },
  {
   "cell_type": "code",
   "execution_count": null,
   "metadata": {},
   "outputs": [],
   "source": [
    "phi_df.applymap(np.abs).mean(axis=1)"
   ]
  },
  {
   "cell_type": "markdown",
   "metadata": {},
   "source": [
    "# Complementary order parameter\n",
    "\n",
    "$$\n",
    "    Q = \\sum_{i,j} (-1)^{i+j}q_{ij}\n",
    "$$"
   ]
  },
  {
   "cell_type": "code",
   "execution_count": null,
   "metadata": {},
   "outputs": [],
   "source": [
    "i=5\n",
    "os.path.join(data_path,\"trj\",f\"trj{i}.csv\")"
   ]
  },
  {
   "cell_type": "code",
   "execution_count": null,
   "metadata": {},
   "outputs": [],
   "source": [
    "trj_path = os.path.join(data_path,\"trj\")\n",
    "ctrj_path = os.path.join(data_path,\"ctrj\")\n",
    "vrt_path = os.path.join(data_path,\"vertices\")\n",
    "\n",
    "# Get the number of realizations\n",
    "_, _, files = next(os.walk(trj_path))\n",
    "realizations = len(files)\n",
    "\n",
    "for i in range(1,realizations+1):\n",
    "    print(\"========================================\")\n",
    "    print(f\"Working on realization {i}\")\n",
    "\n",
    "    # Importing files\n",
    "    trj_file = os.path.join(trj_path,f\"trj{i}.csv\")\n",
    "    print(f\"Opening \" + trj_file)\n",
    "    ctrj_file = os.path.join(ctrj_path,f\"ctrj{i}.csv\")\n",
    "    print(f\"Opening \" + ctrj_file)\n",
    "    trj_raw = trj = pd.read_csv(trj_file, index_col=[0,1])\n",
    "    ctrj_raw = pd.read_csv(ctrj_file, index_col=[0,1])\n",
    "\n",
    "    # Doing shit with the vertices\n",
    "    v = ice.vertices()\n",
    "    frames = ctrj_raw.index.get_level_values(\"frame\").unique()\n",
    "\n",
    "    vrt_file = os.path.join(vrt_path,f\"vertices{i}.csv\")\n",
    "    v.trj_to_vertices(ctrj_raw.loc[frames[::5]])\n",
    "\n",
    "    print(f\"Saving vertices to \" + vrt_file)\n",
    "    v.vertices.to_csv(vrt_file)\n",
    "    \n",
    "    clear_output(wait=True)"
   ]
  },
  {
   "cell_type": "code",
   "execution_count": null,
   "metadata": {},
   "outputs": [],
   "source": [
    "vrt_df = pd.read_csv(os.path.join(data_path,\"vertices\",\"vertices1.csv\"), index_col=[0,1] )\n",
    "vrt_frames = vrt_df.index.get_level_values(\"frame\").unique().to_list()\n",
    "analysis_frames = [frame for frame in vrt_frames if frame > initial_frame][::5]\n",
    "analysis_frames"
   ]
  },
  {
   "cell_type": "code",
   "execution_count": null,
   "metadata": {},
   "outputs": [],
   "source": [
    "chir.get_charge_order_on_frame_on_realization(params,data_path,cur_frame,1,tol=1.6)"
   ]
  },
  {
   "cell_type": "code",
   "execution_count": null,
   "metadata": {},
   "outputs": [],
   "source": [
    "psi= []\n",
    "for frame in tqdm(analysis_frames):\n",
    "    results = [chir.get_charge_order_on_frame_on_realization(params,data_path,frame,realization,tol=1.6) for realization in range(1,runs+1) ]\n",
    "    psi.append(results)"
   ]
  },
  {
   "cell_type": "code",
   "execution_count": null,
   "metadata": {},
   "outputs": [],
   "source": [
    "psi_df = pd.DataFrame(psi, columns=[str(i) for i in range(runs)])\n",
    "psi_df[\"frame\"] = np.array(analysis_frames).reshape(-1,1)\n",
    "psi_df.to_csv(os.path.join(data_path,\"charges.csv\"))"
   ]
  },
  {
   "cell_type": "code",
   "execution_count": null,
   "metadata": {},
   "outputs": [],
   "source": []
  },
  {
   "cell_type": "markdown",
   "metadata": {},
   "source": [
    "#  Importing data and plotting"
   ]
  },
  {
   "cell_type": "code",
   "execution_count": null,
   "metadata": {},
   "outputs": [],
   "source": [
    "phi_df = pd.read_csv(os.path.join(data_path,\"chirality.csv\"),index_col=0).applymap(np.abs)\n",
    "chir_angle = 90/300 * (  phi_df[\"frame\"]/params[\"framespersec\"].magnitude - quench_time.magnitude )\n",
    "\n",
    "psi_df = pd.read_csv(os.path.join(data_path,\"charges.csv\"),index_col=0).applymap(np.abs)\n",
    "charge_angle = 90/300 * (  psi_df[\"frame\"]/params[\"framespersec\"].magnitude - quench_time.magnitude )\n",
    "\n",
    "datacols = [str(i) for i in range(runs)]\n",
    "datacols"
   ]
  },
  {
   "cell_type": "code",
   "execution_count": null,
   "metadata": {},
   "outputs": [],
   "source": [
    "phi_means = phi_df[datacols].mean(axis=1).to_numpy()\n",
    "phi_sigmas = phi_df[datacols].std(axis=1).to_numpy()\n",
    "\n",
    "psi_means = psi_df[datacols].mean(axis=1).to_numpy()\n",
    "psi_sigmas = psi_df[datacols].std(axis=1).to_numpy()\n"
   ]
  },
  {
   "cell_type": "code",
   "execution_count": null,
   "metadata": {},
   "outputs": [],
   "source": [
    "fig, axes = plt.subplots(2,1,figsize=(12,7))\n",
    "\n",
    "ax = axes[0]\n",
    "ax.plot(chir_angle,phi_means, label = \"$\\\\langle |\\\\Phi|\\\\rangle$\")\n",
    "ax.plot(charge_angle,psi_means, label = \"$\\\\langle |\\\\kappa|\\\\rangle$\")\n",
    "ax.set_ylabel(\"Order parameter\")\n",
    "ax.set_xlim(0,90)\n",
    "ax.legend()\n",
    "\n",
    "ax = axes[1]\n",
    "\n",
    "ax.plot(chir_angle,phi_sigmas, label=\"$\\\\sigma_\\\\Phi$\")\n",
    "ax.plot(charge_angle,psi_sigmas, label=\"$\\\\sigma_\\\\kappa$\")\n",
    "\n",
    "ax.set_xlabel(\"$\\\\theta$ \\, [degrees]\")\n",
    "ax.set_ylabel(\"Deviation\")\n",
    "\n",
    "ax.legend()\n",
    "\n",
    "ax.set_xlim(0,90)\n",
    "\n",
    "plt.show()\n",
    "\n",
    "fig.savefig(\"../data/test12/order_parameters.png\",dpi=300)\n",
    "fig.savefig(\"../data/test12/order_parameters.pdf\")"
   ]
  },
  {
   "cell_type": "markdown",
   "metadata": {},
   "source": [
    "# Visualizing some shit"
   ]
  },
  {
   "cell_type": "code",
   "execution_count": null,
   "metadata": {},
   "outputs": [],
   "source": [
    "region_limit = np.round( params[\"lattice_constant\"].magnitude * params[\"size\"] )\n",
    "region_limit"
   ]
  },
  {
   "cell_type": "code",
   "execution_count": null,
   "metadata": {},
   "outputs": [],
   "source": [
    "trj = pd.read_csv(os.path.join(data_path,\"trj\",\"trj9.csv\"), index_col=[0,1]).drop(columns={'type','t'})\n",
    "ctrj = pd.read_csv(os.path.join(data_path,\"ctrj\",\"ctrj9.csv\"), index_col=[0,1]).drop(columns={'type','t'})\n",
    "ctrj_sel = ctrj.loc[last_frame,:]\n",
    "v = ice.vertices()\n",
    "v = v.trj_to_vertices(ctrj_sel)"
   ]
  },
  {
   "cell_type": "code",
   "execution_count": null,
   "metadata": {},
   "outputs": [],
   "source": [
    "fig, ax = plt.subplots(figsize=(7,7))\n",
    "ice.draw_frame(ctrj,\n",
    "               region=[0,region_limit,0,region_limit],\n",
    "               radius=params[\"particle_radius\"].magnitude,\n",
    "               cutoff=params[\"trap_sep\"].magnitude/2,\n",
    "               particle_color='#75b7ea',\n",
    "               trap_color='gray',\n",
    "               ax = ax)\n",
    "\n",
    "v.display(ax,dpl_scale=0.5,dpl_width=2.5,circle_scale=0.5)\n",
    "plt.show()"
   ]
  },
  {
   "cell_type": "markdown",
   "metadata": {},
   "source": [
    "# Vertex counting"
   ]
  },
  {
   "cell_type": "code",
   "execution_count": null,
   "metadata": {},
   "outputs": [],
   "source": [
    "vrt_path = os.path.join(data_path,\"vertices/\")\n",
    "vertices = aux.getVerticesDict(vrt_path)\n",
    "counts = aux.getVerticesCount(vertices)\n",
    "vrt_ts = aux.getVerticesAverage(counts,params[\"framespersec\"])\n",
    "types = vrt_ts.columns.to_list()[1:]\n",
    "t = vrt_ts[\"time\"].to_numpy()\n",
    "vrt_counts = vrt_ts[types].to_numpy()"
   ]
  },
  {
   "cell_type": "code",
   "execution_count": null,
   "metadata": {},
   "outputs": [],
   "source": [
    "fig, ax = plt.subplots(figsize=(10,4))\n",
    "\n",
    "ax.plot(t,vrt_counts[:,0])\n",
    "ax.plot(t,vrt_counts[:,1])\n",
    "ax.plot(t,vrt_counts[:,2])\n",
    "ax.plot(t,vrt_counts[:,3])\n",
    "ax.plot(t,vrt_counts[:,4])\n",
    "ax.plot(t,vrt_counts[:,5])\n",
    "\n",
    "ax.legend(types, fontsize=12,title='Type', title_fontsize=15, edgecolor='black')\n",
    "ax.set_xlabel(\"$t$  [ s ] \", fontsize=15)\n",
    "ax.set_ylabel(\"Vertices counts\", fontsize=15)\n",
    "ax.set_xlim(0,420)\n",
    "ax.set_ylim(0,1)\n",
    "plt.show()\n",
    "\n",
    "fig.savefig('../data/vertices_full.pdf', bbox_inches='tight')\n",
    "fig.savefig('../data/vertices_full.jpeg', dpi=300)"
   ]
  }
 ],
 "metadata": {
  "kernelspec": {
   "display_name": "Python 3",
   "language": "python",
   "name": "python3"
  },
  "language_info": {
   "codemirror_mode": {
    "name": "ipython",
    "version": 3
   },
   "file_extension": ".py",
   "mimetype": "text/x-python",
   "name": "python",
   "nbconvert_exporter": "python",
   "pygments_lexer": "ipython3",
   "version": "3.8.10"
  }
 },
 "nbformat": 4,
 "nbformat_minor": 2
}
