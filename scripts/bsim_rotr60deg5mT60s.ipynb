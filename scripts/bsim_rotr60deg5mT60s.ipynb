{
 "cells": [
  {
   "cell_type": "markdown",
   "metadata": {},
   "source": [
    "# Non Interactive simulation\n",
    "\n",
    "Rotated field to 60 degrees\n",
    "\n",
    "Ramp to 5mT for 60s\n",
    "\n",
    "Evolution for 60s"
   ]
  },
  {
   "cell_type": "code",
   "execution_count": 4,
   "metadata": {},
   "outputs": [],
   "source": [
    "import os\n",
    "import sys\n",
    "\n",
    "import numpy as np\n",
    "import matplotlib.pyplot as plt\n",
    "import matplotlib as mpl\n",
    "import warnings\n",
    "warnings.simplefilter(action='ignore', category=FutureWarning) # Ignore some messages from pandas\n",
    "import pandas as pd\n",
    "\n",
    "sys.path.insert(0, '../icenumerics/')\n",
    "import icenumerics as ice\n",
    "\n",
    "ureg = ice.ureg\n",
    "idx = pd.IndexSlice\n"
   ]
  },
  {
   "cell_type": "code",
   "execution_count": 5,
   "metadata": {},
   "outputs": [],
   "source": [
    "def main():\n",
    "    sp = ice.spins()\n",
    "\n",
    "    # Initialize some parameters\n",
    "    trapSep = 10*ureg.um\n",
    "    particleRadius = 5*ureg.um\n",
    "    totalTime = 120*ureg.s\n",
    "\n",
    "    #L = trapSep+4*(particleRadius+.5*ureg.um)*np.cos(np.pi/4)\n",
    "    L = 30*ureg.um\n",
    "    N = 10\n",
    "\n",
    "    # Create simulation objects\n",
    "    sp.create_lattice(\"square\",[N,N],lattice_constant=L, border=\"periodic\")\n",
    "\n",
    "    particle = ice.particle(radius = particleRadius,\n",
    "                susceptibility = 0.0576,\n",
    "                diffusion = 0.125*ureg.um**2/ureg.s,\n",
    "                temperature = 300*ureg.K,\n",
    "                density = 1000*ureg.kg/ureg.m**3)\n",
    "\n",
    "    trap = ice.trap(trap_sep = trapSep,\n",
    "                height = 4*ureg.pN*ureg.nm,\n",
    "                stiffness = 1e-3*ureg.pN/ureg.nm)\n",
    "\n",
    "    col = ice.colloidal_ice(sp, particle, trap,\n",
    "                            height_spread = 0, \n",
    "                            susceptibility_spread = 0.1,\n",
    "                            periodic = True)\n",
    "\n",
    "        \n",
    "    col.randomize()\n",
    "    col.region = np.array([[0,0,-3*(particleRadius/L/N).magnitude],[1,1,3*(particleRadius/L/N).magnitude]])*N*L\n",
    "\n",
    "    framespersec = 100*ureg.Hz;\n",
    "    dt = 10*ureg.ms\n",
    "\n",
    "    world = ice.world(\n",
    "        field = 5*ureg.mT,\n",
    "        temperature = 300*ureg.K,\n",
    "        dipole_cutoff = 200*ureg.um)\n",
    "\n",
    "\n",
    "    col.simulation(world,\n",
    "                name = \"test\",\n",
    "                include_timestamp = False,\n",
    "                targetdir = r\".\",\n",
    "                framerate = framespersec,\n",
    "                timestep = dt,\n",
    "                run_time = totalTime,\n",
    "                output = [\"x\",\"y\",\"z\",\"mux\",\"muy\",\"muz\"])\n",
    "\n",
    "    # Field\n",
    "    col.sim.field.fieldx = \"v_Bmag*sin(PI/3)*time/60e6*(time<60e6)+v_Bmag*sin(PI/3)*(time>=60e6)\"\n",
    "    col.sim.field.fieldy = \"0\"\n",
    "    col.sim.field.fieldz = \"v_Bmag*cos(PI/3)*time/60e6*(time<60e6)+v_Bmag*cos(PI/3)*(time>=60e6)\"\n",
    "\n",
    "    col.run_simulation();\n",
    "\n",
    "    col.load_simulation()\n",
    "\n",
    "    return col"
   ]
  },
  {
   "cell_type": "code",
   "execution_count": 6,
   "metadata": {},
   "outputs": [
    {
     "name": "stdout",
     "output_type": "stream",
     "text": [
      "===== Experiment number 1 =====\n",
      "scanning file\n"
     ]
    },
    {
     "data": {
      "application/vnd.jupyter.widget-view+json": {
       "model_id": "afeeb8cb356f45e09cec12e6bc795fa0",
       "version_major": 2,
       "version_minor": 0
      },
      "text/plain": [
       "  0%|          | 0/196236202 [00:00<?, ?it/s]"
      ]
     },
     "metadata": {},
     "output_type": "display_data"
    },
    {
     "name": "stdout",
     "output_type": "stream",
     "text": [
      "trj1.csv\n",
      "Saved trj\n",
      "ctrj1.csv\n",
      "Saved centered trj\n",
      "===== Experiment number 2 =====\n",
      "scanning file\n"
     ]
    },
    {
     "data": {
      "application/vnd.jupyter.widget-view+json": {
       "model_id": "778ccad3a75a422fad4527bc70bda421",
       "version_major": 2,
       "version_minor": 0
      },
      "text/plain": [
       "  0%|          | 0/196604743 [00:00<?, ?it/s]"
      ]
     },
     "metadata": {},
     "output_type": "display_data"
    },
    {
     "name": "stdout",
     "output_type": "stream",
     "text": [
      "trj2.csv\n",
      "Saved trj\n",
      "ctrj2.csv\n",
      "Saved centered trj\n",
      "===== Experiment number 3 =====\n",
      "scanning file\n"
     ]
    },
    {
     "data": {
      "application/vnd.jupyter.widget-view+json": {
       "model_id": "b0173e26112f42ed961b65cfb1355e10",
       "version_major": 2,
       "version_minor": 0
      },
      "text/plain": [
       "  0%|          | 0/196428457 [00:00<?, ?it/s]"
      ]
     },
     "metadata": {},
     "output_type": "display_data"
    },
    {
     "name": "stdout",
     "output_type": "stream",
     "text": [
      "trj3.csv\n",
      "Saved trj\n",
      "ctrj3.csv\n",
      "Saved centered trj\n",
      "===== Experiment number 4 =====\n",
      "scanning file\n"
     ]
    },
    {
     "data": {
      "application/vnd.jupyter.widget-view+json": {
       "model_id": "9aa1f59e49014ecdbc61649618331d4b",
       "version_major": 2,
       "version_minor": 0
      },
      "text/plain": [
       "  0%|          | 0/196150517 [00:00<?, ?it/s]"
      ]
     },
     "metadata": {},
     "output_type": "display_data"
    },
    {
     "name": "stdout",
     "output_type": "stream",
     "text": [
      "trj4.csv\n",
      "Saved trj\n",
      "ctrj4.csv\n",
      "Saved centered trj\n",
      "===== Experiment number 5 =====\n",
      "scanning file\n"
     ]
    },
    {
     "data": {
      "application/vnd.jupyter.widget-view+json": {
       "model_id": "5638d0d56c08431b8d0a883144483b71",
       "version_major": 2,
       "version_minor": 0
      },
      "text/plain": [
       "  0%|          | 0/196416933 [00:00<?, ?it/s]"
      ]
     },
     "metadata": {},
     "output_type": "display_data"
    },
    {
     "name": "stdout",
     "output_type": "stream",
     "text": [
      "trj5.csv\n",
      "Saved trj\n",
      "ctrj5.csv\n",
      "Saved centered trj\n",
      "===== Experiment number 6 =====\n",
      "scanning file\n"
     ]
    },
    {
     "data": {
      "application/vnd.jupyter.widget-view+json": {
       "model_id": "a221af1f449d4fff848bf0f44a7568af",
       "version_major": 2,
       "version_minor": 0
      },
      "text/plain": [
       "  0%|          | 0/196326901 [00:00<?, ?it/s]"
      ]
     },
     "metadata": {},
     "output_type": "display_data"
    },
    {
     "name": "stdout",
     "output_type": "stream",
     "text": [
      "trj6.csv\n",
      "Saved trj\n",
      "ctrj6.csv\n",
      "Saved centered trj\n",
      "===== Experiment number 7 =====\n",
      "scanning file\n"
     ]
    },
    {
     "data": {
      "application/vnd.jupyter.widget-view+json": {
       "model_id": "38f55a39a6a04a9b8b0e9bbfe3f2b047",
       "version_major": 2,
       "version_minor": 0
      },
      "text/plain": [
       "  0%|          | 0/196252253 [00:00<?, ?it/s]"
      ]
     },
     "metadata": {},
     "output_type": "display_data"
    },
    {
     "name": "stdout",
     "output_type": "stream",
     "text": [
      "trj7.csv\n",
      "Saved trj\n",
      "ctrj7.csv\n",
      "Saved centered trj\n",
      "===== Experiment number 8 =====\n",
      "scanning file\n"
     ]
    },
    {
     "data": {
      "application/vnd.jupyter.widget-view+json": {
       "model_id": "791be682513a4a56882b0aaa84feda97",
       "version_major": 2,
       "version_minor": 0
      },
      "text/plain": [
       "  0%|          | 0/196900493 [00:00<?, ?it/s]"
      ]
     },
     "metadata": {},
     "output_type": "display_data"
    },
    {
     "name": "stdout",
     "output_type": "stream",
     "text": [
      "trj8.csv\n",
      "Saved trj\n",
      "ctrj8.csv\n",
      "Saved centered trj\n",
      "===== Experiment number 9 =====\n",
      "scanning file\n"
     ]
    },
    {
     "data": {
      "application/vnd.jupyter.widget-view+json": {
       "model_id": "74220506877c4aabb09bb4520494f6d4",
       "version_major": 2,
       "version_minor": 0
      },
      "text/plain": [
       "  0%|          | 0/196455991 [00:00<?, ?it/s]"
      ]
     },
     "metadata": {},
     "output_type": "display_data"
    },
    {
     "name": "stdout",
     "output_type": "stream",
     "text": [
      "trj9.csv\n",
      "Saved trj\n",
      "ctrj9.csv\n",
      "Saved centered trj\n",
      "===== Experiment number 10 =====\n",
      "scanning file\n"
     ]
    },
    {
     "data": {
      "application/vnd.jupyter.widget-view+json": {
       "model_id": "4a07e31b499e4085a1333f254da0787e",
       "version_major": 2,
       "version_minor": 0
      },
      "text/plain": [
       "  0%|          | 0/196608765 [00:00<?, ?it/s]"
      ]
     },
     "metadata": {},
     "output_type": "display_data"
    },
    {
     "name": "stdout",
     "output_type": "stream",
     "text": [
      "trj10.csv\n",
      "Saved trj\n",
      "ctrj10.csv\n",
      "Saved centered trj\n"
     ]
    }
   ],
   "source": [
    "runs = 10\n",
    "\n",
    "for i in range(1,runs+1):\n",
    "    print(f\"===== Experiment number {i} =====\")\n",
    "    col = main()\n",
    "\n",
    "    filename = f\"trj{i}.csv\"\n",
    "    print(filename)\n",
    "    col.trj.to_csv('../data/rot60deg_ramp5mT60s_evo60s/trj/' + filename)\n",
    "    print('Saved trj')\n",
    "    \n",
    "    filename = f\"ctrj{i}.csv\"\n",
    "    print(filename)\n",
    "    trj = ice.get_ice_trj(col.trj, bounds = col.bnd)\n",
    "    trj.to_csv('../data/rot60deg_ramp5mT60s_evo60s/ctrj/' + filename)\n",
    "    print('Saved centered trj')"
   ]
  }
 ],
 "metadata": {
  "kernelspec": {
   "display_name": "Python 3",
   "language": "python",
   "name": "python3"
  },
  "language_info": {
   "codemirror_mode": {
    "name": "ipython",
    "version": 3
   },
   "file_extension": ".py",
   "mimetype": "text/x-python",
   "name": "python",
   "nbconvert_exporter": "python",
   "pygments_lexer": "ipython3",
   "version": "3.10.12"
  }
 },
 "nbformat": 4,
 "nbformat_minor": 2
}
