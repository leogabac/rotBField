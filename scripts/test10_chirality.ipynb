{
 "cells": [
  {
   "cell_type": "markdown",
   "metadata": {},
   "source": [
    "# Chirality computations"
   ]
  },
  {
   "cell_type": "code",
   "execution_count": 125,
   "metadata": {},
   "outputs": [],
   "source": [
    "import os\n",
    "import sys\n",
    "\n",
    "import numpy as np\n",
    "import pandas as pd\n",
    "import random\n",
    "from math import isclose\n",
    "\n",
    "import warnings\n",
    "warnings.simplefilter(action='ignore', category=FutureWarning) # Ignore some messages from pandas\n",
    "\n",
    "from tqdm import tqdm\n",
    "import matplotlib.pyplot as plt\n",
    "\n",
    "sys.path.insert(0, '../icenumerics/')\n",
    "import icenumerics as ice\n",
    "from auxiliary import *\n",
    "from montecarlo_tools import *\n",
    "from IPython.display import clear_output\n",
    "\n",
    "ureg = ice.ureg\n",
    "\n",
    "%reload_ext autoreload\n",
    "%autoreload 2\n",
    "\n",
    "idx = pd.IndexSlice"
   ]
  },
  {
   "cell_type": "code",
   "execution_count": 126,
   "metadata": {},
   "outputs": [],
   "source": [
    "plt.rcParams['text.usetex'] = True\n",
    "plt.rcParams['font.family'] = 'serif'"
   ]
  },
  {
   "cell_type": "code",
   "execution_count": 130,
   "metadata": {},
   "outputs": [],
   "source": [
    "# Definition of colloids\n",
    "\n",
    "sp = ice.spins()\n",
    "\n",
    "trapSep = 10*ureg.um\n",
    "particleRadius = 5*ureg.um\n",
    "L = 30*ureg.um\n",
    "N = 10\n",
    "\n",
    "# Create simulation objects\n",
    "sp.create_lattice(\"square\",[N,N],lattice_constant=L, border=\"periodic\")\n",
    "\n",
    "particle = ice.particle(radius = particleRadius,\n",
    "            susceptibility = 0.0576,\n",
    "            diffusion = 0.125*ureg.um**2/ureg.s,\n",
    "            temperature = 300*ureg.K,\n",
    "            density = 1000*ureg.kg/ureg.m**3)\n",
    "\n",
    "trap = ice.trap(trap_sep = trapSep,\n",
    "            height = 4*ureg.pN*ureg.nm,\n",
    "            stiffness = 1e-3*ureg.pN/ureg.nm)\n",
    "\n",
    "\n",
    "#col.region = np.array([[0,0,-3*(particleRadius/L/N).magnitude],[1,1,3*(particleRadius/L/N).magnitude]])*N*L"
   ]
  },
  {
   "cell_type": "code",
   "execution_count": 131,
   "metadata": {},
   "outputs": [],
   "source": [
    "def load_saved_state(main_path,folder):\n",
    "    file = \"/trj9999.csv\"\n",
    "    return pd.read_csv(main_path+folder+file,index_col=0)\n",
    "\n",
    "def load_saved_energy(main_path,folder):\n",
    "    file = \"/data.csv\"\n",
    "    return pd.read_csv(main_path+folder+file,index_col=0)[\"0\"].to_list()"
   ]
  },
  {
   "cell_type": "code",
   "execution_count": 132,
   "metadata": {},
   "outputs": [
    {
     "name": "stderr",
     "output_type": "stream",
     "text": []
    },
    {
     "name": "stderr",
     "output_type": "stream",
     "text": [
      "100%|██████████| 25/25 [00:05<00:00,  4.50it/s]\n"
     ]
    }
   ],
   "source": [
    "main_path = \"../data/test9/mc/\"\n",
    "angles = os.listdir(main_path)\n",
    "\n",
    "final_states = { directory:get_colloids_from_ctrj(load_saved_state(main_path,directory),particle,trap,particleRadius,L,N) for directory in tqdm(angles) }"
   ]
  },
  {
   "cell_type": "code",
   "execution_count": 276,
   "metadata": {},
   "outputs": [],
   "source": [
    "import itertools\n",
    "\n",
    "def create_chiral_space_lattice(a=30,L=10,spos=(15,15)):\n",
    "    xstart,ystart = spos\n",
    "    xcoords = np.linspace(xstart,L*a-xstart,L)\n",
    "    ycoords = np.linspace(ystart,L*a-ystart,L)\n",
    "    zcoords = [0]\n",
    "\n",
    "    global_pos = [ np.array(element) for element in itertools.product(xcoords,ycoords,zcoords) ]\n",
    "\n",
    "    return np.reshape(global_pos,(L,L,3))\n",
    "\n",
    "def create_chiral_lattice(col,global_pos,a=30,L=10):\n",
    "    global_idx = np.zeros((L,L,4))\n",
    "    for i in range(L):\n",
    "        for j in range(L):\n",
    "            curpos = global_pos[i,j,:]\n",
    "            right =  fix_position(curpos + np.array([a/2,0,0]),a,L).round()\n",
    "            top = fix_position(curpos + np.array([0,a/2,0]),a,L).round()\n",
    "            left =  fix_position(curpos + np.array([-a/2,0,0]),a,L).round()\n",
    "            bottom = fix_position(curpos + np.array([0,-a/2,0]),a,L).round()\n",
    "             \n",
    "            right_id = get_index_from_position(col,right)\n",
    "            top_id = get_index_from_position(col,top)\n",
    "            left_id = get_index_from_position(col,left)\n",
    "            bottom_id = get_index_from_position(col,bottom)\n",
    "             \n",
    "            global_idx[i,j,:] = np.array([right_id,top_id,left_id,bottom_id])\n",
    "    \n",
    "    return global_idx\n",
    "\n",
    "def calculate_single_chirality(col,idxs):\n",
    "    up = np.array([0,1,0])\n",
    "    down = -up\n",
    "    right = np.array([1,0,0])\n",
    "    left = -right\n",
    "\n",
    "    positive = [up,left,down,right]\n",
    "    negative = [left,up,right,down]\n",
    "\n",
    "    # try positive chirality\n",
    "    sum_spins = sum(np.dot(col[int(idx)].direction,spin) for idx,spin in zip(idxs,positive))\n",
    "\n",
    "    if isclose(sum_spins,4,rel_tol=1e-2):\n",
    "        return 1\n",
    "    elif isclose(sum_spins,-4,rel_tol=1e-2):\n",
    "        return -1\n",
    "    else:\n",
    "        return 0\n",
    "    \n",
    "def calculate_chirality(col,chiral_lattice,a,L):\n",
    "    s = 0 # initialize\n",
    "\n",
    "    for i in range(L):\n",
    "        for j in range(L):\n",
    "            s += calculate_single_chirality(col,chiral_lattice[i,j,:]) * (-1)**(i+j)\n",
    "\n",
    "    return s"
   ]
  },
  {
   "cell_type": "markdown",
   "metadata": {},
   "source": [
    "$$\n",
    "\\sum_{i,j\\in\\text{nodes}} (-1)^{i+j} \\chi_{ij}\n",
    "$$"
   ]
  },
  {
   "cell_type": "code",
   "execution_count": null,
   "metadata": {},
   "outputs": [],
   "source": []
  },
  {
   "cell_type": "code",
   "execution_count": 277,
   "metadata": {},
   "outputs": [
    {
     "name": "stderr",
     "output_type": "stream",
     "text": [
      "  0%|          | 0/25 [00:00<?, ?it/s]"
     ]
    },
    {
     "name": "stderr",
     "output_type": "stream",
     "text": [
      "100%|██████████| 25/25 [00:06<00:00,  3.75it/s]\n"
     ]
    }
   ],
   "source": [
    "a = 30\n",
    "L = 10\n",
    "trapSep = 10*ureg.um\n",
    "particleRadius = 5*ureg.um\n",
    "\n",
    "phi = []\n",
    "\n",
    "for key,cur_state in tqdm(final_states.items()):\n",
    "    pos_lattice = create_chiral_space_lattice()\n",
    "    idx_lattice = create_chiral_lattice(cur_state,pos_lattice,a,L)\n",
    "    cur_chirality = calculate_chirality(cur_state,idx_lattice,a,L)\n",
    "\n",
    "    phi.append([int(key),cur_chirality])\n"
   ]
  },
  {
   "cell_type": "code",
   "execution_count": 278,
   "metadata": {},
   "outputs": [],
   "source": [
    "data = np.array(phi)\n",
    "data = data[data[:, 0].argsort()]"
   ]
  },
  {
   "cell_type": "code",
   "execution_count": 279,
   "metadata": {},
   "outputs": [
    {
     "data": {
      "text/plain": [
       "Text(0, 0.5, '$\\\\Phi$ \\\\, [degrees]')"
      ]
     },
     "execution_count": 279,
     "metadata": {},
     "output_type": "execute_result"
    },
    {
     "data": {
      "image/png": "[encoded data removed]",
      "text/plain": [
       "<Figure size 500x500 with 1 Axes>"
      ]
     },
     "metadata": {},
     "output_type": "display_data"
    }
   ],
   "source": [
    "fig, ax = plt.subplots(figsize=(5,5))\n",
    "ax.plot(data[:,0],data[:,1])\n",
    "ax.set_xlabel('$\\\\theta$ \\, [degrees]')\n",
    "ax.set_ylabel('$\\\\Phi$ \\, [degrees]')"
   ]
  },
  {
   "cell_type": "code",
   "execution_count": 280,
   "metadata": {},
   "outputs": [
    {
     "data": {
      "text/plain": [
       "array([[  5, -44],\n",
       "       [ 10, -32],\n",
       "       [ 15, -59],\n",
       "       [ 20,  12],\n",
       "       [ 25,   6],\n",
       "       [ 30,  -7],\n",
       "       [ 35,  -9],\n",
       "       [ 40, -37],\n",
       "       [ 45, -23],\n",
       "       [ 50,   9],\n",
       "       [ 55,   7],\n",
       "       [ 56,   5],\n",
       "       [ 57,   4],\n",
       "       [ 58,  -5],\n",
       "       [ 59,  -1],\n",
       "       [ 60,   4],\n",
       "       [ 61,   0],\n",
       "       [ 62,   0],\n",
       "       [ 63,   3],\n",
       "       [ 64,   2],\n",
       "       [ 65,   0],\n",
       "       [ 70,   0],\n",
       "       [ 75,   0],\n",
       "       [ 80,   1],\n",
       "       [ 85,   0]])"
      ]
     },
     "execution_count": 280,
     "metadata": {},
     "output_type": "execute_result"
    }
   ],
   "source": [
    "data"
   ]
  }
 ],
 "metadata": {
  "kernelspec": {
   "display_name": "Python 3",
   "language": "python",
   "name": "python3"
  },
  "language_info": {
   "codemirror_mode": {
    "name": "ipython",
    "version": 3
   },
   "file_extension": ".py",
   "mimetype": "text/x-python",
   "name": "python",
   "nbconvert_exporter": "python",
   "pygments_lexer": "ipython3",
   "version": "3.10.12"
  }
 },
 "nbformat": 4,
 "nbformat_minor": 2
}
