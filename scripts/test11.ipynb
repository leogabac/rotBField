{
 "cells": [
  {
   "cell_type": "markdown",
   "metadata": {},
   "source": [
    "# Test 11\n",
    "\n",
    "The goal of this file is to compute the GS for several angles using MD.\n",
    "\n",
    "**Simulation with LAMMPS**\n",
    "\n",
    "Simulations are done by a Ramp (8mT/60s) + Evolution (60s) scheme\n",
    "\n",
    "\n",
    "**Chirality**\n",
    "\n",
    "Compute the chirality of the final states for all angles.\n",
    "\n",
    "$$\n",
    "    \\Phi = \\sum_{i,j} (-1)^{i+j}\\chi_{ij}\n",
    "$$\n",
    "\n",
    "**Charge ordering**\n",
    "\n",
    "Compute a complementary order parameter with topological charqes\n",
    "\n",
    "$$\n",
    "    \\kappa = \\sum_{i,j} (-1)^{i+j}q_{ij}\n",
    "$$\n",
    "\n",
    "**Averaging**\n",
    "From all the datasets, compute $\\langle |\\Phi|\\rangle$ and $\\langle |\\kappa|\\rangle$, as well as $\\sigma_\\Phi$ and $\\sigma_\\kappa$."
   ]
  },
  {
   "cell_type": "code",
   "execution_count": null,
   "metadata": {},
   "outputs": [],
   "source": [
    "import os\n",
    "import sys\n",
    "\n",
    "import numpy as np\n",
    "import pandas as pd\n",
    "import random\n",
    "from math import isclose\n",
    "\n",
    "import warnings\n",
    "\n",
    "from tqdm import tqdm\n",
    "from IPython.display import clear_output\n",
    "\n",
    "import matplotlib.pyplot as plt\n",
    "\n",
    "sys.path.insert(0, '../icenumerics/')\n",
    "import icenumerics as ice\n",
    "\n",
    "from auxiliary import *\n",
    "from montecarlo_tools import *\n",
    "from chirality_tools import *\n",
    "\n",
    "ureg = ice.ureg\n",
    "\n",
    "%reload_ext autoreload\n",
    "%autoreload 2\n",
    "\n",
    "idx = pd.IndexSlice"
   ]
  },
  {
   "cell_type": "code",
   "execution_count": null,
   "metadata": {},
   "outputs": [],
   "source": [
    "plt.rcParams['text.usetex'] = True\n",
    "plt.rcParams['font.family'] = 'serif'\n",
    "plt.rcParams['axes.grid'] = False\n"
   ]
  },
  {
   "cell_type": "markdown",
   "metadata": {},
   "source": [
    "## MD Simulations\n",
    "\n",
    "This part only generates the datasets to work with for all angles."
   ]
  },
  {
   "cell_type": "code",
   "execution_count": null,
   "metadata": {},
   "outputs": [],
   "source": [
    "params = {\n",
    "    \"sim_time\":120*ureg.s,\n",
    "    \"framerate\":20*ureg.Hz,\n",
    "    \"dt\":10*ureg.ms,\n",
    "\n",
    "    \"particle_radius\":5*ureg.um,\n",
    "    \"particle_susceptibility\":0.0576,\n",
    "    \"particle_diffusion\":0.125*ureg.um**2/ureg.s,\n",
    "    \"particle_temperature\":300*ureg.K,\n",
    "    \"particle_density\":1000*ureg.kg/ureg.m**3,\n",
    "\n",
    "    \"trap_sep\":10*ureg.um,\n",
    "    \"trap_height\":4*ureg.pN*ureg.nm,\n",
    "    \"trap_stiffness\":1e-3*ureg.pN/ureg.nm,\n",
    "    \n",
    "    \"lattice_constant\":30*ureg.um,\n",
    "    \"size\" : 10\n",
    "}"
   ]
  },
  {
   "cell_type": "code",
   "execution_count": null,
   "metadata": {},
   "outputs": [],
   "source": [
    "def get_sim_object(params):\n",
    "    sp = ice.spins()\n",
    "\n",
    "    # Initialize some parameters\n",
    "\n",
    "    particleRadius = params[\"particle_radius\"]\n",
    "    L = params[\"lattice_constant\"]\n",
    "    N = params[\"size\"]\n",
    "\n",
    "    # Create simulation objects\n",
    "    sp.create_lattice(\"square\",[N,N],lattice_constant=params[\"lattice_constant\"], border=\"periodic\")\n",
    "    \n",
    "    particle = ice.particle(radius = params[\"particle_radius\"],\n",
    "                            susceptibility = params[\"particle_susceptibility\"],\n",
    "                            diffusion = params[\"particle_diffusion\"],\n",
    "                            temperature = params[\"particle_temperature\"],\n",
    "                            density = params[\"particle_density\"])\n",
    "    \n",
    "    trap = ice.trap(trap_sep = params[\"trap_sep\"],\n",
    "                    height = params[\"trap_height\"],\n",
    "                    stiffness = params[\"trap_stiffness\"])\n",
    "\n",
    "    col = ice.colloidal_ice(sp, particle, trap,\n",
    "                            height_spread = 0, \n",
    "                            susceptibility_spread = 0.1,\n",
    "                            periodic = True)\n",
    "\n",
    "        \n",
    "    col.randomize()\n",
    "    col.region = np.array([[0,0,-3*(particleRadius/L/N).magnitude],[1,1,3*(particleRadius/L/N).magnitude]])*N*L\n",
    "\n",
    "    world = ice.world(\n",
    "            field = 8*ureg.mT,\n",
    "            temperature = 300*ureg.K,\n",
    "            dipole_cutoff = 200*ureg.um,\n",
    "            boundaries=['p', 'p', 'p'])\n",
    "\n",
    "\n",
    "    col.simulation(world,\n",
    "                name = \"test\",\n",
    "                include_timestamp = False,\n",
    "                targetdir = r\".\",\n",
    "                framerate = params[\"framerate\"],\n",
    "                timestep = params[\"dt\"],\n",
    "                run_time = params[\"sim_time\"],\n",
    "                output = [\"x\",\"y\",\"z\",\"mux\",\"muy\",\"muz\"])\n",
    "\n",
    "    return col.sim"
   ]
  },
  {
   "cell_type": "code",
   "execution_count": null,
   "metadata": {},
   "outputs": [],
   "source": [
    "def get_md_colloid(params,angle):\n",
    "    sp = ice.spins()\n",
    "\n",
    "    # Initialize some parameters\n",
    "\n",
    "    particleRadius = params[\"particle_radius\"]\n",
    "    L = params[\"lattice_constant\"]\n",
    "    N = params[\"size\"]\n",
    "\n",
    "    # Create simulation objects\n",
    "    sp.create_lattice(\"square\",[N,N],lattice_constant=params[\"lattice_constant\"], border=\"periodic\")\n",
    "    \n",
    "    particle = ice.particle(radius = params[\"particle_radius\"],\n",
    "                            susceptibility = params[\"particle_susceptibility\"],\n",
    "                            diffusion = params[\"particle_diffusion\"],\n",
    "                            temperature = params[\"particle_temperature\"],\n",
    "                            density = params[\"particle_density\"])\n",
    "    \n",
    "    trap = ice.trap(trap_sep = params[\"trap_sep\"],\n",
    "                    height = params[\"trap_height\"],\n",
    "                    stiffness = params[\"trap_stiffness\"])\n",
    "\n",
    "    col = ice.colloidal_ice(sp, particle, trap,\n",
    "                            height_spread = 0, \n",
    "                            susceptibility_spread = 0.1,\n",
    "                            periodic = True)\n",
    "\n",
    "        \n",
    "    col.randomize()\n",
    "    col.region = np.array([[0,0,-3*(particleRadius/L/N).magnitude],[1,1,3*(particleRadius/L/N).magnitude]])*N*L\n",
    "\n",
    "    world = ice.world(\n",
    "            field = 8*ureg.mT,\n",
    "            temperature = 300*ureg.K,\n",
    "            dipole_cutoff = 200*ureg.um,\n",
    "            boundaries=['p', 'p', 'p'])\n",
    "\n",
    "\n",
    "    col.simulation(world,\n",
    "                name = \"test\",\n",
    "                include_timestamp = False,\n",
    "                targetdir = r\".\",\n",
    "                framerate = params[\"framerate\"],\n",
    "                timestep = params[\"dt\"],\n",
    "                run_time = params[\"sim_time\"],\n",
    "                output = [\"x\",\"y\",\"z\",\"mux\",\"muy\",\"muz\"])\n",
    "\n",
    "    # Field\n",
    "\n",
    "    angle = np.round(angle*np.pi/180,decimals=6)\n",
    "    col.sim.field.fieldx = f\"v_Bmag*sin({angle})*time/60e6*(time<60e6)+v_Bmag*sin({angle})*(time>=60e6)\"\n",
    "    col.sim.field.fieldy = \"0\"\n",
    "    col.sim.field.fieldz = f\"v_Bmag*cos({angle})*time/60e6*(time<60e6)+v_Bmag*cos({angle})*(time>=60e6)\"\n",
    "\n",
    "    \n",
    "\n",
    "    col.run_simulation();\n",
    "\n",
    "    col.load_simulation()\n",
    "\n",
    "    return col"
   ]
  },
  {
   "cell_type": "markdown",
   "metadata": {},
   "source": [
    "This block checks which angles are going to be ran. Helps for running by batches."
   ]
  },
  {
   "cell_type": "code",
   "execution_count": null,
   "metadata": {},
   "outputs": [],
   "source": [
    "angle_completed = os.listdir(\"../data/test11/angles/\")\n",
    "angles = [angle for angle in range(0,90+1,1) if str(angle) not in angle_completed]\n",
    "angle_select = angles[:]\n",
    "angle_select = [90]"
   ]
  },
  {
   "cell_type": "code",
   "execution_count": null,
   "metadata": {},
   "outputs": [],
   "source": [
    "start = 6\n",
    "end = 10\n",
    "\n",
    "data_path = \"../data/test11/angles/\"\n",
    "for angle in angle_select:\n",
    "    print(f\"===== Angle {angle} =====\")\n",
    "\n",
    "    main_angle_path = data_path + str(angle)\n",
    "    trj_path = main_angle_path + \"/trj/\"\n",
    "    ctrj_path = main_angle_path + \"/ctrj/\"\n",
    "\n",
    "    try:\n",
    "        os.mkdir(main_angle_path)\n",
    "        os.mkdir(trj_path)\n",
    "        os.mkdir(ctrj_path)\n",
    "    except:\n",
    "        pass\n",
    "\n",
    "    for i in range(start,end+1):\n",
    "        print(f\"- Realization {i} -\")\n",
    "        \n",
    "        col = get_md_colloid(params,angle)\n",
    "\n",
    "        filename = f\"trj{i}.csv\"\n",
    "        col.trj.to_csv(trj_path + filename)\n",
    "        print(\"Saved trj\")\n",
    "\n",
    "        filename = f\"ctrj{i}.csv\"\n",
    "        trj = ice.get_ice_trj(col.trj, bounds = col.bnd)\n",
    "        trj.to_csv(ctrj_path + filename)\n",
    "        print(\"Saved ctrj\")\n",
    "        \n",
    "    clear_output(wait=True)"
   ]
  },
  {
   "cell_type": "markdown",
   "metadata": {},
   "source": [
    "# States visualizattion"
   ]
  },
  {
   "cell_type": "code",
   "execution_count": null,
   "metadata": {},
   "outputs": [],
   "source": [
    "ctrjs = { \n",
    "    '0':pd.read_csv(\"../data/test11/angles/0/ctrj/ctrj1.csv\",index_col=[0,1]).drop(columns='type'),\n",
    "    '45': pd.read_csv(\"../data/test11/angles/45/ctrj/ctrj1.csv\",index_col=[0,1]).drop(columns='type'),\n",
    "    '90': pd.read_csv(\"../data/test11/angles/90/ctrj/ctrj8.csv\",index_col=[0,1]).drop(columns='type')\n",
    "}\n",
    "\n",
    "vrt = dict()\n",
    "for key,ctrj in ctrjs.items(): \n",
    "    v = ice.vertices()\n",
    "    v = v.trj_to_vertices(ctrj.loc[2399,:])\n",
    "    vrt[key] = v"
   ]
  },
  {
   "cell_type": "code",
   "execution_count": null,
   "metadata": {},
   "outputs": [],
   "source": [
    "fig, axes = plt.subplots(1,3,figsize=(15,5))\n",
    "\n",
    "ax = axes[0]\n",
    "key = '0'\n",
    "ice.draw_frame(ctrjs[key],\n",
    "               region=[0,300,0,300],\n",
    "               radius=params[\"particle_radius\"].magnitude,\n",
    "               cutoff=params[\"trap_sep\"].magnitude/2,\n",
    "               particle_color='#75b7ea',\n",
    "               trap_color='gray',\n",
    "               ax = ax)\n",
    "vrt[key].display(ax)\n",
    "ax.set_title(f\"$\\\\theta = {key} ^\\\\circ$\", fontsize=20)\n",
    "\n",
    "ax = axes[1]\n",
    "key = '45'\n",
    "ice.draw_frame(ctrjs[key],\n",
    "               region=[0,300,0,300],\n",
    "               radius=params[\"particle_radius\"].magnitude,\n",
    "               cutoff=params[\"trap_sep\"].magnitude/2,\n",
    "               particle_color='#75b7ea',\n",
    "               trap_color='gray',\n",
    "               ax = ax)\n",
    "vrt[key].display(ax)\n",
    "ax.set_title(f\"$\\\\theta = {key} ^\\\\circ$\", fontsize=20)\n",
    "\n",
    "ax = axes[2]\n",
    "key = '90'\n",
    "ice.draw_frame(ctrjs[key],\n",
    "               region=[0,300,0,300],\n",
    "               radius=params[\"particle_radius\"].magnitude,\n",
    "               cutoff=params[\"trap_sep\"].magnitude/2,\n",
    "               particle_color='#75b7ea',\n",
    "               trap_color='gray',\n",
    "               ax = ax)\n",
    "vrt[key].display(ax)\n",
    "ax.set_title(f\"$\\\\theta = {key} ^\\\\circ$\", fontsize=20)\n",
    "\n",
    "fig.savefig(\"../data/sys_figs.pdf\",bbox_inches='tight')\n",
    "fig.savefig(\"../data/sys_figs.jpeg\",dpi=300,)\n",
    "plt.show()"
   ]
  },
  {
   "cell_type": "markdown",
   "metadata": {},
   "source": [
    "# Chirality\n",
    "\n",
    "This section deals with chirality computations for all angles. \\\n",
    "Check the _chirality_tools.py_ for more information."
   ]
  },
  {
   "cell_type": "code",
   "execution_count": null,
   "metadata": {},
   "outputs": [],
   "source": [
    "# General information\n",
    "\n",
    "particle = ice.particle(radius = params[\"particle_radius\"],\n",
    "            susceptibility = params[\"particle_susceptibility\"],\n",
    "            diffusion = params[\"particle_diffusion\"],\n",
    "            temperature = params[\"particle_temperature\"],\n",
    "            density = params[\"particle_density\"])\n",
    "\n",
    "trap = ice.trap(trap_sep = params[\"trap_sep\"],\n",
    "            height = params[\"trap_height\"],\n",
    "            stiffness = params[\"trap_stiffness\"])\n",
    "\n",
    "\n",
    "params[\"particle\"] = particle\n",
    "params[\"trap\"] = trap\n"
   ]
  },
  {
   "cell_type": "code",
   "execution_count": null,
   "metadata": {},
   "outputs": [],
   "source": [
    "angles_completed = np.sort([int(a) for a in os.listdir(\"../data/test11/angles\")])\n",
    "angles_completed"
   ]
  },
  {
   "cell_type": "code",
   "execution_count": null,
   "metadata": {},
   "outputs": [],
   "source": [
    "phi = []\n",
    "runs = 10\n",
    "\n",
    "for angle in tqdm(angles_completed):\n",
    "    clear_output(wait=True)\n",
    "\n",
    "    angle_chirs = [get_chirality_on_realization(params,angle,i) for i in range(1,runs+1)]\n",
    "\n",
    "    phi.append(angle_chirs)\n",
    "\n",
    "phi"
   ]
  },
  {
   "cell_type": "code",
   "execution_count": null,
   "metadata": {},
   "outputs": [],
   "source": [
    "phi_df = pd.DataFrame(phi)\n",
    "phi_df.to_csv(\"../data/test11/chirality.csv\")\n",
    "phi_df"
   ]
  },
  {
   "cell_type": "markdown",
   "metadata": {},
   "source": [
    "# Complementary order parameter\n",
    "\n",
    "$$\n",
    "    Q = \\sum_{i,j} (-1)^{i+j}q_{ij}\n",
    "$$"
   ]
  },
  {
   "cell_type": "code",
   "execution_count": null,
   "metadata": {},
   "outputs": [],
   "source": [
    "for angle in tqdm(range(0,90+1)):\n",
    "    for realization in range(1,10+1):\n",
    "        angle_path = f\"../data/test11/angles/{angle}/ctrj/ctrj{realization}.csv\"\n",
    "\n",
    "        try:\n",
    "            os.mkdir(f\"../data/test11/vertices/{angle}\")\n",
    "        except:\n",
    "            pass\n",
    "\n",
    "        vertex_path = f\"../data/test11/vertices/{angle}/vertices{realization}.csv\"\n",
    "        try:\n",
    "            vertices = get_vertices_last_frame(angle_path, last_frame=2399)\n",
    "        except:\n",
    "            vertices = get_vertices_last_frame(angle_path, last_frame=2399-1)\n",
    "\n",
    "\n",
    "        vertices.to_csv(vertex_path)\n",
    "\n",
    "    clear_output(wait=True)"
   ]
  },
  {
   "cell_type": "code",
   "execution_count": null,
   "metadata": {},
   "outputs": [],
   "source": [
    "psi= []\n",
    "for angle in tqdm(range(90+1)):\n",
    "    results = [get_charge_order_on_realization(params, angle,realization) for realization in range(1,10+1) ]\n",
    "    psi.append(results)"
   ]
  },
  {
   "cell_type": "code",
   "execution_count": null,
   "metadata": {},
   "outputs": [],
   "source": [
    "psi_df = pd.DataFrame(psi)\n",
    "psi_df.to_csv(\"../data/test11/charges.csv\")"
   ]
  },
  {
   "cell_type": "markdown",
   "metadata": {},
   "source": [
    "#  Importing data and ploting"
   ]
  },
  {
   "cell_type": "code",
   "execution_count": null,
   "metadata": {},
   "outputs": [],
   "source": [
    "#angles_completed = np.sort([int(a) for a in os.listdir(\"../data/test11/angles\")])\n",
    "angles_completed = list(range(0,90+1))\n",
    "phi_df = pd.read_csv(\"../data/test11/chirality.csv\",index_col=0).applymap(np.abs)\n",
    "psi_df = pd.read_csv(\"../data/test11/charges.csv\",index_col=0).applymap(np.abs)"
   ]
  },
  {
   "cell_type": "code",
   "execution_count": null,
   "metadata": {},
   "outputs": [],
   "source": [
    "phi_means = phi_df.mean(axis=1).to_list()\n",
    "phi_sigmas = phi_df.var(axis=1).to_list()\n",
    "\n",
    "psi_means = psi_df.mean(axis=1).to_list()\n",
    "psi_sigmas = psi_df.var(axis=1).to_list()\n"
   ]
  },
  {
   "cell_type": "code",
   "execution_count": null,
   "metadata": {},
   "outputs": [],
   "source": [
    "plt.rcParams['axes.grid'] = True"
   ]
  },
  {
   "cell_type": "code",
   "execution_count": null,
   "metadata": {},
   "outputs": [],
   "source": [
    "fig, axes = plt.subplots(2,1,figsize=(12,7))\n",
    "\n",
    "ax = axes[0]\n",
    "ax.plot(angles_completed,phi_means, label = \"$\\\\langle |\\\\Phi|\\\\rangle$\", lw=2.0)\n",
    "ax.plot(angles_completed,psi_means, label = \"$\\\\langle |\\\\kappa|\\\\rangle$\", lw=2.0)\n",
    "ax.set_ylabel(\"Order parameter\", fontsize=15)\n",
    "ax.set_xlim(0,90)\n",
    "ax.legend(loc = 'lower right', fontsize=15)\n",
    "\n",
    "ax = axes[1]\n",
    "\n",
    "ax.plot(angles_completed,phi_sigmas, label=\"$\\\\sigma_\\\\Phi^2$\", lw=2.0)\n",
    "ax.plot(angles_completed,psi_sigmas, label=\"$\\\\sigma_\\\\kappa^2$\", lw=2.0)\n",
    "\n",
    "ax.set_xlabel(\"$\\\\theta \\,\\, [ \\, ^\\\\circ \\,]$\",fontsize=15)\n",
    "ax.set_ylabel(\"Variance\", fontsize=15)\n",
    "\n",
    "ax.legend(loc = 'lower right', fontsize=15)\n",
    "\n",
    "ax.set_xlim(0,90)\n",
    "\n",
    "plt.show()\n",
    "\n",
    "fig.savefig(\"../data/order_param.pdf\",bbox_inches='tight')\n",
    "fig.savefig(\"../data/order_param.png\",dpi=300)"
   ]
  }
 ],
 "metadata": {
  "kernelspec": {
   "display_name": "Python 3",
   "language": "python",
   "name": "python3"
  },
  "language_info": {
   "codemirror_mode": {
    "name": "ipython",
    "version": 3
   },
   "file_extension": ".py",
   "mimetype": "text/x-python",
   "name": "python",
   "nbconvert_exporter": "python",
   "pygments_lexer": "ipython3",
   "version": "3.8.10"
  }
 },
 "nbformat": 4,
 "nbformat_minor": 2
}
