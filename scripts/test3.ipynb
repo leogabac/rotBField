{
 "cells": [
  {
   "cell_type": "markdown",
   "metadata": {},
   "source": [
    "# Test 3\n",
    "\n",
    "* Rotated field to 60 degrees\n",
    "* Ramp to 5mT for 60s\n",
    "* Evolution for 60s"
   ]
  },
  {
   "cell_type": "code",
   "execution_count": 1,
   "metadata": {},
   "outputs": [
    {
     "name": "stderr",
     "output_type": "stream",
     "text": [
      "/home/leogabac/.local/lib/python3.10/site-packages/tqdm/auto.py:21: TqdmWarning: IProgress not found. Please update jupyter and ipywidgets. See https://ipywidgets.readthedocs.io/en/stable/user_install.html\n",
      "  from .autonotebook import tqdm as notebook_tqdm\n"
     ]
    }
   ],
   "source": [
    "import os\n",
    "import sys\n",
    "\n",
    "import numpy as np\n",
    "import matplotlib.pyplot as plt\n",
    "import matplotlib as mpl\n",
    "import warnings\n",
    "warnings.simplefilter(action='ignore', category=FutureWarning) # Ignore some messages from pandas\n",
    "import pandas as pd\n",
    "\n",
    "sys.path.insert(0, '../icenumerics/')\n",
    "import icenumerics as ice\n",
    "\n",
    "from auxiliary import getVerticesDict, getVerticesCount, getVerticesAverage\n",
    "\n",
    "ureg = ice.ureg\n",
    "\n",
    "%reload_ext autoreload\n",
    "%autoreload 2\n",
    "\n",
    "idx = pd.IndexSlice\n"
   ]
  },
  {
   "cell_type": "markdown",
   "metadata": {},
   "source": [
    "# Running the simulations"
   ]
  },
  {
   "cell_type": "code",
   "execution_count": 5,
   "metadata": {},
   "outputs": [],
   "source": [
    "def getSimulation():\n",
    "    sp = ice.spins()\n",
    "\n",
    "    # Initialize some parameters\n",
    "    trapSep = 10*ureg.um\n",
    "    particleRadius = 5*ureg.um\n",
    "    totalTime = 120*ureg.s\n",
    "\n",
    "    #L = trapSep+4*(particleRadius+.5*ureg.um)*np.cos(np.pi/4)\n",
    "    L = 30*ureg.um\n",
    "    N = 10\n",
    "\n",
    "    # Create simulation objects\n",
    "    sp.create_lattice(\"square\",[N,N],lattice_constant=L, border=\"periodic\")\n",
    "\n",
    "    particle = ice.particle(radius = particleRadius,\n",
    "                susceptibility = 0.0576,\n",
    "                diffusion = 0.125*ureg.um**2/ureg.s,\n",
    "                temperature = 300*ureg.K,\n",
    "                density = 1000*ureg.kg/ureg.m**3)\n",
    "\n",
    "    trap = ice.trap(trap_sep = trapSep,\n",
    "                height = 4*ureg.pN*ureg.nm,\n",
    "                stiffness = 1e-3*ureg.pN/ureg.nm)\n",
    "\n",
    "    col = ice.colloidal_ice(sp, particle, trap,\n",
    "                            height_spread = 0, \n",
    "                            susceptibility_spread = 0.1,\n",
    "                            periodic = True)\n",
    "\n",
    "        \n",
    "    col.randomize()\n",
    "    col.region = np.array([[0,0,-3*(particleRadius/L/N).magnitude],[1,1,3*(particleRadius/L/N).magnitude]])*N*L\n",
    "\n",
    "    framespersec = 20*ureg.Hz;\n",
    "    dt = 10*ureg.ms\n",
    "\n",
    "    world = ice.world(\n",
    "        field = 5*ureg.mT,\n",
    "        temperature = 300*ureg.K,\n",
    "        dipole_cutoff = 200*ureg.um)\n",
    "\n",
    "\n",
    "    col.simulation(world,\n",
    "                name = \"test\",\n",
    "                include_timestamp = False,\n",
    "                targetdir = r\".\",\n",
    "                framerate = framespersec,\n",
    "                timestep = dt,\n",
    "                run_time = totalTime,\n",
    "                output = [\"x\",\"y\",\"z\",\"mux\",\"muy\",\"muz\"])\n",
    "\n",
    "    # Field\n",
    "    col.sim.field.fieldx = \"v_Bmag*sin(PI/3)*time/60e6*(time<60e6)+v_Bmag*sin(PI/3)*(time>=60e6)\"\n",
    "    col.sim.field.fieldy = \"0\"\n",
    "    col.sim.field.fieldz = \"v_Bmag*cos(PI/3)*time/60e6*(time<60e6)+v_Bmag*cos(PI/3)*(time>=60e6)\"\n",
    "\n",
    "    col.run_simulation();\n",
    "\n",
    "    col.load_simulation()\n",
    "\n",
    "    return col"
   ]
  },
  {
   "cell_type": "code",
   "execution_count": 6,
   "metadata": {},
   "outputs": [
    {
     "name": "stdout",
     "output_type": "stream",
     "text": [
      "===== Experiment number 1 =====\n",
      "scanning file\n"
     ]
    },
    {
     "name": "stderr",
     "output_type": "stream",
     "text": [
      "                                                                 \r"
     ]
    },
    {
     "name": "stdout",
     "output_type": "stream",
     "text": [
      "trj1.csv\n",
      "Saved trj\n",
      "ctrj1.csv\n",
      "Saved centered trj\n",
      "===== Experiment number 2 =====\n",
      "scanning file\n"
     ]
    },
    {
     "name": "stderr",
     "output_type": "stream",
     "text": [
      "                                                                 \r"
     ]
    },
    {
     "name": "stdout",
     "output_type": "stream",
     "text": [
      "trj2.csv\n",
      "Saved trj\n",
      "ctrj2.csv\n",
      "Saved centered trj\n",
      "===== Experiment number 3 =====\n",
      "scanning file\n"
     ]
    },
    {
     "name": "stderr",
     "output_type": "stream",
     "text": [
      "                                                                 \r"
     ]
    },
    {
     "name": "stdout",
     "output_type": "stream",
     "text": [
      "trj3.csv\n",
      "Saved trj\n",
      "ctrj3.csv\n",
      "Saved centered trj\n",
      "===== Experiment number 4 =====\n",
      "scanning file\n"
     ]
    },
    {
     "name": "stderr",
     "output_type": "stream",
     "text": [
      "                                                                 \r"
     ]
    },
    {
     "name": "stdout",
     "output_type": "stream",
     "text": [
      "trj4.csv\n",
      "Saved trj\n",
      "ctrj4.csv\n",
      "Saved centered trj\n",
      "===== Experiment number 5 =====\n",
      "scanning file\n"
     ]
    },
    {
     "name": "stderr",
     "output_type": "stream",
     "text": [
      "                                                                 \r"
     ]
    },
    {
     "name": "stdout",
     "output_type": "stream",
     "text": [
      "trj5.csv\n",
      "Saved trj\n",
      "ctrj5.csv\n",
      "Saved centered trj\n",
      "===== Experiment number 6 =====\n",
      "scanning file\n"
     ]
    },
    {
     "name": "stderr",
     "output_type": "stream",
     "text": [
      "                                                                 \r"
     ]
    },
    {
     "name": "stdout",
     "output_type": "stream",
     "text": [
      "trj6.csv\n",
      "Saved trj\n",
      "ctrj6.csv\n",
      "Saved centered trj\n",
      "===== Experiment number 7 =====\n",
      "scanning file\n"
     ]
    },
    {
     "name": "stderr",
     "output_type": "stream",
     "text": [
      "                                                                 \r"
     ]
    },
    {
     "name": "stdout",
     "output_type": "stream",
     "text": [
      "trj7.csv\n",
      "Saved trj\n",
      "ctrj7.csv\n",
      "Saved centered trj\n",
      "===== Experiment number 8 =====\n",
      "scanning file\n"
     ]
    },
    {
     "name": "stderr",
     "output_type": "stream",
     "text": [
      "                                                                 \r"
     ]
    },
    {
     "name": "stdout",
     "output_type": "stream",
     "text": [
      "trj8.csv\n",
      "Saved trj\n",
      "ctrj8.csv\n",
      "Saved centered trj\n",
      "===== Experiment number 9 =====\n",
      "scanning file\n"
     ]
    },
    {
     "name": "stderr",
     "output_type": "stream",
     "text": [
      "                                                                 \r"
     ]
    },
    {
     "name": "stdout",
     "output_type": "stream",
     "text": [
      "trj9.csv\n",
      "Saved trj\n",
      "ctrj9.csv\n",
      "Saved centered trj\n",
      "===== Experiment number 10 =====\n",
      "scanning file\n"
     ]
    },
    {
     "name": "stderr",
     "output_type": "stream",
     "text": [
      "                                                                 \r"
     ]
    },
    {
     "name": "stdout",
     "output_type": "stream",
     "text": [
      "trj10.csv\n",
      "Saved trj\n",
      "ctrj10.csv\n",
      "Saved centered trj\n"
     ]
    }
   ],
   "source": [
    "runs = 10\n",
    "\n",
    "for i in range(1,runs+1):\n",
    "    print(f\"===== Experiment number {i} =====\")\n",
    "    col = getSimulation()\n",
    "\n",
    "    filename = f\"trj{i}.csv\"\n",
    "    print(filename)\n",
    "    col.trj.to_csv('../data/test3/trj/' + filename)\n",
    "    print('Saved trj')\n",
    "    \n",
    "    filename = f\"ctrj{i}.csv\"\n",
    "    print(filename)\n",
    "    trj = ice.get_ice_trj(col.trj, bounds = col.bnd)\n",
    "    trj.to_csv('../data/test3/ctrj/' + filename)\n",
    "    print('Saved centered trj')"
   ]
  },
  {
   "cell_type": "markdown",
   "metadata": {},
   "source": [
    "# Getting vertices"
   ]
  },
  {
   "cell_type": "code",
   "execution_count": 7,
   "metadata": {},
   "outputs": [
    {
     "name": "stdout",
     "output_type": "stream",
     "text": [
      "============================================================\n",
      "Working on realization 1\n",
      "Opening ../data/test3/trj/trj1.csv\n",
      "Opening ../data/test3/ctrj/ctrj1.csv\n"
     ]
    },
    {
     "name": "stderr",
     "output_type": "stream",
     "text": [
      "100%|██████████| 99/99 [00:00<00:00, 310805.46it/s]\n",
      "100%|██████████| 200/200 [00:01<00:00, 101.79it/s]\n",
      "100%|██████████| 120/120 [00:41<00:00,  2.89it/s]\n"
     ]
    },
    {
     "name": "stdout",
     "output_type": "stream",
     "text": [
      "Saving vertices to ../data/test3/vertices/vertices1.csv\n",
      "============================================================\n",
      "Working on realization 2\n",
      "Opening ../data/test3/trj/trj2.csv\n",
      "Opening ../data/test3/ctrj/ctrj2.csv\n"
     ]
    },
    {
     "name": "stderr",
     "output_type": "stream",
     "text": [
      "100%|██████████| 99/99 [00:00<00:00, 463950.95it/s]\n",
      "100%|██████████| 200/200 [00:01<00:00, 174.62it/s]\n",
      "100%|██████████| 120/120 [00:39<00:00,  3.05it/s]\n"
     ]
    },
    {
     "name": "stdout",
     "output_type": "stream",
     "text": [
      "Saving vertices to ../data/test3/vertices/vertices2.csv\n",
      "============================================================\n",
      "Working on realization 3\n",
      "Opening ../data/test3/trj/trj3.csv\n",
      "Opening ../data/test3/ctrj/ctrj3.csv\n"
     ]
    },
    {
     "name": "stderr",
     "output_type": "stream",
     "text": [
      "100%|██████████| 99/99 [00:00<00:00, 90761.99it/s]\n",
      "100%|██████████| 200/200 [00:01<00:00, 174.91it/s]\n",
      "100%|██████████| 120/120 [00:38<00:00,  3.16it/s]\n"
     ]
    },
    {
     "name": "stdout",
     "output_type": "stream",
     "text": [
      "Saving vertices to ../data/test3/vertices/vertices3.csv\n",
      "============================================================\n",
      "Working on realization 4\n",
      "Opening ../data/test3/trj/trj4.csv\n",
      "Opening ../data/test3/ctrj/ctrj4.csv\n"
     ]
    },
    {
     "name": "stderr",
     "output_type": "stream",
     "text": [
      "100%|██████████| 99/99 [00:00<00:00, 400420.54it/s]\n",
      "100%|██████████| 200/200 [00:01<00:00, 176.93it/s]\n",
      "100%|██████████| 120/120 [00:32<00:00,  3.73it/s]\n"
     ]
    },
    {
     "name": "stdout",
     "output_type": "stream",
     "text": [
      "Saving vertices to ../data/test3/vertices/vertices4.csv\n",
      "============================================================\n",
      "Working on realization 5\n",
      "Opening ../data/test3/trj/trj5.csv\n",
      "Opening ../data/test3/ctrj/ctrj5.csv\n"
     ]
    },
    {
     "name": "stderr",
     "output_type": "stream",
     "text": [
      "100%|██████████| 99/99 [00:00<00:00, 233935.83it/s]\n",
      "100%|██████████| 200/200 [00:00<00:00, 247.53it/s]\n",
      "100%|██████████| 120/120 [00:31<00:00,  3.78it/s]\n"
     ]
    },
    {
     "name": "stdout",
     "output_type": "stream",
     "text": [
      "Saving vertices to ../data/test3/vertices/vertices5.csv\n",
      "============================================================\n",
      "Working on realization 6\n",
      "Opening ../data/test3/trj/trj6.csv\n",
      "Opening ../data/test3/ctrj/ctrj6.csv\n"
     ]
    },
    {
     "name": "stderr",
     "output_type": "stream",
     "text": [
      "100%|██████████| 99/99 [00:00<00:00, 575916.92it/s]\n",
      "100%|██████████| 200/200 [00:00<00:00, 249.39it/s]\n",
      "100%|██████████| 120/120 [00:27<00:00,  4.31it/s]\n"
     ]
    },
    {
     "name": "stdout",
     "output_type": "stream",
     "text": [
      "Saving vertices to ../data/test3/vertices/vertices6.csv\n",
      "============================================================\n",
      "Working on realization 7\n",
      "Opening ../data/test3/trj/trj7.csv\n",
      "Opening ../data/test3/ctrj/ctrj7.csv\n"
     ]
    },
    {
     "name": "stderr",
     "output_type": "stream",
     "text": [
      "100%|██████████| 99/99 [00:00<00:00, 119802.68it/s]\n",
      "100%|██████████| 200/200 [00:00<00:00, 217.37it/s]\n",
      "100%|██████████| 120/120 [00:28<00:00,  4.20it/s]\n"
     ]
    },
    {
     "name": "stdout",
     "output_type": "stream",
     "text": [
      "Saving vertices to ../data/test3/vertices/vertices7.csv\n",
      "============================================================\n",
      "Working on realization 8\n",
      "Opening ../data/test3/trj/trj8.csv\n",
      "Opening ../data/test3/ctrj/ctrj8.csv\n"
     ]
    },
    {
     "name": "stderr",
     "output_type": "stream",
     "text": [
      "100%|██████████| 99/99 [00:00<00:00, 447452.69it/s]\n",
      "100%|██████████| 200/200 [00:00<00:00, 245.35it/s]\n",
      "100%|██████████| 120/120 [00:29<00:00,  4.08it/s]\n"
     ]
    },
    {
     "name": "stdout",
     "output_type": "stream",
     "text": [
      "Saving vertices to ../data/test3/vertices/vertices8.csv\n",
      "============================================================\n",
      "Working on realization 9\n",
      "Opening ../data/test3/trj/trj9.csv\n",
      "Opening ../data/test3/ctrj/ctrj9.csv\n"
     ]
    },
    {
     "name": "stderr",
     "output_type": "stream",
     "text": [
      "100%|██████████| 99/99 [00:00<00:00, 523626.85it/s]\n",
      "100%|██████████| 200/200 [00:00<00:00, 205.96it/s]\n",
      "100%|██████████| 120/120 [00:27<00:00,  4.38it/s]\n"
     ]
    },
    {
     "name": "stdout",
     "output_type": "stream",
     "text": [
      "Saving vertices to ../data/test3/vertices/vertices9.csv\n",
      "============================================================\n",
      "Working on realization 10\n",
      "Opening ../data/test3/trj/trj10.csv\n",
      "Opening ../data/test3/ctrj/ctrj10.csv\n"
     ]
    },
    {
     "name": "stderr",
     "output_type": "stream",
     "text": [
      "100%|██████████| 99/99 [00:00<00:00, 303757.20it/s]\n",
      "100%|██████████| 200/200 [00:00<00:00, 264.65it/s]\n",
      "100%|██████████| 120/120 [00:27<00:00,  4.38it/s]"
     ]
    },
    {
     "name": "stdout",
     "output_type": "stream",
     "text": [
      "Saving vertices to ../data/test3/vertices/vertices10.csv\n"
     ]
    },
    {
     "name": "stderr",
     "output_type": "stream",
     "text": [
      "\n"
     ]
    }
   ],
   "source": [
    "trjPath = \"../data/test3/trj/\"\n",
    "ctrjPath = \"../data/test3/ctrj/\"\n",
    "verticesPath = \"../data/test3/vertices/\"\n",
    "\n",
    "# Get the number of realizations\n",
    "_, _, files = next(os.walk(trjPath))\n",
    "realizations = len(files)\n",
    "\n",
    "for i in range(1,realizations+1):\n",
    "    print(\"============================================================\")\n",
    "    print(f\"Working on realization {i}\")\n",
    "\n",
    "    # Importing files\n",
    "    trjFile = trjPath + f\"trj{i}.csv\"\n",
    "    print(f\"Opening \" + trjFile)\n",
    "    ctrjFile = ctrjPath + f\"ctrj{i}.csv\"\n",
    "    print(f\"Opening \" + ctrjFile)\n",
    "    trj_raw = trj = pd.read_csv(trjFile, index_col=[0,1])\n",
    "    ctrj_raw = pd.read_csv(ctrjFile, index_col=[0,1])\n",
    "\n",
    "    v = ice.vertices()\n",
    "    frames = ctrj_raw.index.get_level_values(\"frame\").unique()\n",
    "\n",
    "    verticesFile = verticesPath + f\"vertices{i}.csv\"\n",
    "    v.trj_to_vertices(ctrj_raw.loc[frames[::20]])\n",
    "\n",
    "    print(f\"Saving vertices to \" + verticesFile)\n",
    "    v.vertices.to_csv(verticesFile)"
   ]
  },
  {
   "cell_type": "markdown",
   "metadata": {},
   "source": [
    "# Analysis"
   ]
  },
  {
   "cell_type": "code",
   "execution_count": 9,
   "metadata": {},
   "outputs": [
    {
     "data": {
      "text/plain": [
       "[<matplotlib.lines.Line2D at 0x7f55d2b3f670>]"
      ]
     },
     "execution_count": 9,
     "metadata": {},
     "output_type": "execute_result"
    },
    {
     "data": {
      "image/png": "[encoded data removed]",
      "text/plain": [
       "<Figure size 1350x300 with 3 Axes>"
      ]
     },
     "metadata": {},
     "output_type": "display_data"
    }
   ],
   "source": [
    "trj_raw = trj = pd.read_csv(\"../data/test3/trj/trj10.csv\", index_col=[0,1])\n",
    "ctrj_raw = pd.read_csv(\"../data/test3/ctrj/ctrj10.csv\", index_col=[0,1])\n",
    "\n",
    "fig, ax = plt.subplots(1,3,figsize=(9,2),dpi=150)\n",
    "\n",
    "ax[0].plot(np.array(trj_raw.loc[idx[:,1],\"t\"]),np.array(trj_raw.loc[idx[:,1],\"mux\"]))\n",
    "ax[1].plot(np.array(trj_raw.loc[idx[:,1],\"t\"]),np.array(trj_raw.loc[idx[:,1],\"muy\"]))\n",
    "ax[2].plot(np.array(trj_raw.loc[idx[:,1],\"t\"]),np.array(trj_raw.loc[idx[:,1],\"muz\"]))"
   ]
  },
  {
   "cell_type": "code",
   "execution_count": 10,
   "metadata": {},
   "outputs": [
    {
     "data": {
      "text/html": [
       "<div>\n",
       "<style scoped>\n",
       "    .dataframe tbody tr th:only-of-type {\n",
       "        vertical-align: middle;\n",
       "    }\n",
       "\n",
       "    .dataframe tbody tr th {\n",
       "        vertical-align: top;\n",
       "    }\n",
       "\n",
       "    .dataframe thead th {\n",
       "        text-align: right;\n",
       "    }\n",
       "</style>\n",
       "<table border=\"1\" class=\"dataframe\">\n",
       "  <thead>\n",
       "    <tr style=\"text-align: right;\">\n",
       "      <th></th>\n",
       "      <th></th>\n",
       "      <th>x</th>\n",
       "      <th>y</th>\n",
       "      <th>coordination</th>\n",
       "      <th>charge</th>\n",
       "      <th>dx</th>\n",
       "      <th>dy</th>\n",
       "      <th>type</th>\n",
       "    </tr>\n",
       "    <tr>\n",
       "      <th>frame</th>\n",
       "      <th>vertex</th>\n",
       "      <th></th>\n",
       "      <th></th>\n",
       "      <th></th>\n",
       "      <th></th>\n",
       "      <th></th>\n",
       "      <th></th>\n",
       "      <th></th>\n",
       "    </tr>\n",
       "  </thead>\n",
       "  <tbody>\n",
       "    <tr>\n",
       "      <th rowspan=\"5\" valign=\"top\">0</th>\n",
       "      <th>3</th>\n",
       "      <td>120.0</td>\n",
       "      <td>270.0</td>\n",
       "      <td>4</td>\n",
       "      <td>0</td>\n",
       "      <td>-2.0</td>\n",
       "      <td>-2.0</td>\n",
       "      <td>IV</td>\n",
       "    </tr>\n",
       "    <tr>\n",
       "      <th>4</th>\n",
       "      <td>270.0</td>\n",
       "      <td>270.0</td>\n",
       "      <td>4</td>\n",
       "      <td>0</td>\n",
       "      <td>0.0</td>\n",
       "      <td>0.0</td>\n",
       "      <td>III</td>\n",
       "    </tr>\n",
       "    <tr>\n",
       "      <th>5</th>\n",
       "      <td>270.0</td>\n",
       "      <td>240.0</td>\n",
       "      <td>4</td>\n",
       "      <td>0</td>\n",
       "      <td>0.0</td>\n",
       "      <td>0.0</td>\n",
       "      <td>III</td>\n",
       "    </tr>\n",
       "    <tr>\n",
       "      <th>10</th>\n",
       "      <td>270.0</td>\n",
       "      <td>210.0</td>\n",
       "      <td>4</td>\n",
       "      <td>0</td>\n",
       "      <td>2.0</td>\n",
       "      <td>2.0</td>\n",
       "      <td>IV</td>\n",
       "    </tr>\n",
       "    <tr>\n",
       "      <th>11</th>\n",
       "      <td>270.0</td>\n",
       "      <td>180.0</td>\n",
       "      <td>4</td>\n",
       "      <td>-2</td>\n",
       "      <td>2.0</td>\n",
       "      <td>0.0</td>\n",
       "      <td>II</td>\n",
       "    </tr>\n",
       "    <tr>\n",
       "      <th>...</th>\n",
       "      <th>...</th>\n",
       "      <td>...</td>\n",
       "      <td>...</td>\n",
       "      <td>...</td>\n",
       "      <td>...</td>\n",
       "      <td>...</td>\n",
       "      <td>...</td>\n",
       "      <td>...</td>\n",
       "    </tr>\n",
       "    <tr>\n",
       "      <th rowspan=\"5\" valign=\"top\">2380</th>\n",
       "      <th>94</th>\n",
       "      <td>240.0</td>\n",
       "      <td>210.0</td>\n",
       "      <td>4</td>\n",
       "      <td>0</td>\n",
       "      <td>-2.0</td>\n",
       "      <td>2.0</td>\n",
       "      <td>IV</td>\n",
       "    </tr>\n",
       "    <tr>\n",
       "      <th>95</th>\n",
       "      <td>240.0</td>\n",
       "      <td>30.0</td>\n",
       "      <td>4</td>\n",
       "      <td>-4</td>\n",
       "      <td>0.0</td>\n",
       "      <td>0.0</td>\n",
       "      <td>I</td>\n",
       "    </tr>\n",
       "    <tr>\n",
       "      <th>96</th>\n",
       "      <td>240.0</td>\n",
       "      <td>60.0</td>\n",
       "      <td>4</td>\n",
       "      <td>0</td>\n",
       "      <td>2.0</td>\n",
       "      <td>2.0</td>\n",
       "      <td>IV</td>\n",
       "    </tr>\n",
       "    <tr>\n",
       "      <th>97</th>\n",
       "      <td>30.0</td>\n",
       "      <td>60.0</td>\n",
       "      <td>4</td>\n",
       "      <td>0</td>\n",
       "      <td>2.0</td>\n",
       "      <td>2.0</td>\n",
       "      <td>IV</td>\n",
       "    </tr>\n",
       "    <tr>\n",
       "      <th>98</th>\n",
       "      <td>60.0</td>\n",
       "      <td>60.0</td>\n",
       "      <td>4</td>\n",
       "      <td>4</td>\n",
       "      <td>0.0</td>\n",
       "      <td>0.0</td>\n",
       "      <td>VI</td>\n",
       "    </tr>\n",
       "  </tbody>\n",
       "</table>\n",
       "<p>9718 rows × 7 columns</p>\n",
       "</div>"
      ],
      "text/plain": [
       "                  x      y  coordination  charge   dx   dy type\n",
       "frame vertex                                                   \n",
       "0     3       120.0  270.0             4       0 -2.0 -2.0   IV\n",
       "      4       270.0  270.0             4       0  0.0  0.0  III\n",
       "      5       270.0  240.0             4       0  0.0  0.0  III\n",
       "      10      270.0  210.0             4       0  2.0  2.0   IV\n",
       "      11      270.0  180.0             4      -2  2.0  0.0   II\n",
       "...             ...    ...           ...     ...  ...  ...  ...\n",
       "2380  94      240.0  210.0             4       0 -2.0  2.0   IV\n",
       "      95      240.0   30.0             4      -4  0.0  0.0    I\n",
       "      96      240.0   60.0             4       0  2.0  2.0   IV\n",
       "      97       30.0   60.0             4       0  2.0  2.0   IV\n",
       "      98       60.0   60.0             4       4  0.0  0.0   VI\n",
       "\n",
       "[9718 rows x 7 columns]"
      ]
     },
     "execution_count": 10,
     "metadata": {},
     "output_type": "execute_result"
    }
   ],
   "source": [
    "# Import and classify the vertices\n",
    "verticesFolderPath = \"../data/test3/vertices/\"\n",
    "vertices = getVerticesDict(verticesFolderPath)\n",
    "vertices[\"10\"]"
   ]
  },
  {
   "cell_type": "code",
   "execution_count": 11,
   "metadata": {},
   "outputs": [
    {
     "data": {
      "text/html": [
       "<div>\n",
       "<style scoped>\n",
       "    .dataframe tbody tr th:only-of-type {\n",
       "        vertical-align: middle;\n",
       "    }\n",
       "\n",
       "    .dataframe tbody tr th {\n",
       "        vertical-align: top;\n",
       "    }\n",
       "\n",
       "    .dataframe thead th {\n",
       "        text-align: right;\n",
       "    }\n",
       "</style>\n",
       "<table border=\"1\" class=\"dataframe\">\n",
       "  <thead>\n",
       "    <tr style=\"text-align: right;\">\n",
       "      <th></th>\n",
       "      <th></th>\n",
       "      <th>number</th>\n",
       "      <th>fraction</th>\n",
       "    </tr>\n",
       "    <tr>\n",
       "      <th>frame</th>\n",
       "      <th>type</th>\n",
       "      <th></th>\n",
       "      <th></th>\n",
       "    </tr>\n",
       "  </thead>\n",
       "  <tbody>\n",
       "    <tr>\n",
       "      <th rowspan=\"5\" valign=\"top\">0</th>\n",
       "      <th>I</th>\n",
       "      <td>6</td>\n",
       "      <td>0.074074</td>\n",
       "    </tr>\n",
       "    <tr>\n",
       "      <th>II</th>\n",
       "      <td>22</td>\n",
       "      <td>0.271605</td>\n",
       "    </tr>\n",
       "    <tr>\n",
       "      <th>III</th>\n",
       "      <td>14</td>\n",
       "      <td>0.172840</td>\n",
       "    </tr>\n",
       "    <tr>\n",
       "      <th>IV</th>\n",
       "      <td>17</td>\n",
       "      <td>0.209877</td>\n",
       "    </tr>\n",
       "    <tr>\n",
       "      <th>V</th>\n",
       "      <td>16</td>\n",
       "      <td>0.197531</td>\n",
       "    </tr>\n",
       "    <tr>\n",
       "      <th>...</th>\n",
       "      <th>...</th>\n",
       "      <td>...</td>\n",
       "      <td>...</td>\n",
       "    </tr>\n",
       "    <tr>\n",
       "      <th rowspan=\"5\" valign=\"top\">2380</th>\n",
       "      <th>II</th>\n",
       "      <td>13</td>\n",
       "      <td>0.160494</td>\n",
       "    </tr>\n",
       "    <tr>\n",
       "      <th>III</th>\n",
       "      <td>0</td>\n",
       "      <td>0.000000</td>\n",
       "    </tr>\n",
       "    <tr>\n",
       "      <th>IV</th>\n",
       "      <td>21</td>\n",
       "      <td>0.259259</td>\n",
       "    </tr>\n",
       "    <tr>\n",
       "      <th>V</th>\n",
       "      <td>14</td>\n",
       "      <td>0.172840</td>\n",
       "    </tr>\n",
       "    <tr>\n",
       "      <th>VI</th>\n",
       "      <td>18</td>\n",
       "      <td>0.222222</td>\n",
       "    </tr>\n",
       "  </tbody>\n",
       "</table>\n",
       "<p>720 rows × 2 columns</p>\n",
       "</div>"
      ],
      "text/plain": [
       "            number  fraction\n",
       "frame type                  \n",
       "0     I          6  0.074074\n",
       "      II        22  0.271605\n",
       "      III       14  0.172840\n",
       "      IV        17  0.209877\n",
       "      V         16  0.197531\n",
       "...            ...       ...\n",
       "2380  II        13  0.160494\n",
       "      III        0  0.000000\n",
       "      IV        21  0.259259\n",
       "      V         14  0.172840\n",
       "      VI        18  0.222222\n",
       "\n",
       "[720 rows x 2 columns]"
      ]
     },
     "execution_count": 11,
     "metadata": {},
     "output_type": "execute_result"
    }
   ],
   "source": [
    "counts = getVerticesCount(vertices)\n",
    "counts[\"10\"]"
   ]
  },
  {
   "cell_type": "code",
   "execution_count": 13,
   "metadata": {},
   "outputs": [
    {
     "data": {
      "image/png": "[encoded data removed]",
      "text/plain": [
       "<Figure size 640x480 with 1 Axes>"
      ]
     },
     "metadata": {},
     "output_type": "display_data"
    }
   ],
   "source": [
    "timeSeries = getVerticesAverage(counts,20)\n",
    "ax = plt.gca()\n",
    "types = timeSeries.columns.to_list()[1:]\n",
    "for col in types:\n",
    "    timeSeries.plot(kind='line',\n",
    "        x='time',\n",
    "        y=col,\n",
    "        ax=ax\n",
    "        )\n"
   ]
  },
  {
   "cell_type": "code",
   "execution_count": 14,
   "metadata": {},
   "outputs": [
    {
     "name": "stderr",
     "output_type": "stream",
     "text": [
      "/tmp/ipykernel_15321/2893665388.py:4: SettingWithCopyWarning: \n",
      "A value is trying to be set on a copy of a slice from a DataFrame.\n",
      "Try using .loc[row_indexer,col_indexer] = value instead\n",
      "\n",
      "See the caveats in the documentation: https://pandas.pydata.org/pandas-docs/stable/user_guide/indexing.html#returning-a-view-versus-a-copy\n",
      "  rampSeries[\"field\"] = 5 * rampSeries[\"time\"]/60\n",
      "/tmp/ipykernel_15321/2893665388.py:5: SettingWithCopyWarning: \n",
      "A value is trying to be set on a copy of a slice from a DataFrame.\n",
      "Try using .loc[row_indexer,col_indexer] = value instead\n",
      "\n",
      "See the caveats in the documentation: https://pandas.pydata.org/pandas-docs/stable/user_guide/indexing.html#returning-a-view-versus-a-copy\n",
      "  evoSeries[\"offtime\"] = (evoSeries[\"time\"]-60)\n"
     ]
    }
   ],
   "source": [
    "rampSeries = timeSeries[timeSeries['time'] <= 60]\n",
    "evoSeries = timeSeries[timeSeries['time'] > 60]\n",
    "\n",
    "rampSeries[\"field\"] = 5 * rampSeries[\"time\"]/60\n",
    "evoSeries[\"offtime\"] = (evoSeries[\"time\"]-60)"
   ]
  }
 ],
 "metadata": {
  "kernelspec": {
   "display_name": "Python 3",
   "language": "python",
   "name": "python3"
  },
  "language_info": {
   "codemirror_mode": {
    "name": "ipython",
    "version": 3
   },
   "file_extension": ".py",
   "mimetype": "text/x-python",
   "name": "python",
   "nbconvert_exporter": "python",
   "pygments_lexer": "ipython3",
   "version": "3.10.12"
  }
 },
 "nbformat": 4,
 "nbformat_minor": 2
}
