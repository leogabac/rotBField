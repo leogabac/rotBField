{
 "cells": [
  {
   "cell_type": "code",
   "execution_count": 1,
   "id": "d969c3d6-88ee-473b-b4c1-2456749558de",
   "metadata": {},
   "outputs": [],
   "source": [
    "import os\n",
    "import sys\n",
    "\n",
    "import numpy as np\n",
    "import pandas as pd\n",
    "from tqdm import tqdm\n",
    "\n",
    "import matplotlib.pyplot as plt\n",
    "\n",
    "sys.path.insert(0, './icenumerics/')\n",
    "\n",
    "import icenumerics as ice\n",
    "\n",
    "ureg = ice.ureg\n",
    "\n",
    "%reload_ext autoreload\n",
    "%autoreload 2\n",
    "\n",
    "idx = pd.IndexSlice"
   ]
  },
  {
   "cell_type": "code",
   "execution_count": 2,
   "id": "f1f0695e-525f-4384-a6fe-bdefeda03cf7",
   "metadata": {},
   "outputs": [],
   "source": [
    "plt.rcParams['text.usetex'] = True\n",
    "plt.rcParams['font.family'] = 'serif'\n",
    "plt.rcParams['axes.grid'] = True"
   ]
  },
  {
   "cell_type": "code",
   "execution_count": 3,
   "id": "44c61258-996a-4ad3-8ed5-2d89350a1c21",
   "metadata": {},
   "outputs": [],
   "source": [
    "params = {\n",
    "    \"particle_radius\":1.4*ureg.um,\n",
    "    \"particle_susceptibility\":0.4,\n",
    "    \"particle_diffusion\":0.14*ureg.um**2/ureg.s,\n",
    "    \"particle_temperature\":300*ureg.K,\n",
    "    \"particle_density\":1000*ureg.kg/ureg.m**3,\n",
    "\n",
    "    \"trap_sep\":3*ureg.um,\n",
    "    \"trap_height\":8*ureg.pN*ureg.nm,\n",
    "    \"trap_stiffness\":100e-6*ureg.pN/ureg.nm,\n",
    "    \"height_spread\":0,\n",
    "    \"susceptibility_spread\":0,\n",
    "    \"isperiodic\":True,\n",
    "    \"size\" : 10,\n",
    "\n",
    "    \"total_time\":120*ureg.s,\n",
    "    \"framespersec\":1000*ureg.Hz,\n",
    "    \"dt\":1*ureg.ms,\n",
    "    \"max_field\":5*ureg.mT,\n",
    "    \"sim_temp\":300*ureg.K,\n",
    "    \"sim_dipole_cutoff\":40*ureg.um,\n",
    "}\n",
    "\n",
    "params[\"lattice_constant\"] = params[\"trap_sep\"]+(2*params[\"particle_radius\"]+1*ureg.um)*np.sqrt(2)\n",
    "\n",
    "locals().update(params)"
   ]
  },
  {
   "cell_type": "markdown",
   "id": "53d9804e-8194-402d-9b81-9d03b51ca58c",
   "metadata": {},
   "source": [
    "https://pint.readthedocs.io/en/0.10.1/serialization.html"
   ]
  },
  {
   "cell_type": "code",
   "execution_count": 4,
   "id": "d64132fb-7e11-466c-a34d-cd70a74f7061",
   "metadata": {},
   "outputs": [],
   "source": [
    "particle = ice.particle(radius = particle_radius,\n",
    "            susceptibility = particle_susceptibility,\n",
    "            diffusion = particle_diffusion,\n",
    "            temperature = particle_temperature,\n",
    "            density = particle_density)\n",
    "\n",
    "trap = ice.trap(trap_sep = trap_sep,\n",
    "            height = trap_height,\n",
    "            stiffness = trap_stiffness) \n",
    "\n",
    "sp = ice.spins()\n",
    "sp.create_lattice(\"square\",[size,size],lattice_constant=lattice_constant, border=\"periodic\")\n",
    "\n",
    "col = ice.colloidal_ice(sp, particle, trap,\n",
    "                        height_spread = height_spread, \n",
    "                        susceptibility_spread = susceptibility_spread,\n",
    "                        periodic = isperiodic)\n"
   ]
  },
  {
   "cell_type": "code",
   "execution_count": 5,
   "id": "54df6910-ffd6-4c52-a007-66698e150b90",
   "metadata": {},
   "outputs": [],
   "source": [
    "col.randomize()\n",
    "\n",
    "\n",
    "col.region = np.array(\n",
    "    [[0,0,-3*(particle_radius/lattice_constant/size).magnitude],\n",
    "     [1,1,3*(particle_radius/lattice_constant/size).magnitude]])*size*lattice_constant"
   ]
  },
  {
   "cell_type": "code",
   "execution_count": 6,
   "id": "64cfac3e-4060-4cdb-8f46-87197c3d8e90",
   "metadata": {},
   "outputs": [],
   "source": [
    "world = ice.world(\n",
    "        field = max_field,\n",
    "        temperature = sim_temp,\n",
    "        dipole_cutoff = sim_dipole_cutoff,\n",
    "        boundaries=['p', 'p', 'p'])\n",
    "\n",
    "col.simulation(world,\n",
    "            name = \"test_0\",\n",
    "            include_timestamp = False,\n",
    "            targetdir = r\".\",\n",
    "            framerate = framespersec,\n",
    "            timestep = dt,\n",
    "            run_time = total_time,\n",
    "            output = [\"x\",\"y\",\"z\",\"mux\",\"muy\",\"muz\"])\n",
    "\n",
    "# Field\n",
    "\n",
    "angle = 0*ureg(\"deg\")\n",
    "angle = angle.to(\"rad\").magnitude\n",
    "\n",
    "col.sim.field.fieldx = f\"v_Bmag*sin({angle})*time/60e6*(time<60e6)+v_Bmag*sin({angle})*(time>=60e6)\"\n",
    "col.sim.field.fieldy = \"0\"\n",
    "col.sim.field.fieldz = f\"v_Bmag*cos({angle})*time/60e6*(time<60e6)+v_Bmag*cos({angle})*(time>=60e6)\""
   ]
  },
  {
   "cell_type": "code",
   "execution_count": null,
   "id": "a4c3ffd7-c790-4276-bc58-4612ef0c05a4",
   "metadata": {},
   "outputs": [],
   "source": [
    "out = col.run_simulation()\n",
    "\n",
    "col.load_simulation(sl = slice(-100,-1,1))"
   ]
  },
  {
   "cell_type": "code",
   "execution_count": null,
   "id": "063f0ca1-13dc-470e-8a19-d1318c2b838b",
   "metadata": {},
   "outputs": [],
   "source": [
    "col.display()"
   ]
  },
  {
   "cell_type": "code",
   "execution_count": null,
   "id": "a29d0cea-e7ec-4c4e-a5ac-e99f3896b387",
   "metadata": {},
   "outputs": [],
   "source": [
    "world = ice.world(\n",
    "        field = max_field,\n",
    "        temperature = sim_temp,\n",
    "        dipole_cutoff = sim_dipole_cutoff,\n",
    "        boundaries=['p', 'p', 'p'])\n",
    "\n",
    "col.simulation(world,\n",
    "            name = \"test_90\",\n",
    "            include_timestamp = False,\n",
    "            targetdir = r\".\",\n",
    "            framerate = framespersec,\n",
    "            timestep = dt,\n",
    "            run_time = total_time,\n",
    "            output = [\"x\",\"y\",\"z\",\"mux\",\"muy\",\"muz\"])\n",
    "\n",
    "# Field\n",
    "\n",
    "angle = 90*ureg(\"deg\")\n",
    "angle = angle.to(\"rad\").magnitude\n",
    "\n",
    "col.sim.field.fieldx = f\"v_Bmag*sin({angle})*time/60e6*(time<60e6)+v_Bmag*sin({angle})*(time>=60e6)\"\n",
    "col.sim.field.fieldy = \"0\"\n",
    "col.sim.field.fieldz = f\"v_Bmag*cos({angle})*time/60e6*(time<60e6)+v_Bmag*cos({angle})*(time>=60e6)\"\n",
    "\n",
    "out = col.run_simulation()\n",
    "\n",
    "col.load_simulation(sl = slice(-100,-1,1))"
   ]
  },
  {
   "cell_type": "code",
   "execution_count": null,
   "id": "4c78d967-bb68-41d9-b931-a81fa4a0304c",
   "metadata": {},
   "outputs": [],
   "source": [
    "out"
   ]
  },
  {
   "cell_type": "code",
   "execution_count": null,
   "id": "7b5cb22d-cf00-4adc-b1e8-25af49d3402e",
   "metadata": {},
   "outputs": [],
   "source": [
    "col.trj.index.get_level_values(\"frame\").unique()"
   ]
  }
 ],
 "metadata": {
  "kernelspec": {
   "display_name": "Python 3 (ipykernel)",
   "language": "python",
   "name": "python3"
  },
  "language_info": {
   "codemirror_mode": {
    "name": "ipython",
    "version": 3
   },
   "file_extension": ".py",
   "mimetype": "text/x-python",
   "name": "python",
   "nbconvert_exporter": "python",
   "pygments_lexer": "ipython3",
   "version": "3.9.18"
  }
 },
 "nbformat": 4,
 "nbformat_minor": 5
}
