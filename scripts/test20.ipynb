{
 "cells": [
  {
   "cell_type": "markdown",
   "metadata": {},
   "source": [
    "# Test 20\n",
    "\n",
    "In this test, I want to evaluate the stability of AF $\\pm 2$ states in both sizes"
   ]
  },
  {
   "cell_type": "code",
   "execution_count": null,
   "metadata": {},
   "outputs": [],
   "source": [
    "import os\n",
    "import sys\n",
    "\n",
    "import numpy as np\n",
    "import pandas as pd\n",
    "\n",
    "from tqdm import tqdm\n",
    "from IPython.display import clear_output\n",
    "\n",
    "import matplotlib as mpl \n",
    "#mpl.use('pgf')\n",
    "import matplotlib.pyplot as plt\n",
    "\n",
    "sys.path.insert(0, '../icenumerics/')\n",
    "import icenumerics as ice\n",
    "\n",
    "import auxiliary as aux\n",
    "import montecarlo_tools as mc\n",
    "import chirality_tools as chir\n",
    "ureg = ice.ureg\n",
    "\n",
    "%reload_ext autoreload\n",
    "%autoreload 2\n",
    "\n",
    "idx = pd.IndexSlice"
   ]
  },
  {
   "cell_type": "code",
   "execution_count": null,
   "metadata": {},
   "outputs": [],
   "source": [
    "plt.rcParams.update({\n",
    "    \"pgf.texsystem\": \"pdflatex\",\n",
    "    'font.family': 'serif',\n",
    "    'text.usetex': True,\n",
    "    'pgf.rcfonts': False,\n",
    "})"
   ]
  },
  {
   "cell_type": "markdown",
   "metadata": {},
   "source": [
    "# Preparing smol state"
   ]
  },
  {
   "cell_type": "code",
   "execution_count": null,
   "metadata": {},
   "outputs": [],
   "source": [
    "quench_time = 120*ureg.s\n",
    "rotation_time = 0*ureg.s\n",
    "total_time = quench_time + rotation_time\n",
    "data_path = \"../data/test20/\"\n",
    "runs = 10\n",
    "\n",
    "smol_params = {\n",
    "    \"particle_radius\":1.4*ureg.um,\n",
    "    \"particle_susceptibility\":0.4,\n",
    "    \"particle_diffusion\":0.14*ureg.um**2/ureg.s,\n",
    "    \"particle_temperature\":300*ureg.K,\n",
    "    \"particle_density\":1000*ureg.kg/ureg.m**3,\n",
    "\n",
    "    \"trap_sep\":3*ureg.um,\n",
    "    \"trap_height\":8*ureg.pN*ureg.nm,\n",
    "    \"trap_stiffness\":100e-3*ureg.pN/ureg.nm,\n",
    "    \"height_spread\":0,\n",
    "    \"susceptibility_spread\":0,\n",
    "    \"isperiodic\":True,\n",
    "\n",
    "    \"total_time\":total_time,\n",
    "    \"framespersec\":20*ureg.Hz,\n",
    "    \"dt\":0.1*ureg.ms,\n",
    "    \"max_field\":10*ureg.mT,\n",
    "    \"sim_temp\":300*ureg.K,\n",
    "    \"sim_dipole_cutoff\":40*ureg.um,\n",
    "}\n",
    "\n",
    "smol_params[\"lattice_constant\"] = smol_params[\"trap_sep\"]+(2*smol_params[\"particle_radius\"]+1*ureg.um)*np.sqrt(2)\n",
    "smol_params[\"size\"] = 10"
   ]
  },
  {
   "cell_type": "code",
   "execution_count": null,
   "metadata": {},
   "outputs": [],
   "source": [
    "gspath = '../data/test16'\n",
    "smolaf = pd.read_csv(os.path.join(gspath,'smolaf.csv'),index_col=0)\n",
    "\n",
    "particle = ice.particle(\n",
    "    radius = smol_params['particle_radius'],\n",
    "    susceptibility = smol_params['particle_susceptibility'],\n",
    "    diffusion = smol_params[\"particle_diffusion\"],\n",
    "    temperature = smol_params[\"particle_temperature\"],\n",
    "    density = smol_params[\"particle_density\"]\n",
    ")\n",
    "    \n",
    "trap = ice.trap(\n",
    "    trap_sep = smol_params[\"trap_sep\"], \n",
    "    height = smol_params[\"trap_height\"],\n",
    "    stiffness = smol_params[\"trap_stiffness\"]\n",
    ")\n",
    "    \n",
    "smol_params['particle'] = particle\n",
    "smol_params['trap'] = trap\n",
    "\n",
    "smol_col = aux.get_colloids_from_ctrj2(smolaf,smol_params)"
   ]
  },
  {
   "cell_type": "code",
   "execution_count": null,
   "metadata": {},
   "outputs": [],
   "source": [
    "list(list(i for i in range(100,110,20)))"
   ]
  },
  {
   "cell_type": "code",
   "execution_count": null,
   "metadata": {},
   "outputs": [],
   "source": [
    "col1 = smol_col.copy(deep=True)\n",
    "flips = [ i+j for i in range(100,110) for j in range(0,100,20) ]\n",
    "col1 = mc.flip_colloids(col1,indices=flips)"
   ]
  },
  {
   "cell_type": "code",
   "execution_count": null,
   "metadata": {},
   "outputs": [],
   "source": [
    "fig, ax = plt.subplots(figsize=(5,5))\n",
    "\n",
    "v = ice.vertices()\n",
    "v = v.colloids_to_vertices(col1)\n",
    "\n",
    "col1.display(ax)\n",
    "v.display(ax,dpl_scale=0.5,dpl_width=2.5,circle_scale=0.5)\n",
    "plt.show()"
   ]
  },
  {
   "cell_type": "code",
   "execution_count": null,
   "metadata": {},
   "outputs": [],
   "source": [
    "col1.to_ctrj().to_csv('../data/test20/smoaf2.csv')"
   ]
  },
  {
   "cell_type": "code",
   "execution_count": null,
   "metadata": {},
   "outputs": [],
   "source": [
    "E0 = smol_col.calculate_energy(B=field) / 1e5\n",
    "E1 = col1.calculate_energy(B=field) / 1e5"
   ]
  },
  {
   "cell_type": "code",
   "execution_count": null,
   "metadata": {},
   "outputs": [],
   "source": [
    "E0 - E1"
   ]
  },
  {
   "cell_type": "markdown",
   "metadata": {},
   "source": [
    "# Evolution of AF2"
   ]
  },
  {
   "cell_type": "code",
   "execution_count": null,
   "metadata": {},
   "outputs": [],
   "source": [
    "def get_md_colloid(params, ctrj, realization):\n",
    "    \n",
    "    N = params['size']\n",
    "    a = params['lattice_constant']\n",
    "    \n",
    "    particle = ice.particle(\n",
    "        radius = params['particle_radius'],\n",
    "        susceptibility = params['particle_susceptibility'],\n",
    "        diffusion = params[\"particle_diffusion\"],\n",
    "        temperature = params[\"particle_temperature\"],\n",
    "        density = params[\"particle_density\"]\n",
    "    )\n",
    "    \n",
    "    trap = ice.trap(\n",
    "       trap_sep = params[\"trap_sep\"], \n",
    "       height = params[\"trap_height\"],\n",
    "       stiffness = params[\"trap_stiffness\"]\n",
    "    )\n",
    "    \n",
    "    params['particle'] = particle\n",
    "    params['trap'] = trap\n",
    "    \n",
    "    col = aux.get_colloids_from_ctrj2(ctrj,params)\n",
    "    \n",
    "    world = ice.world(\n",
    "        field = params[\"max_field\"],\n",
    "        temperature = params[\"sim_temp\"],\n",
    "        dipole_cutoff = params[\"sim_dipole_cutoff\"],\n",
    "        boundaries=['p', 'p', 'p']\n",
    "    )\n",
    "    \n",
    "    col.simulation(world,\n",
    "        name = f\"./lammps_files/test{realization}\",\n",
    "        include_timestamp = False,\n",
    "        targetdir = r\".\",\n",
    "        framerate = params[\"framespersec\"],\n",
    "        timestep = params[\"dt\"],\n",
    "        run_time = params[\"total_time\"],\n",
    "        output = [\"x\",\"y\",\"z\",\"mux\",\"muy\",\"muz\"],\n",
    "        processors=1)\n",
    "    \n",
    "    col.sim.field.fieldx = \"v_Bmag\"\n",
    "    col.sim.field.fieldy = \"0\"\n",
    "    col.sim.field.fieldz = \"0\"   \n",
    "\n",
    "    col.run_simulation()\n",
    "    col.load_simulation()\n",
    "\n",
    "    return col   "
   ]
  },
  {
   "cell_type": "code",
   "execution_count": null,
   "metadata": {},
   "outputs": [],
   "source": [
    "def jesus_take_the_wheels(params,ctrj,data_path,realization):\n",
    "    trj_path = os.path.join(data_path,'trj')\n",
    "    ctrj_path = os.path.join(data_path,'ctrj')\n",
    "\n",
    "    try:\n",
    "        os.mkdir(trj_path)\n",
    "        os.mkdir(ctrj_path)\n",
    "    except:\n",
    "        pass\n",
    "    \n",
    "    col = get_md_colloid(params,ctrj,realization)\n",
    "\n",
    "    col.trj.to_csv(os.path.join(trj_path,f\"trj{realization}.csv\"))\n",
    "\n",
    "    trj = ice.get_ice_trj(col.trj, bounds = col.bnd)\n",
    "    trj.to_csv(os.path.join(ctrj_path,f\"ctrj{realization}.csv\"))\n",
    "    \n",
    "    return None"
   ]
  },
  {
   "cell_type": "code",
   "execution_count": null,
   "metadata": {},
   "outputs": [],
   "source": [
    "smolaf2 = pd.read_csv(os.path.join(data_path,'smolaf2.csv'),index_col=0)\n",
    "smolaf2"
   ]
  },
  {
   "cell_type": "code",
   "execution_count": null,
   "metadata": {},
   "outputs": [],
   "source": [
    "import concurrent.futures"
   ]
  },
  {
   "cell_type": "code",
   "execution_count": null,
   "metadata": {},
   "outputs": [],
   "source": [
    "runs = 5\n",
    "realizations = list(range(1,runs+1))\n",
    "with concurrent.futures.ThreadPoolExecutor(max_workers=5) as executor:\n",
    "    # map the function to the realizations\n",
    "    results = list(\n",
    "        executor.map(\n",
    "            jesus_take_the_wheels,\n",
    "            [smol_params] * len(realizations),\n",
    "            [smolaf2] * len(realizations),\n",
    "            [data_path] * len(realizations),\n",
    "            realizations,\n",
    "        )\n",
    "    )"
   ]
  },
  {
   "cell_type": "code",
   "execution_count": null,
   "metadata": {},
   "outputs": [],
   "source": [
    "trj_raw = trj = pd.read_csv(os.path.join(data_path,'trj/trj1.csv'), index_col=[0,1])\n",
    "ctrj_raw = pd.read_csv(os.path.join(data_path,'ctrj/ctrj1.csv'), index_col=[0,1])\n",
    "\n",
    "fig, axes = plt.subplots(1,3,figsize=(9,2),dpi=150)\n",
    "\n",
    "ax = axes[0]\n",
    "ax.plot(np.array(trj_raw.loc[idx[:,1],\"t\"]),np.array(trj_raw.loc[idx[:,1],\"mux\"]))\n",
    "ax.set_title(\"$\\\\sim B_x$\")\n",
    "ax.ticklabel_format(style='sci',scilimits=(0,0))\n",
    "\n",
    "ax = axes[1]\n",
    "ax.plot(np.array(trj_raw.loc[idx[:,1],\"t\"]),np.array(trj_raw.loc[idx[:,1],\"muy\"]))\n",
    "ax.set_title(\"$\\\\sim B_y$\")\n",
    "ax.ticklabel_format(style='sci',scilimits=(0,0))\n",
    "\n",
    "ax = axes[2]\n",
    "ax.plot(np.array(trj_raw.loc[idx[:,1],\"t\"]),np.array(trj_raw.loc[idx[:,1],\"muz\"]))\n",
    "ax.set_title(\"$\\\\sim B_z$\")\n",
    "ax.ticklabel_format(style='sci',scilimits=(0,0))\n",
    "\n",
    "plt.show()"
   ]
  },
  {
   "cell_type": "markdown",
   "metadata": {},
   "source": [
    "## AF2 vertex counting"
   ]
  },
  {
   "cell_type": "code",
   "execution_count": null,
   "metadata": {},
   "outputs": [],
   "source": [
    "trj_path = os.path.join(data_path,\"trj\")\n",
    "ctrj_path = os.path.join(data_path,\"ctrj\")\n",
    "vrt_path = os.path.join(data_path,\"vertices\")\n",
    "\n",
    "# Get the number of realizations\n",
    "_, _, files = next(os.walk(trj_path))\n",
    "realizations = len(files)\n",
    "\n",
    "for i in range(1,5+1):\n",
    "    print(\"========================================\")\n",
    "    print(f\"Working on realization {i}\")\n",
    "\n",
    "    # Importing files\n",
    "    trj_file = os.path.join(trj_path,f\"trj{i}.csv\")\n",
    "    print(f\"Opening \" + trj_file)\n",
    "    ctrj_file = os.path.join(ctrj_path,f\"ctrj{i}.csv\")\n",
    "    print(f\"Opening \" + ctrj_file)\n",
    "    trj_raw = trj = pd.read_csv(trj_file, index_col=[0,1])\n",
    "    ctrj_raw = pd.read_csv(ctrj_file, index_col=[0,1])\n",
    "\n",
    "    # Doing shit with the vertices\n",
    "    v = ice.vertices()\n",
    "    frames = ctrj_raw.index.get_level_values(\"frame\").unique()\n",
    "\n",
    "    vrt_file = os.path.join(vrt_path,f\"vertices{i}.csv\")\n",
    "    v.trj_to_vertices(ctrj_raw.loc[frames[::2]])\n",
    "\n",
    "    print(f\"Saving vertices to \" + vrt_file)\n",
    "    v.vertices.to_csv(vrt_file)\n",
    "    \n",
    "    clear_output(wait=True)"
   ]
  },
  {
   "cell_type": "code",
   "execution_count": null,
   "metadata": {},
   "outputs": [],
   "source": [
    "vrt_path = os.path.join(data_path,\"vertices/\")\n",
    "vertices = aux.getVerticesDict(vrt_path)\n",
    "counts = aux.getVerticesCount(vertices)\n",
    "vrt_ts = aux.getVerticesAverage(counts,params[\"framespersec\"])\n",
    "types = vrt_ts.columns.to_list()[1:]\n",
    "t = vrt_ts[\"time\"].to_numpy()\n",
    "vrt_counts = vrt_ts[types].to_numpy()"
   ]
  },
  {
   "cell_type": "code",
   "execution_count": null,
   "metadata": {},
   "outputs": [],
   "source": [
    "field = t * params[\"max_field\"].magnitude / quench_time.magnitude\n",
    "params[\"max_field\"]"
   ]
  },
  {
   "cell_type": "code",
   "execution_count": null,
   "metadata": {},
   "outputs": [],
   "source": [
    "fig, ax = plt.subplots(figsize=(10,4))\n",
    "\n",
    "ax.plot(t,vrt_counts[:,0])\n",
    "ax.plot(t,vrt_counts[:,1])\n",
    "ax.plot(t,vrt_counts[:,2])\n",
    "ax.plot(t,vrt_counts[:,3])\n",
    "ax.plot(t,vrt_counts[:,4])\n",
    "ax.plot(t,vrt_counts[:,5])\n",
    "\n",
    "ax.legend(types, fontsize=12,title='Type', title_fontsize=15, edgecolor='black')\n",
    "ax.set_xlabel(\"$t$  [ s ] \", fontsize=15)\n",
    "ax.set_ylabel(\"Vertices counts\", fontsize=15)\n",
    "ax.set_xlim(0,params['total_time'].magnitude)\n",
    "ax.set_ylim(0,1)\n",
    "plt.show()\n",
    "\n",
    "fig.savefig('../data/vertices_full.pdf', bbox_inches='tight')\n",
    "fig.savefig('../data/vertices_full.jpeg', dpi=300)"
   ]
  },
  {
   "cell_type": "markdown",
   "metadata": {},
   "source": [
    "# Preparing Big State"
   ]
  },
  {
   "cell_type": "code",
   "execution_count": null,
   "metadata": {},
   "outputs": [],
   "source": [
    "quench_time = 120*ureg.s\n",
    "rotation_time = 0*ureg.s\n",
    "total_time = quench_time + rotation_time\n",
    "data_path = \"../data/test20/\"\n",
    "runs = 10\n",
    "\n",
    "params = {\n",
    "    \"particle_radius\":5*ureg.um,\n",
    "    \"particle_susceptibility\":0.0576,\n",
    "    \"particle_diffusion\":0.125*ureg.um**2/ureg.s,\n",
    "    \"particle_temperature\":300*ureg.K,\n",
    "    \"particle_density\":1000*ureg.kg/ureg.m**3,\n",
    "\n",
    "    \"trap_sep\":10*ureg.um,\n",
    "    \"trap_height\":4*ureg.pN*ureg.nm,\n",
    "    \"trap_stiffness\":10e-3*ureg.pN/ureg.nm,\n",
    "    \"height_spread\":0,\n",
    "    \"susceptibility_spread\":0,\n",
    "    \"isperiodic\":True,\n",
    "\n",
    "    \"total_time\":total_time,\n",
    "    \"framespersec\":20*ureg.Hz,\n",
    "    \"dt\":1*ureg.ms,\n",
    "    \"max_field\":5*ureg.mT,\n",
    "    \"sim_temp\":300*ureg.K,\n",
    "    \"sim_dipole_cutoff\":40*ureg.um,\n",
    "}\n",
    "\n",
    "params[\"lattice_constant\"] = params[\"trap_sep\"]+(2*params[\"particle_radius\"]+1*ureg.um)*np.sqrt(2)\n",
    "params[\"size\"] = 10"
   ]
  },
  {
   "cell_type": "code",
   "execution_count": null,
   "metadata": {},
   "outputs": [],
   "source": [
    "sp = ice.spins()\n",
    "\n",
    "N = params[\"size\"]\n",
    "a = params[\"lattice_constant\"]\n",
    "    \n",
    "# Create simulation objects\n",
    "sp.create_lattice(\"square\",[N,N],lattice_constant=a, border=\"periodic\")\n",
    "\n",
    "particle = ice.particle(radius = params[\"particle_radius\"],\n",
    "            susceptibility = params[\"particle_susceptibility\"],\n",
    "            diffusion = params[\"particle_diffusion\"],\n",
    "            temperature = params[\"particle_temperature\"],\n",
    "            density = params[\"particle_density\"])\n",
    "\n",
    "trap = ice.trap(trap_sep = params[\"trap_sep\"],\n",
    "            height = params[\"trap_height\"],\n",
    "            stiffness = params[\"trap_stiffness\"])\n",
    "\n",
    "col = ice.colloidal_ice(sp, particle, trap,\n",
    "                        height_spread = params[\"height_spread\"], \n",
    "                        susceptibility_spread = params[\"susceptibility_spread\"],\n",
    "                        periodic = params[\"isperiodic\"])\n",
    "\n",
    "col.region = np.array([[0,0,-3*(params[\"particle_radius\"]/a/N).magnitude],[1,1,3*(params[\"particle_radius\"]/a/N).magnitude]])*N*a\n",
    "\n",
    "col1 = col.copy(deep=True)"
   ]
  },
  {
   "cell_type": "code",
   "execution_count": null,
   "metadata": {},
   "outputs": [],
   "source": [
    "fig, ax = plt.subplots(figsize=(6,6) )\n",
    "col.display(ax)"
   ]
  },
  {
   "cell_type": "code",
   "execution_count": null,
   "metadata": {},
   "outputs": [],
   "source": [
    "flipsv = [100 + k + n for k in range(0,100,10) for n in range(0,10,2)]\n",
    "flipsh = [0 + k + n for k in range(0,100,10) for n in range(1,10,2)]\n",
    "flipsh2 = [0 + k + n for k in range(0,100,20) for n in range(0,10,1)]\n",
    "flips = flipsv + flipsh + flipsh2\n",
    "col1 = mc.flip_colloids(col1, indices=flips)\n"
   ]
  },
  {
   "cell_type": "code",
   "execution_count": null,
   "metadata": {},
   "outputs": [],
   "source": [
    "v = ice.vertices()\n",
    "v = v.colloids_to_vertices(col1)"
   ]
  },
  {
   "cell_type": "code",
   "execution_count": null,
   "metadata": {},
   "outputs": [],
   "source": [
    "fig, ax = plt.subplots(figsize=(6,6) )\n",
    "col1.display(ax)\n",
    "v.display(ax)"
   ]
  },
  {
   "cell_type": "code",
   "execution_count": null,
   "metadata": {},
   "outputs": [],
   "source": [
    "col1.to_ctrj().to_csv(os.path.join(data_path,'bigaf2.csv'))"
   ]
  },
  {
   "cell_type": "code",
   "execution_count": null,
   "metadata": {},
   "outputs": [],
   "source": [
    "os.path.join(data_path,'bigaf2.csv')"
   ]
  },
  {
   "cell_type": "markdown",
   "metadata": {},
   "source": [
    "## Evolution of big state"
   ]
  },
  {
   "cell_type": "code",
   "execution_count": null,
   "metadata": {},
   "outputs": [],
   "source": [
    "bigaf = pd.read_csv(os.path.join(data_path,'bigaf2.csv'),index_col=0)"
   ]
  },
  {
   "cell_type": "code",
   "execution_count": null,
   "metadata": {},
   "outputs": [],
   "source": [
    "runs = 5\n",
    "realizations = list(range(1,runs+1))\n",
    "with concurrent.futures.ThreadPoolExecutor(max_workers=5) as executor:\n",
    "    # map the function to the realizations\n",
    "    results = list(\n",
    "        executor.map(\n",
    "            jesus_take_the_wheels,\n",
    "            [params] * len(realizations),\n",
    "            [bigaf] * len(realizations),\n",
    "            [data_path] * len(realizations),\n",
    "            realizations,\n",
    "        )\n",
    "    )"
   ]
  },
  {
   "cell_type": "code",
   "execution_count": null,
   "metadata": {},
   "outputs": [],
   "source": [
    "get_md_colloid(params,bigaf,1)"
   ]
  }
 ],
 "metadata": {
  "kernelspec": {
   "display_name": "Python 3",
   "language": "python",
   "name": "python3"
  },
  "language_info": {
   "codemirror_mode": {
    "name": "ipython",
    "version": 3
   },
   "file_extension": ".py",
   "mimetype": "text/x-python",
   "name": "python",
   "nbconvert_exporter": "python",
   "pygments_lexer": "ipython3",
   "version": "3.8.10"
  }
 },
 "nbformat": 4,
 "nbformat_minor": 2
}
